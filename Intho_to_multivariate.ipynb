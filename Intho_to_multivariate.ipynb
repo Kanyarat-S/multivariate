{
  "nbformat": 4,
  "nbformat_minor": 0,
  "metadata": {
    "colab": {
      "name": "Intho to multivariate.ipynb",
      "provenance": [],
      "authorship_tag": "ABX9TyPMEmu9hpHKGWoLuOWRQnTI",
      "include_colab_link": true
    },
    "kernelspec": {
      "name": "python3",
      "display_name": "Python 3"
    }
  },
  "cells": [
    {
      "cell_type": "markdown",
      "metadata": {
        "id": "view-in-github",
        "colab_type": "text"
      },
      "source": [
        "<a href=\"https://colab.research.google.com/github/Kanyarat-S/multivariate/blob/main/Intho_to_multivariate.ipynb\" target=\"_parent\"><img src=\"https://colab.research.google.com/assets/colab-badge.svg\" alt=\"Open In Colab\"/></a>"
      ]
    },
    {
      "cell_type": "markdown",
      "metadata": {
        "id": "VbSZe6ADqZQC"
      },
      "source": [
        "กัลยารัตน์ แสนสมบัติ ID 6230205137"
      ]
    },
    {
      "cell_type": "markdown",
      "metadata": {
        "id": "q9hJF_6KrUJg"
      },
      "source": [
        "            0.เรียนในห้อง (ยังไง)\r\n",
        "            1.เรียนออนไลน์ปกติ\r\n",
        "            2.อัดวิดีโอลงกลุ่ม facebook แล้วมาตอบคอมเม้น\r\n",
        "            3 ......"
      ]
    },
    {
      "cell_type": "code",
      "metadata": {
        "id": "8PnY7q7EsNk-"
      },
      "source": [
        "[2] print( 'กัลยารัตน์' ) #single quote ( ' ) ใช้ล้อมข้อความ"
      ],
      "execution_count": null,
      "outputs": []
    },
    {
      "cell_type": "markdown",
      "metadata": {
        "id": "3NMhXgQFtOkm"
      },
      "source": [
        "                  กัลยารัตน์"
      ]
    },
    {
      "cell_type": "code",
      "metadata": {
        "id": "EBe60JAGtTbY"
      },
      "source": [
        ""
      ],
      "execution_count": null,
      "outputs": []
    }
  ]
}