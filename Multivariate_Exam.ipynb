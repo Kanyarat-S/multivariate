{
  "nbformat": 4,
  "nbformat_minor": 0,
  "metadata": {
    "colab": {
      "name": " Multivariate Exam.ipynb",
      "provenance": [],
      "include_colab_link": true
    },
    "kernelspec": {
      "name": "python3",
      "display_name": "Python 3"
    },
    "language_info": {
      "name": "python"
    }
  },
  "cells": [
    {
      "cell_type": "markdown",
      "metadata": {
        "id": "view-in-github",
        "colab_type": "text"
      },
      "source": [
        "<a href=\"https://colab.research.google.com/github/Kanyarat-S/multivariate/blob/main/Multivariate_Exam.ipynb\" target=\"_parent\"><img src=\"https://colab.research.google.com/assets/colab-badge.svg\" alt=\"Open In Colab\"/></a>"
      ]
    },
    {
      "cell_type": "markdown",
      "metadata": {
        "id": "JZxiNADfaDtv"
      },
      "source": [
        "ให้นักศึกษาทำข้อสอบใน Colab Notebook นี้โดยกรอกข้อมูลของตัวเองใน cell ที่ 2 แล้วรัน cell ที่ 1 - 5 และเริ่มทำข้อสอบใน cell ที่ 6 เป็นต้นไป\n",
        "\n",
        "โดยโจทย์คือ\n",
        "1. ข้อมูลโจทย์ อยู่ใน ตัวแปร ```Data```\n",
        "2. ทำ clustering แล้วทำ visualize ข้อมูลแบบ 2 มิติ\n",
        "3. ลด Dimension ของข้อมูลเหลือ 2 มิติ แล้วทำ clustering แล้ว visualize ข้อมูลแบบ 2 มิติ\n",
        "4. เปรียบเทียบความแตกต่างของผลข้อ 2. กับ ข้อ 3.\n",
        "5. เขียน comments อธิบายทุกขั้นตอน\n",
        "6. อัด video อธิบาย code ทุกๆขั้นตอนรวมถึงผลแล้วอัพลง youtube ในรูปแบบ unlist \n",
        "7. commit โดยใช้ชื่อ commit เป็น link youtube ที่อธิบาย code ในข้อ 6.\n",
        "\n",
        "กำหนดส่งวันที่ 2 พฤษภาคม 2564 (โดยให้มากรอกวันที่ commit ครั้งสุดท้ายใน sheet: https://docs.google.com/spreadsheets/d/1_qJwLDJVtOW1HxBcf_FHVc6UT4J_SOonuR6o3EEnVzw/edit?usp=sharing ช่อง Final)"
      ]
    },
    {
      "cell_type": "code",
      "metadata": {
        "id": "cWl2x1bPGtQl"
      },
      "source": [
        "from sklearn.datasets import make_blobs\n",
        "import random,math\n",
        "import numpy as np\n",
        "import pandas"
      ],
      "execution_count": 1,
      "outputs": []
    },
    {
      "cell_type": "code",
      "metadata": {
        "id": "gZfzuiHsZksh"
      },
      "source": [
        "Name = 'กัลยารัตน์ แสนสมบัติ'\n",
        "ID = '623020513-7'"
      ],
      "execution_count": 2,
      "outputs": []
    },
    {
      "cell_type": "code",
      "metadata": {
        "id": "8hFQXkF5aAiA"
      },
      "source": [
        "def DataGenerator(name,id):\n",
        "    random.seed(int(id[3:6]))\n",
        "    numfeat = random.randint(20,30)\n",
        "    ct = random.randint(len(name)-6,len(name))\n",
        "    \n",
        "    X, y = make_blobs(n_samples=10000, centers=ct, n_features=numfeat , random_state=int(id[3:6]))\n",
        "\n",
        "    print(f'{id[3:6]}:{numfeat}:{ct}')\n",
        "    X_t = (X[:,1]*2)+int(id[3])\n",
        "    X_t2 = (X[:,-1]*5)+int(id[4])\n",
        "\n",
        "    DT = np.append(X,X_t.reshape([10000,1]),axis=1)\n",
        "    DT = np.append(DT,X_t2.reshape([10000,1]),axis=1)\n",
        "    \n",
        "    return pandas.DataFrame(DT)"
      ],
      "execution_count": 3,
      "outputs": []
    },
    {
      "cell_type": "code",
      "metadata": {
        "colab": {
          "base_uri": "https://localhost:8080/"
        },
        "id": "hbXlxumSBX9i",
        "outputId": "fd8e68ca-ad98-4507-8bb3-a147cde0f94f"
      },
      "source": [
        "Data = DataGenerator(Name,ID)"
      ],
      "execution_count": 4,
      "outputs": [
        {
          "output_type": "stream",
          "text": [
            "020:30:20\n"
          ],
          "name": "stdout"
        }
      ]
    },
    {
      "cell_type": "code",
      "metadata": {
        "colab": {
          "base_uri": "https://localhost:8080/",
          "height": 419
        },
        "id": "pQcCySXvBdN-",
        "outputId": "34e8e25d-9f1e-4f2b-fda8-689d82dcf4e5"
      },
      "source": [
        "Data"
      ],
      "execution_count": 5,
      "outputs": [
        {
          "output_type": "execute_result",
          "data": {
            "text/html": [
              "<div>\n",
              "<style scoped>\n",
              "    .dataframe tbody tr th:only-of-type {\n",
              "        vertical-align: middle;\n",
              "    }\n",
              "\n",
              "    .dataframe tbody tr th {\n",
              "        vertical-align: top;\n",
              "    }\n",
              "\n",
              "    .dataframe thead th {\n",
              "        text-align: right;\n",
              "    }\n",
              "</style>\n",
              "<table border=\"1\" class=\"dataframe\">\n",
              "  <thead>\n",
              "    <tr style=\"text-align: right;\">\n",
              "      <th></th>\n",
              "      <th>0</th>\n",
              "      <th>1</th>\n",
              "      <th>2</th>\n",
              "      <th>3</th>\n",
              "      <th>4</th>\n",
              "      <th>5</th>\n",
              "      <th>6</th>\n",
              "      <th>7</th>\n",
              "      <th>8</th>\n",
              "      <th>9</th>\n",
              "      <th>10</th>\n",
              "      <th>11</th>\n",
              "      <th>12</th>\n",
              "      <th>13</th>\n",
              "      <th>14</th>\n",
              "      <th>15</th>\n",
              "      <th>16</th>\n",
              "      <th>17</th>\n",
              "      <th>18</th>\n",
              "      <th>19</th>\n",
              "      <th>20</th>\n",
              "      <th>21</th>\n",
              "      <th>22</th>\n",
              "      <th>23</th>\n",
              "      <th>24</th>\n",
              "      <th>25</th>\n",
              "      <th>26</th>\n",
              "      <th>27</th>\n",
              "      <th>28</th>\n",
              "      <th>29</th>\n",
              "      <th>30</th>\n",
              "      <th>31</th>\n",
              "    </tr>\n",
              "  </thead>\n",
              "  <tbody>\n",
              "    <tr>\n",
              "      <th>0</th>\n",
              "      <td>3.773747</td>\n",
              "      <td>6.061187</td>\n",
              "      <td>-9.222883</td>\n",
              "      <td>-8.954075</td>\n",
              "      <td>6.305175</td>\n",
              "      <td>0.292267</td>\n",
              "      <td>7.613113</td>\n",
              "      <td>1.220585</td>\n",
              "      <td>7.528680</td>\n",
              "      <td>-0.619801</td>\n",
              "      <td>7.349913</td>\n",
              "      <td>-2.810641</td>\n",
              "      <td>-3.111243</td>\n",
              "      <td>-1.079978</td>\n",
              "      <td>-2.554639</td>\n",
              "      <td>6.921826</td>\n",
              "      <td>-2.531105</td>\n",
              "      <td>-3.615193</td>\n",
              "      <td>-1.092670</td>\n",
              "      <td>-0.952016</td>\n",
              "      <td>3.812928</td>\n",
              "      <td>-7.987567</td>\n",
              "      <td>4.027819</td>\n",
              "      <td>-2.660919</td>\n",
              "      <td>7.456041</td>\n",
              "      <td>-7.316476</td>\n",
              "      <td>5.960466</td>\n",
              "      <td>-2.767330</td>\n",
              "      <td>-8.676474</td>\n",
              "      <td>5.676556</td>\n",
              "      <td>12.122375</td>\n",
              "      <td>30.382779</td>\n",
              "    </tr>\n",
              "    <tr>\n",
              "      <th>1</th>\n",
              "      <td>8.484404</td>\n",
              "      <td>-5.319557</td>\n",
              "      <td>-8.296086</td>\n",
              "      <td>-3.727046</td>\n",
              "      <td>3.417146</td>\n",
              "      <td>-2.354321</td>\n",
              "      <td>-3.198962</td>\n",
              "      <td>-5.068781</td>\n",
              "      <td>9.627884</td>\n",
              "      <td>-1.186137</td>\n",
              "      <td>7.624599</td>\n",
              "      <td>3.679341</td>\n",
              "      <td>-6.719260</td>\n",
              "      <td>9.427014</td>\n",
              "      <td>0.545413</td>\n",
              "      <td>-8.229463</td>\n",
              "      <td>0.397966</td>\n",
              "      <td>-6.307839</td>\n",
              "      <td>3.660300</td>\n",
              "      <td>-3.227168</td>\n",
              "      <td>-6.623447</td>\n",
              "      <td>9.712237</td>\n",
              "      <td>-7.599891</td>\n",
              "      <td>4.959062</td>\n",
              "      <td>2.586674</td>\n",
              "      <td>7.743150</td>\n",
              "      <td>-1.866618</td>\n",
              "      <td>-9.646674</td>\n",
              "      <td>-0.839624</td>\n",
              "      <td>-4.623120</td>\n",
              "      <td>-10.639114</td>\n",
              "      <td>-21.115602</td>\n",
              "    </tr>\n",
              "    <tr>\n",
              "      <th>2</th>\n",
              "      <td>-0.885176</td>\n",
              "      <td>-2.064377</td>\n",
              "      <td>-1.735326</td>\n",
              "      <td>7.347219</td>\n",
              "      <td>2.895234</td>\n",
              "      <td>-6.591421</td>\n",
              "      <td>4.689732</td>\n",
              "      <td>-1.831760</td>\n",
              "      <td>5.527787</td>\n",
              "      <td>-2.187902</td>\n",
              "      <td>-4.621077</td>\n",
              "      <td>-2.095996</td>\n",
              "      <td>-6.282829</td>\n",
              "      <td>-6.921801</td>\n",
              "      <td>-3.469243</td>\n",
              "      <td>3.709721</td>\n",
              "      <td>1.311006</td>\n",
              "      <td>8.423316</td>\n",
              "      <td>4.180588</td>\n",
              "      <td>-7.635288</td>\n",
              "      <td>8.171219</td>\n",
              "      <td>-4.399013</td>\n",
              "      <td>-8.206858</td>\n",
              "      <td>-2.485293</td>\n",
              "      <td>2.718617</td>\n",
              "      <td>-3.658901</td>\n",
              "      <td>-3.315503</td>\n",
              "      <td>8.318886</td>\n",
              "      <td>9.889534</td>\n",
              "      <td>4.934751</td>\n",
              "      <td>-4.128754</td>\n",
              "      <td>26.673756</td>\n",
              "    </tr>\n",
              "    <tr>\n",
              "      <th>3</th>\n",
              "      <td>0.928953</td>\n",
              "      <td>-3.955223</td>\n",
              "      <td>-7.030693</td>\n",
              "      <td>9.744129</td>\n",
              "      <td>-0.342992</td>\n",
              "      <td>1.773401</td>\n",
              "      <td>-7.167229</td>\n",
              "      <td>4.207292</td>\n",
              "      <td>3.302174</td>\n",
              "      <td>3.398619</td>\n",
              "      <td>5.902347</td>\n",
              "      <td>6.416682</td>\n",
              "      <td>-1.720844</td>\n",
              "      <td>8.569327</td>\n",
              "      <td>-9.563628</td>\n",
              "      <td>5.719072</td>\n",
              "      <td>6.597021</td>\n",
              "      <td>0.552377</td>\n",
              "      <td>3.057767</td>\n",
              "      <td>9.206791</td>\n",
              "      <td>-3.929266</td>\n",
              "      <td>-0.312406</td>\n",
              "      <td>-0.848727</td>\n",
              "      <td>5.037263</td>\n",
              "      <td>-9.414485</td>\n",
              "      <td>-8.538412</td>\n",
              "      <td>-6.457095</td>\n",
              "      <td>8.513097</td>\n",
              "      <td>-3.362707</td>\n",
              "      <td>4.125484</td>\n",
              "      <td>-7.910447</td>\n",
              "      <td>22.627419</td>\n",
              "    </tr>\n",
              "    <tr>\n",
              "      <th>4</th>\n",
              "      <td>-5.690987</td>\n",
              "      <td>-3.517787</td>\n",
              "      <td>-2.858825</td>\n",
              "      <td>-7.169143</td>\n",
              "      <td>-5.605544</td>\n",
              "      <td>-9.054258</td>\n",
              "      <td>6.521987</td>\n",
              "      <td>-0.913724</td>\n",
              "      <td>-7.339663</td>\n",
              "      <td>-9.462569</td>\n",
              "      <td>1.945500</td>\n",
              "      <td>-4.143945</td>\n",
              "      <td>1.903859</td>\n",
              "      <td>-0.889551</td>\n",
              "      <td>9.734788</td>\n",
              "      <td>2.465684</td>\n",
              "      <td>-0.186815</td>\n",
              "      <td>10.274393</td>\n",
              "      <td>5.035283</td>\n",
              "      <td>-7.027597</td>\n",
              "      <td>-8.250220</td>\n",
              "      <td>0.108123</td>\n",
              "      <td>6.192776</td>\n",
              "      <td>2.864375</td>\n",
              "      <td>-6.834458</td>\n",
              "      <td>-2.341450</td>\n",
              "      <td>-6.447813</td>\n",
              "      <td>-8.751939</td>\n",
              "      <td>-7.332672</td>\n",
              "      <td>5.696778</td>\n",
              "      <td>-7.035574</td>\n",
              "      <td>30.483889</td>\n",
              "    </tr>\n",
              "    <tr>\n",
              "      <th>...</th>\n",
              "      <td>...</td>\n",
              "      <td>...</td>\n",
              "      <td>...</td>\n",
              "      <td>...</td>\n",
              "      <td>...</td>\n",
              "      <td>...</td>\n",
              "      <td>...</td>\n",
              "      <td>...</td>\n",
              "      <td>...</td>\n",
              "      <td>...</td>\n",
              "      <td>...</td>\n",
              "      <td>...</td>\n",
              "      <td>...</td>\n",
              "      <td>...</td>\n",
              "      <td>...</td>\n",
              "      <td>...</td>\n",
              "      <td>...</td>\n",
              "      <td>...</td>\n",
              "      <td>...</td>\n",
              "      <td>...</td>\n",
              "      <td>...</td>\n",
              "      <td>...</td>\n",
              "      <td>...</td>\n",
              "      <td>...</td>\n",
              "      <td>...</td>\n",
              "      <td>...</td>\n",
              "      <td>...</td>\n",
              "      <td>...</td>\n",
              "      <td>...</td>\n",
              "      <td>...</td>\n",
              "      <td>...</td>\n",
              "      <td>...</td>\n",
              "    </tr>\n",
              "    <tr>\n",
              "      <th>9995</th>\n",
              "      <td>7.631343</td>\n",
              "      <td>-5.922440</td>\n",
              "      <td>-7.594832</td>\n",
              "      <td>-1.042551</td>\n",
              "      <td>3.699737</td>\n",
              "      <td>0.414187</td>\n",
              "      <td>-1.054134</td>\n",
              "      <td>-8.502152</td>\n",
              "      <td>8.658479</td>\n",
              "      <td>4.100714</td>\n",
              "      <td>7.837780</td>\n",
              "      <td>3.280779</td>\n",
              "      <td>-7.556245</td>\n",
              "      <td>7.024185</td>\n",
              "      <td>-1.320418</td>\n",
              "      <td>-9.951174</td>\n",
              "      <td>-0.452707</td>\n",
              "      <td>-5.646853</td>\n",
              "      <td>5.616549</td>\n",
              "      <td>-4.387339</td>\n",
              "      <td>-7.612117</td>\n",
              "      <td>9.434799</td>\n",
              "      <td>-7.439684</td>\n",
              "      <td>5.362935</td>\n",
              "      <td>5.604233</td>\n",
              "      <td>7.636980</td>\n",
              "      <td>-3.764263</td>\n",
              "      <td>-9.298095</td>\n",
              "      <td>-4.074592</td>\n",
              "      <td>-3.094425</td>\n",
              "      <td>-11.844880</td>\n",
              "      <td>-13.472124</td>\n",
              "    </tr>\n",
              "    <tr>\n",
              "      <th>9996</th>\n",
              "      <td>-9.164097</td>\n",
              "      <td>3.211174</td>\n",
              "      <td>-1.865883</td>\n",
              "      <td>-9.905384</td>\n",
              "      <td>-3.836890</td>\n",
              "      <td>7.568548</td>\n",
              "      <td>-5.732555</td>\n",
              "      <td>-7.434602</td>\n",
              "      <td>-5.328562</td>\n",
              "      <td>11.115293</td>\n",
              "      <td>2.945332</td>\n",
              "      <td>1.038299</td>\n",
              "      <td>0.860420</td>\n",
              "      <td>7.597590</td>\n",
              "      <td>-0.083376</td>\n",
              "      <td>4.711684</td>\n",
              "      <td>6.783715</td>\n",
              "      <td>8.115086</td>\n",
              "      <td>-7.911840</td>\n",
              "      <td>-3.839552</td>\n",
              "      <td>6.007630</td>\n",
              "      <td>-0.106223</td>\n",
              "      <td>-2.183768</td>\n",
              "      <td>3.416250</td>\n",
              "      <td>2.309178</td>\n",
              "      <td>-3.919674</td>\n",
              "      <td>4.573433</td>\n",
              "      <td>-5.643815</td>\n",
              "      <td>6.567515</td>\n",
              "      <td>-10.614089</td>\n",
              "      <td>6.422348</td>\n",
              "      <td>-51.070443</td>\n",
              "    </tr>\n",
              "    <tr>\n",
              "      <th>9997</th>\n",
              "      <td>-4.069899</td>\n",
              "      <td>-2.351560</td>\n",
              "      <td>-0.134604</td>\n",
              "      <td>-5.629799</td>\n",
              "      <td>-5.620890</td>\n",
              "      <td>-9.770339</td>\n",
              "      <td>6.168892</td>\n",
              "      <td>0.835266</td>\n",
              "      <td>-3.912655</td>\n",
              "      <td>-7.703638</td>\n",
              "      <td>1.361204</td>\n",
              "      <td>-3.658080</td>\n",
              "      <td>2.902530</td>\n",
              "      <td>-0.667720</td>\n",
              "      <td>7.789704</td>\n",
              "      <td>2.017346</td>\n",
              "      <td>1.698594</td>\n",
              "      <td>8.220736</td>\n",
              "      <td>4.792831</td>\n",
              "      <td>-8.864895</td>\n",
              "      <td>-8.932504</td>\n",
              "      <td>-0.911860</td>\n",
              "      <td>4.953654</td>\n",
              "      <td>-1.065717</td>\n",
              "      <td>-6.648004</td>\n",
              "      <td>-2.566931</td>\n",
              "      <td>-6.526202</td>\n",
              "      <td>-7.488712</td>\n",
              "      <td>-6.361973</td>\n",
              "      <td>5.717083</td>\n",
              "      <td>-4.703120</td>\n",
              "      <td>30.585414</td>\n",
              "    </tr>\n",
              "    <tr>\n",
              "      <th>9998</th>\n",
              "      <td>4.873270</td>\n",
              "      <td>-1.541458</td>\n",
              "      <td>-7.629112</td>\n",
              "      <td>2.557538</td>\n",
              "      <td>8.061374</td>\n",
              "      <td>9.162759</td>\n",
              "      <td>5.372126</td>\n",
              "      <td>1.288333</td>\n",
              "      <td>-8.305103</td>\n",
              "      <td>6.020796</td>\n",
              "      <td>3.953505</td>\n",
              "      <td>0.351103</td>\n",
              "      <td>4.409830</td>\n",
              "      <td>8.857026</td>\n",
              "      <td>-6.120125</td>\n",
              "      <td>-5.882252</td>\n",
              "      <td>-1.019697</td>\n",
              "      <td>-3.206716</td>\n",
              "      <td>-3.188903</td>\n",
              "      <td>4.414865</td>\n",
              "      <td>2.048225</td>\n",
              "      <td>-6.216080</td>\n",
              "      <td>0.629628</td>\n",
              "      <td>-5.189581</td>\n",
              "      <td>-8.773632</td>\n",
              "      <td>3.442669</td>\n",
              "      <td>10.901293</td>\n",
              "      <td>-8.050083</td>\n",
              "      <td>-2.491982</td>\n",
              "      <td>-5.548942</td>\n",
              "      <td>-3.082917</td>\n",
              "      <td>-25.744708</td>\n",
              "    </tr>\n",
              "    <tr>\n",
              "      <th>9999</th>\n",
              "      <td>2.288627</td>\n",
              "      <td>-4.526859</td>\n",
              "      <td>-7.115958</td>\n",
              "      <td>8.831976</td>\n",
              "      <td>-2.778777</td>\n",
              "      <td>6.490409</td>\n",
              "      <td>-6.826556</td>\n",
              "      <td>3.687156</td>\n",
              "      <td>3.422328</td>\n",
              "      <td>5.802015</td>\n",
              "      <td>8.583471</td>\n",
              "      <td>5.202368</td>\n",
              "      <td>-3.003082</td>\n",
              "      <td>8.323385</td>\n",
              "      <td>-9.347540</td>\n",
              "      <td>5.883201</td>\n",
              "      <td>6.979786</td>\n",
              "      <td>1.756422</td>\n",
              "      <td>2.092115</td>\n",
              "      <td>9.952102</td>\n",
              "      <td>-3.353897</td>\n",
              "      <td>-0.326613</td>\n",
              "      <td>0.981448</td>\n",
              "      <td>5.544599</td>\n",
              "      <td>-9.857224</td>\n",
              "      <td>-7.874556</td>\n",
              "      <td>-8.274386</td>\n",
              "      <td>5.699647</td>\n",
              "      <td>-3.170456</td>\n",
              "      <td>1.459426</td>\n",
              "      <td>-9.053718</td>\n",
              "      <td>9.297129</td>\n",
              "    </tr>\n",
              "  </tbody>\n",
              "</table>\n",
              "<p>10000 rows × 32 columns</p>\n",
              "</div>"
            ],
            "text/plain": [
              "            0         1         2   ...         29         30         31\n",
              "0     3.773747  6.061187 -9.222883  ...   5.676556  12.122375  30.382779\n",
              "1     8.484404 -5.319557 -8.296086  ...  -4.623120 -10.639114 -21.115602\n",
              "2    -0.885176 -2.064377 -1.735326  ...   4.934751  -4.128754  26.673756\n",
              "3     0.928953 -3.955223 -7.030693  ...   4.125484  -7.910447  22.627419\n",
              "4    -5.690987 -3.517787 -2.858825  ...   5.696778  -7.035574  30.483889\n",
              "...        ...       ...       ...  ...        ...        ...        ...\n",
              "9995  7.631343 -5.922440 -7.594832  ...  -3.094425 -11.844880 -13.472124\n",
              "9996 -9.164097  3.211174 -1.865883  ... -10.614089   6.422348 -51.070443\n",
              "9997 -4.069899 -2.351560 -0.134604  ...   5.717083  -4.703120  30.585414\n",
              "9998  4.873270 -1.541458 -7.629112  ...  -5.548942  -3.082917 -25.744708\n",
              "9999  2.288627 -4.526859 -7.115958  ...   1.459426  -9.053718   9.297129\n",
              "\n",
              "[10000 rows x 32 columns]"
            ]
          },
          "metadata": {
            "tags": []
          },
          "execution_count": 5
        }
      ]
    },
    {
      "cell_type": "markdown",
      "metadata": {
        "id": "rDOhqLStRoh3"
      },
      "source": [
        "ทำการเตรียมข้อมูลก่อนจะนำข้อมูลไปใช้ โดยการตัดตัวที่มี correlation กันออกไป เพื่อลดข้อมูลที่เหมือนกันออกจาก Data"
      ]
    },
    {
      "cell_type": "code",
      "metadata": {
        "id": "jUARadkFEuyJ",
        "colab": {
          "base_uri": "https://localhost:8080/"
        },
        "outputId": "bc488572-ecf9-4be9-9517-0f336bf435a2"
      },
      "source": [
        "Data.shape #ดูขนาดของข้อมูล Data ก่อน"
      ],
      "execution_count": 11,
      "outputs": [
        {
          "output_type": "execute_result",
          "data": {
            "text/plain": [
              "(10000, 32)"
            ]
          },
          "metadata": {
            "tags": []
          },
          "execution_count": 11
        }
      ]
    },
    {
      "cell_type": "markdown",
      "metadata": {
        "id": "NFv0yyzilg0Y"
      },
      "source": [
        "###Import"
      ]
    },
    {
      "cell_type": "code",
      "metadata": {
        "id": "q4dXz7Gsle9z"
      },
      "source": [
        "from sklearn.cluster import KMeans"
      ],
      "execution_count": 12,
      "outputs": []
    },
    {
      "cell_type": "markdown",
      "metadata": {
        "id": "KEamB-dalvNo"
      },
      "source": [
        "###Define"
      ]
    },
    {
      "cell_type": "code",
      "metadata": {
        "id": "T80SiqltlqsM"
      },
      "source": [
        "kmeans = KMeans(random_state=2021)"
      ],
      "execution_count": 13,
      "outputs": []
    },
    {
      "cell_type": "markdown",
      "metadata": {
        "id": "0GFuAmxhmszk"
      },
      "source": [
        "####คำนวณหาจุด cluter centers ของข้อมูล example_df_drop ด้วยวิธี K-means clustering"
      ]
    },
    {
      "cell_type": "code",
      "metadata": {
        "colab": {
          "base_uri": "https://localhost:8080/"
        },
        "id": "MDe0-bN_lzMR",
        "outputId": "8b2b95f4-e3bc-4126-9895-3d52906dd306"
      },
      "source": [
        "kmeans.fit(Data)##คำนวณหาจุด cluter centers ของข้อมูล example_df_drop ด้วยวิธี K-means clustering"
      ],
      "execution_count": 16,
      "outputs": [
        {
          "output_type": "execute_result",
          "data": {
            "text/plain": [
              "KMeans(algorithm='auto', copy_x=True, init='k-means++', max_iter=300,\n",
              "       n_clusters=8, n_init=10, n_jobs=None, precompute_distances='auto',\n",
              "       random_state=2021, tol=0.0001, verbose=0)"
            ]
          },
          "metadata": {
            "tags": []
          },
          "execution_count": 16
        }
      ]
    },
    {
      "cell_type": "markdown",
      "metadata": {
        "id": "-ZH1cuz6mncP"
      },
      "source": [
        "###ทำสอบการจัดกลุ่มของ Data"
      ]
    },
    {
      "cell_type": "code",
      "metadata": {
        "colab": {
          "base_uri": "https://localhost:8080/"
        },
        "id": "r4lKTvc_l6wJ",
        "outputId": "5d148b6f-533e-4a00-8801-78c4ef10e2e1"
      },
      "source": [
        "y = kmeans.predict(Data) \n",
        "y"
      ],
      "execution_count": 17,
      "outputs": [
        {
          "output_type": "execute_result",
          "data": {
            "text/plain": [
              "array([7, 0, 5, ..., 1, 4, 5], dtype=int32)"
            ]
          },
          "metadata": {
            "tags": []
          },
          "execution_count": 17
        }
      ]
    },
    {
      "cell_type": "markdown",
      "metadata": {
        "id": "GMfdT8HGm9qN"
      },
      "source": [
        "##ทำ PCA"
      ]
    },
    {
      "cell_type": "code",
      "metadata": {
        "id": "b6dSo1i1m4Lc"
      },
      "source": [
        "from sklearn.decomposition import PCA\n",
        "\n",
        "pca = PCA(n_components=2)\n",
        "\n",
        "new_pca = pca.fit_transform(Data)"
      ],
      "execution_count": 18,
      "outputs": []
    },
    {
      "cell_type": "code",
      "metadata": {
        "id": "T6j0Ub6wnEtb"
      },
      "source": [
        "from matplotlib import pyplot as plt"
      ],
      "execution_count": 19,
      "outputs": []
    },
    {
      "cell_type": "code",
      "metadata": {
        "colab": {
          "base_uri": "https://localhost:8080/",
          "height": 282
        },
        "id": "cslx5SvvnHoD",
        "outputId": "40ee2c9a-25a9-4b6d-cbfd-91d7551af161"
      },
      "source": [
        "kmeans = KMeans(random_state=2021)\n",
        "kmeans.fit(Data)\n",
        "y = kmeans.predict(Data)\n",
        "plt.scatter(new_pca[:,0],new_pca[:,1],c=y)"
      ],
      "execution_count": 20,
      "outputs": [
        {
          "output_type": "execute_result",
          "data": {
            "text/plain": [
              "<matplotlib.collections.PathCollection at 0x7f2b344be690>"
            ]
          },
          "metadata": {
            "tags": []
          },
          "execution_count": 20
        },
        {
          "output_type": "display_data",
          "data": {
            "image/png": "[encoded data removed]",
            "text/plain": [
              "<Figure size 432x288 with 1 Axes>"
            ]
          },
          "metadata": {
            "tags": [],
            "needs_background": "light"
          }
        }
      ]
    },
    {
      "cell_type": "markdown",
      "metadata": {
        "id": "hPLq-f7HqgyZ"
      },
      "source": [
        "##Elbow Method"
      ]
    },
    {
      "cell_type": "markdown",
      "metadata": {
        "id": "S1AP1PlBplbO"
      },
      "source": [
        "###SSE"
      ]
    },
    {
      "cell_type": "code",
      "metadata": {
        "colab": {
          "base_uri": "https://localhost:8080/"
        },
        "id": "9jcLbwINpnuR",
        "outputId": "c55fc58c-786a-4459-8f25-77386dfb344a"
      },
      "source": [
        "kmeans.inertia_ "
      ],
      "execution_count": 23,
      "outputs": [
        {
          "output_type": "execute_result",
          "data": {
            "text/plain": [
              "10989012.264080929"
            ]
          },
          "metadata": {
            "tags": []
          },
          "execution_count": 23
        }
      ]
    },
    {
      "cell_type": "code",
      "metadata": {
        "id": "oWhC1vK6p4i3"
      },
      "source": [
        "SSE = list()\n",
        "for k in [1,2,3,4,5,6,7,8]:\n",
        "    kmeans = KMeans(n_clusters = k , random_state = 2021)\n",
        "    XX = kmeans.fit(Data)\n",
        "    SSE.append(kmeans.inertia_)"
      ],
      "execution_count": 24,
      "outputs": []
    },
    {
      "cell_type": "code",
      "metadata": {
        "colab": {
          "base_uri": "https://localhost:8080/"
        },
        "id": "gm8Rxbvhp9-T",
        "outputId": "3d69382a-61f9-47b8-99fb-3750cb272b48"
      },
      "source": [
        "SSE"
      ],
      "execution_count": 25,
      "outputs": [
        {
          "output_type": "execute_result",
          "data": {
            "text/plain": [
              "[21043525.2946053,\n",
              " 12533065.08609684,\n",
              " 10989012.264080929,\n",
              " 9863756.63160429,\n",
              " 9019631.747012235,\n",
              " 8248184.2299705325,\n",
              " 7377188.501246718,\n",
              " 6571670.621149184]"
            ]
          },
          "metadata": {
            "tags": []
          },
          "execution_count": 25
        }
      ]
    },
    {
      "cell_type": "code",
      "metadata": {
        "colab": {
          "base_uri": "https://localhost:8080/",
          "height": 290
        },
        "id": "W52LuMjAqC1K",
        "outputId": "c61e7494-c319-43f7-a9ac-876037ec1558"
      },
      "source": [
        "plt.plot([1,2,3,4,5,6,7,8],SSE,'o-b')\n",
        "\n",
        "plt.xlabel('k')\n",
        "plt.ylabel('SSE');"
      ],
      "execution_count": 26,
      "outputs": [
        {
          "output_type": "display_data",
          "data": {
            "image/png": "[encoded data removed]",
            "text/plain": [
              "<Figure size 432x288 with 1 Axes>"
            ]
          },
          "metadata": {
            "tags": [],
            "needs_background": "light"
          }
        }
      ]
    },
    {
      "cell_type": "markdown",
      "metadata": {
        "id": "HakGVDMRsOYy"
      },
      "source": [
        "จากกราฟจะบอกได้ว่า k มีทั้งหมด 3 กลุ่ม ดูจากจุดที่ k ที่ 3 เริ่มมีความแตกต่างของระยะห่างระหว่างจุดที่ใกล้กัน"
      ]
    },
    {
      "cell_type": "markdown",
      "metadata": {
        "id": "Yknla7cnseVa"
      },
      "source": [
        "##หาค่า k ด้วยวิธี \" The silhouette coefficient \""
      ]
    },
    {
      "cell_type": "code",
      "metadata": {
        "id": "xKuJfkMHqudr"
      },
      "source": [
        "from sklearn import metrics"
      ],
      "execution_count": 27,
      "outputs": []
    },
    {
      "cell_type": "code",
      "metadata": {
        "id": "cSYchMW4rA12"
      },
      "source": [
        "SilH = list()\n",
        "for k in [2,3,4,5,6,7,8]:\n",
        "    kmeans = KMeans(n_clusters=k, random_state=2021)\n",
        "    kmeans.fit(Data)\n",
        "    score = metrics.silhouette_score(Data,kmeans.labels_)\n",
        "    SilH.append(score)"
      ],
      "execution_count": 28,
      "outputs": []
    },
    {
      "cell_type": "code",
      "metadata": {
        "colab": {
          "base_uri": "https://localhost:8080/",
          "height": 279
        },
        "id": "a6kbUUGlrOKo",
        "outputId": "e80a61b1-cb46-4c9a-e476-4abe674222cf"
      },
      "source": [
        "plt.plot([2,3,4,5,6,7,8],SilH,'o-g')\n",
        "plt.xlabel('k')\n",
        "plt.ylabel('Silhouette Score');"
      ],
      "execution_count": 29,
      "outputs": [
        {
          "output_type": "display_data",
          "data": {
            "image/png": "[encoded data removed]",
            "text/plain": [
              "<Figure size 432x288 with 1 Axes>"
            ]
          },
          "metadata": {
            "tags": [],
            "needs_background": "light"
          }
        }
      ]
    },
    {
      "cell_type": "markdown",
      "metadata": {
        "id": "jap24Z9krr4v"
      },
      "source": [
        "จากกราฟจะบอกได้ว่า k มีทั้งหมด 3 กลุ่ม "
      ]
    },
    {
      "cell_type": "code",
      "metadata": {
        "colab": {
          "base_uri": "https://localhost:8080/",
          "height": 282
        },
        "id": "hdBumhWzrTs9",
        "outputId": "1a1d8b00-f7d6-4f03-f7a5-0884e6ab82c6"
      },
      "source": [
        "kmeans = KMeans(n_clusters = 3,random_state=2021)\n",
        "kmeans.fit(Data)\n",
        "y = kmeans.predict(Data)\n",
        "plt.scatter(new_pca[:,0],new_pca[:,1],c=y,alpha=0.5)"
      ],
      "execution_count": 35,
      "outputs": [
        {
          "output_type": "execute_result",
          "data": {
            "text/plain": [
              "<matplotlib.collections.PathCollection at 0x7f2b33c2fc90>"
            ]
          },
          "metadata": {
            "tags": []
          },
          "execution_count": 35
        },
        {
          "output_type": "display_data",
          "data": {
            "image/png": "[encoded data removed]",
            "text/plain": [
              "<Figure size 432x288 with 1 Axes>"
            ]
          },
          "metadata": {
            "tags": [],
            "needs_background": "light"
          }
        }
      ]
    },
    {
      "cell_type": "markdown",
      "metadata": {
        "id": "A5m405dTt425"
      },
      "source": [
        "จากกราฟจะเห้นได้ว่า เมื่อจัดกลุ่ม k ให้เท่ากับ 3 กลุ่มแล้ว จะมีข้อมูลบางจำนวนที่ทับซ้อนกัน และะเห็นได้อีกว่าข้อมูลชุดนี้ปริมาณที่มาก"
      ]
    },
    {
      "cell_type": "code",
      "metadata": {
        "id": "Ol_ZaM_TtLG9"
      },
      "source": [
        "corr = np.corrcoef(Data.to_numpy().T)"
      ],
      "execution_count": 36,
      "outputs": []
    },
    {
      "cell_type": "code",
      "metadata": {
        "colab": {
          "base_uri": "https://localhost:8080/"
        },
        "id": "2OU59i0NxGIS",
        "outputId": "15f969b9-4e12-4345-baf0-1951785e2f31"
      },
      "source": [
        "corr.shape"
      ],
      "execution_count": 37,
      "outputs": [
        {
          "output_type": "execute_result",
          "data": {
            "text/plain": [
              "(32, 32)"
            ]
          },
          "metadata": {
            "tags": []
          },
          "execution_count": 37
        }
      ]
    },
    {
      "cell_type": "code",
      "metadata": {
        "colab": {
          "base_uri": "https://localhost:8080/"
        },
        "id": "iwgA7BV1xVur",
        "outputId": "dc73733d-912b-4401-bdf9-4e9061f3712f"
      },
      "source": [
        "corr"
      ],
      "execution_count": 38,
      "outputs": [
        {
          "output_type": "execute_result",
          "data": {
            "text/plain": [
              "array([[ 1.        ,  0.01185574, -0.01839796, ...,  0.14290484,\n",
              "         0.01185574,  0.14290484],\n",
              "       [ 0.01185574,  1.        ,  0.20075925, ...,  0.08729637,\n",
              "         1.        ,  0.08729637],\n",
              "       [-0.01839796,  0.20075925,  1.        , ..., -0.07158635,\n",
              "         0.20075925, -0.07158635],\n",
              "       ...,\n",
              "       [ 0.14290484,  0.08729637, -0.07158635, ...,  1.        ,\n",
              "         0.08729637,  1.        ],\n",
              "       [ 0.01185574,  1.        ,  0.20075925, ...,  0.08729637,\n",
              "         1.        ,  0.08729637],\n",
              "       [ 0.14290484,  0.08729637, -0.07158635, ...,  1.        ,\n",
              "         0.08729637,  1.        ]])"
            ]
          },
          "metadata": {
            "tags": []
          },
          "execution_count": 38
        }
      ]
    },
    {
      "cell_type": "code",
      "metadata": {
        "colab": {
          "base_uri": "https://localhost:8080/"
        },
        "id": "0MreGne1xY84",
        "outputId": "221cc293-fd6a-4c6a-805a-820338979688"
      },
      "source": [
        "for i in range(corr.shape[0]):\n",
        "    for j in range(corr.shape[1]):\n",
        "        if (i !=j) and (corr[i,j] == 1.):\n",
        "            print(f'column = {i}<=> column = {j} corrcoef = {corr[i,j]}') #จากการรันพบว่ามี correlation ที่เท่า = 1 แสดงว่าข้อมูลมีความสัมพันธ์กันและจะทำการนำ correlation ข้อมูล Data ออก"
      ],
      "execution_count": 40,
      "outputs": [
        {
          "output_type": "stream",
          "text": [
            "column = 1<=> column = 30 corrcoef = 1.0\n",
            "column = 29<=> column = 31 corrcoef = 1.0\n",
            "column = 30<=> column = 1 corrcoef = 1.0\n",
            "column = 31<=> column = 29 corrcoef = 1.0\n"
          ],
          "name": "stdout"
        }
      ]
    },
    {
      "cell_type": "code",
      "metadata": {
        "id": "UOzh1PqAxi-r"
      },
      "source": [
        "newdata = Data.iloc[1:,:28]"
      ],
      "execution_count": 41,
      "outputs": []
    },
    {
      "cell_type": "code",
      "metadata": {
        "colab": {
          "base_uri": "https://localhost:8080/",
          "height": 419
        },
        "id": "8W9Z1RL2y7Kk",
        "outputId": "3b515532-e5d3-4b38-f954-dcc894900da3"
      },
      "source": [
        "newdata"
      ],
      "execution_count": 42,
      "outputs": [
        {
          "output_type": "execute_result",
          "data": {
            "text/html": [
              "<div>\n",
              "<style scoped>\n",
              "    .dataframe tbody tr th:only-of-type {\n",
              "        vertical-align: middle;\n",
              "    }\n",
              "\n",
              "    .dataframe tbody tr th {\n",
              "        vertical-align: top;\n",
              "    }\n",
              "\n",
              "    .dataframe thead th {\n",
              "        text-align: right;\n",
              "    }\n",
              "</style>\n",
              "<table border=\"1\" class=\"dataframe\">\n",
              "  <thead>\n",
              "    <tr style=\"text-align: right;\">\n",
              "      <th></th>\n",
              "      <th>0</th>\n",
              "      <th>1</th>\n",
              "      <th>2</th>\n",
              "      <th>3</th>\n",
              "      <th>4</th>\n",
              "      <th>5</th>\n",
              "      <th>6</th>\n",
              "      <th>7</th>\n",
              "      <th>8</th>\n",
              "      <th>9</th>\n",
              "      <th>10</th>\n",
              "      <th>11</th>\n",
              "      <th>12</th>\n",
              "      <th>13</th>\n",
              "      <th>14</th>\n",
              "      <th>15</th>\n",
              "      <th>16</th>\n",
              "      <th>17</th>\n",
              "      <th>18</th>\n",
              "      <th>19</th>\n",
              "      <th>20</th>\n",
              "      <th>21</th>\n",
              "      <th>22</th>\n",
              "      <th>23</th>\n",
              "      <th>24</th>\n",
              "      <th>25</th>\n",
              "      <th>26</th>\n",
              "      <th>27</th>\n",
              "    </tr>\n",
              "  </thead>\n",
              "  <tbody>\n",
              "    <tr>\n",
              "      <th>1</th>\n",
              "      <td>8.484404</td>\n",
              "      <td>-5.319557</td>\n",
              "      <td>-8.296086</td>\n",
              "      <td>-3.727046</td>\n",
              "      <td>3.417146</td>\n",
              "      <td>-2.354321</td>\n",
              "      <td>-3.198962</td>\n",
              "      <td>-5.068781</td>\n",
              "      <td>9.627884</td>\n",
              "      <td>-1.186137</td>\n",
              "      <td>7.624599</td>\n",
              "      <td>3.679341</td>\n",
              "      <td>-6.719260</td>\n",
              "      <td>9.427014</td>\n",
              "      <td>0.545413</td>\n",
              "      <td>-8.229463</td>\n",
              "      <td>0.397966</td>\n",
              "      <td>-6.307839</td>\n",
              "      <td>3.660300</td>\n",
              "      <td>-3.227168</td>\n",
              "      <td>-6.623447</td>\n",
              "      <td>9.712237</td>\n",
              "      <td>-7.599891</td>\n",
              "      <td>4.959062</td>\n",
              "      <td>2.586674</td>\n",
              "      <td>7.743150</td>\n",
              "      <td>-1.866618</td>\n",
              "      <td>-9.646674</td>\n",
              "    </tr>\n",
              "    <tr>\n",
              "      <th>2</th>\n",
              "      <td>-0.885176</td>\n",
              "      <td>-2.064377</td>\n",
              "      <td>-1.735326</td>\n",
              "      <td>7.347219</td>\n",
              "      <td>2.895234</td>\n",
              "      <td>-6.591421</td>\n",
              "      <td>4.689732</td>\n",
              "      <td>-1.831760</td>\n",
              "      <td>5.527787</td>\n",
              "      <td>-2.187902</td>\n",
              "      <td>-4.621077</td>\n",
              "      <td>-2.095996</td>\n",
              "      <td>-6.282829</td>\n",
              "      <td>-6.921801</td>\n",
              "      <td>-3.469243</td>\n",
              "      <td>3.709721</td>\n",
              "      <td>1.311006</td>\n",
              "      <td>8.423316</td>\n",
              "      <td>4.180588</td>\n",
              "      <td>-7.635288</td>\n",
              "      <td>8.171219</td>\n",
              "      <td>-4.399013</td>\n",
              "      <td>-8.206858</td>\n",
              "      <td>-2.485293</td>\n",
              "      <td>2.718617</td>\n",
              "      <td>-3.658901</td>\n",
              "      <td>-3.315503</td>\n",
              "      <td>8.318886</td>\n",
              "    </tr>\n",
              "    <tr>\n",
              "      <th>3</th>\n",
              "      <td>0.928953</td>\n",
              "      <td>-3.955223</td>\n",
              "      <td>-7.030693</td>\n",
              "      <td>9.744129</td>\n",
              "      <td>-0.342992</td>\n",
              "      <td>1.773401</td>\n",
              "      <td>-7.167229</td>\n",
              "      <td>4.207292</td>\n",
              "      <td>3.302174</td>\n",
              "      <td>3.398619</td>\n",
              "      <td>5.902347</td>\n",
              "      <td>6.416682</td>\n",
              "      <td>-1.720844</td>\n",
              "      <td>8.569327</td>\n",
              "      <td>-9.563628</td>\n",
              "      <td>5.719072</td>\n",
              "      <td>6.597021</td>\n",
              "      <td>0.552377</td>\n",
              "      <td>3.057767</td>\n",
              "      <td>9.206791</td>\n",
              "      <td>-3.929266</td>\n",
              "      <td>-0.312406</td>\n",
              "      <td>-0.848727</td>\n",
              "      <td>5.037263</td>\n",
              "      <td>-9.414485</td>\n",
              "      <td>-8.538412</td>\n",
              "      <td>-6.457095</td>\n",
              "      <td>8.513097</td>\n",
              "    </tr>\n",
              "    <tr>\n",
              "      <th>4</th>\n",
              "      <td>-5.690987</td>\n",
              "      <td>-3.517787</td>\n",
              "      <td>-2.858825</td>\n",
              "      <td>-7.169143</td>\n",
              "      <td>-5.605544</td>\n",
              "      <td>-9.054258</td>\n",
              "      <td>6.521987</td>\n",
              "      <td>-0.913724</td>\n",
              "      <td>-7.339663</td>\n",
              "      <td>-9.462569</td>\n",
              "      <td>1.945500</td>\n",
              "      <td>-4.143945</td>\n",
              "      <td>1.903859</td>\n",
              "      <td>-0.889551</td>\n",
              "      <td>9.734788</td>\n",
              "      <td>2.465684</td>\n",
              "      <td>-0.186815</td>\n",
              "      <td>10.274393</td>\n",
              "      <td>5.035283</td>\n",
              "      <td>-7.027597</td>\n",
              "      <td>-8.250220</td>\n",
              "      <td>0.108123</td>\n",
              "      <td>6.192776</td>\n",
              "      <td>2.864375</td>\n",
              "      <td>-6.834458</td>\n",
              "      <td>-2.341450</td>\n",
              "      <td>-6.447813</td>\n",
              "      <td>-8.751939</td>\n",
              "    </tr>\n",
              "    <tr>\n",
              "      <th>5</th>\n",
              "      <td>-0.600814</td>\n",
              "      <td>-6.597400</td>\n",
              "      <td>-1.290673</td>\n",
              "      <td>3.699791</td>\n",
              "      <td>7.396085</td>\n",
              "      <td>8.819665</td>\n",
              "      <td>4.101429</td>\n",
              "      <td>0.389821</td>\n",
              "      <td>-7.302467</td>\n",
              "      <td>0.298558</td>\n",
              "      <td>-2.715118</td>\n",
              "      <td>-4.054430</td>\n",
              "      <td>1.723276</td>\n",
              "      <td>8.062906</td>\n",
              "      <td>2.711448</td>\n",
              "      <td>1.071825</td>\n",
              "      <td>2.216782</td>\n",
              "      <td>9.593520</td>\n",
              "      <td>8.321107</td>\n",
              "      <td>6.709923</td>\n",
              "      <td>-5.063283</td>\n",
              "      <td>-5.570239</td>\n",
              "      <td>8.033632</td>\n",
              "      <td>0.366733</td>\n",
              "      <td>-2.783649</td>\n",
              "      <td>2.586863</td>\n",
              "      <td>4.156373</td>\n",
              "      <td>5.577527</td>\n",
              "    </tr>\n",
              "    <tr>\n",
              "      <th>...</th>\n",
              "      <td>...</td>\n",
              "      <td>...</td>\n",
              "      <td>...</td>\n",
              "      <td>...</td>\n",
              "      <td>...</td>\n",
              "      <td>...</td>\n",
              "      <td>...</td>\n",
              "      <td>...</td>\n",
              "      <td>...</td>\n",
              "      <td>...</td>\n",
              "      <td>...</td>\n",
              "      <td>...</td>\n",
              "      <td>...</td>\n",
              "      <td>...</td>\n",
              "      <td>...</td>\n",
              "      <td>...</td>\n",
              "      <td>...</td>\n",
              "      <td>...</td>\n",
              "      <td>...</td>\n",
              "      <td>...</td>\n",
              "      <td>...</td>\n",
              "      <td>...</td>\n",
              "      <td>...</td>\n",
              "      <td>...</td>\n",
              "      <td>...</td>\n",
              "      <td>...</td>\n",
              "      <td>...</td>\n",
              "      <td>...</td>\n",
              "    </tr>\n",
              "    <tr>\n",
              "      <th>9995</th>\n",
              "      <td>7.631343</td>\n",
              "      <td>-5.922440</td>\n",
              "      <td>-7.594832</td>\n",
              "      <td>-1.042551</td>\n",
              "      <td>3.699737</td>\n",
              "      <td>0.414187</td>\n",
              "      <td>-1.054134</td>\n",
              "      <td>-8.502152</td>\n",
              "      <td>8.658479</td>\n",
              "      <td>4.100714</td>\n",
              "      <td>7.837780</td>\n",
              "      <td>3.280779</td>\n",
              "      <td>-7.556245</td>\n",
              "      <td>7.024185</td>\n",
              "      <td>-1.320418</td>\n",
              "      <td>-9.951174</td>\n",
              "      <td>-0.452707</td>\n",
              "      <td>-5.646853</td>\n",
              "      <td>5.616549</td>\n",
              "      <td>-4.387339</td>\n",
              "      <td>-7.612117</td>\n",
              "      <td>9.434799</td>\n",
              "      <td>-7.439684</td>\n",
              "      <td>5.362935</td>\n",
              "      <td>5.604233</td>\n",
              "      <td>7.636980</td>\n",
              "      <td>-3.764263</td>\n",
              "      <td>-9.298095</td>\n",
              "    </tr>\n",
              "    <tr>\n",
              "      <th>9996</th>\n",
              "      <td>-9.164097</td>\n",
              "      <td>3.211174</td>\n",
              "      <td>-1.865883</td>\n",
              "      <td>-9.905384</td>\n",
              "      <td>-3.836890</td>\n",
              "      <td>7.568548</td>\n",
              "      <td>-5.732555</td>\n",
              "      <td>-7.434602</td>\n",
              "      <td>-5.328562</td>\n",
              "      <td>11.115293</td>\n",
              "      <td>2.945332</td>\n",
              "      <td>1.038299</td>\n",
              "      <td>0.860420</td>\n",
              "      <td>7.597590</td>\n",
              "      <td>-0.083376</td>\n",
              "      <td>4.711684</td>\n",
              "      <td>6.783715</td>\n",
              "      <td>8.115086</td>\n",
              "      <td>-7.911840</td>\n",
              "      <td>-3.839552</td>\n",
              "      <td>6.007630</td>\n",
              "      <td>-0.106223</td>\n",
              "      <td>-2.183768</td>\n",
              "      <td>3.416250</td>\n",
              "      <td>2.309178</td>\n",
              "      <td>-3.919674</td>\n",
              "      <td>4.573433</td>\n",
              "      <td>-5.643815</td>\n",
              "    </tr>\n",
              "    <tr>\n",
              "      <th>9997</th>\n",
              "      <td>-4.069899</td>\n",
              "      <td>-2.351560</td>\n",
              "      <td>-0.134604</td>\n",
              "      <td>-5.629799</td>\n",
              "      <td>-5.620890</td>\n",
              "      <td>-9.770339</td>\n",
              "      <td>6.168892</td>\n",
              "      <td>0.835266</td>\n",
              "      <td>-3.912655</td>\n",
              "      <td>-7.703638</td>\n",
              "      <td>1.361204</td>\n",
              "      <td>-3.658080</td>\n",
              "      <td>2.902530</td>\n",
              "      <td>-0.667720</td>\n",
              "      <td>7.789704</td>\n",
              "      <td>2.017346</td>\n",
              "      <td>1.698594</td>\n",
              "      <td>8.220736</td>\n",
              "      <td>4.792831</td>\n",
              "      <td>-8.864895</td>\n",
              "      <td>-8.932504</td>\n",
              "      <td>-0.911860</td>\n",
              "      <td>4.953654</td>\n",
              "      <td>-1.065717</td>\n",
              "      <td>-6.648004</td>\n",
              "      <td>-2.566931</td>\n",
              "      <td>-6.526202</td>\n",
              "      <td>-7.488712</td>\n",
              "    </tr>\n",
              "    <tr>\n",
              "      <th>9998</th>\n",
              "      <td>4.873270</td>\n",
              "      <td>-1.541458</td>\n",
              "      <td>-7.629112</td>\n",
              "      <td>2.557538</td>\n",
              "      <td>8.061374</td>\n",
              "      <td>9.162759</td>\n",
              "      <td>5.372126</td>\n",
              "      <td>1.288333</td>\n",
              "      <td>-8.305103</td>\n",
              "      <td>6.020796</td>\n",
              "      <td>3.953505</td>\n",
              "      <td>0.351103</td>\n",
              "      <td>4.409830</td>\n",
              "      <td>8.857026</td>\n",
              "      <td>-6.120125</td>\n",
              "      <td>-5.882252</td>\n",
              "      <td>-1.019697</td>\n",
              "      <td>-3.206716</td>\n",
              "      <td>-3.188903</td>\n",
              "      <td>4.414865</td>\n",
              "      <td>2.048225</td>\n",
              "      <td>-6.216080</td>\n",
              "      <td>0.629628</td>\n",
              "      <td>-5.189581</td>\n",
              "      <td>-8.773632</td>\n",
              "      <td>3.442669</td>\n",
              "      <td>10.901293</td>\n",
              "      <td>-8.050083</td>\n",
              "    </tr>\n",
              "    <tr>\n",
              "      <th>9999</th>\n",
              "      <td>2.288627</td>\n",
              "      <td>-4.526859</td>\n",
              "      <td>-7.115958</td>\n",
              "      <td>8.831976</td>\n",
              "      <td>-2.778777</td>\n",
              "      <td>6.490409</td>\n",
              "      <td>-6.826556</td>\n",
              "      <td>3.687156</td>\n",
              "      <td>3.422328</td>\n",
              "      <td>5.802015</td>\n",
              "      <td>8.583471</td>\n",
              "      <td>5.202368</td>\n",
              "      <td>-3.003082</td>\n",
              "      <td>8.323385</td>\n",
              "      <td>-9.347540</td>\n",
              "      <td>5.883201</td>\n",
              "      <td>6.979786</td>\n",
              "      <td>1.756422</td>\n",
              "      <td>2.092115</td>\n",
              "      <td>9.952102</td>\n",
              "      <td>-3.353897</td>\n",
              "      <td>-0.326613</td>\n",
              "      <td>0.981448</td>\n",
              "      <td>5.544599</td>\n",
              "      <td>-9.857224</td>\n",
              "      <td>-7.874556</td>\n",
              "      <td>-8.274386</td>\n",
              "      <td>5.699647</td>\n",
              "    </tr>\n",
              "  </tbody>\n",
              "</table>\n",
              "<p>9999 rows × 28 columns</p>\n",
              "</div>"
            ],
            "text/plain": [
              "            0         1         2   ...        25         26        27\n",
              "1     8.484404 -5.319557 -8.296086  ...  7.743150  -1.866618 -9.646674\n",
              "2    -0.885176 -2.064377 -1.735326  ... -3.658901  -3.315503  8.318886\n",
              "3     0.928953 -3.955223 -7.030693  ... -8.538412  -6.457095  8.513097\n",
              "4    -5.690987 -3.517787 -2.858825  ... -2.341450  -6.447813 -8.751939\n",
              "5    -0.600814 -6.597400 -1.290673  ...  2.586863   4.156373  5.577527\n",
              "...        ...       ...       ...  ...       ...        ...       ...\n",
              "9995  7.631343 -5.922440 -7.594832  ...  7.636980  -3.764263 -9.298095\n",
              "9996 -9.164097  3.211174 -1.865883  ... -3.919674   4.573433 -5.643815\n",
              "9997 -4.069899 -2.351560 -0.134604  ... -2.566931  -6.526202 -7.488712\n",
              "9998  4.873270 -1.541458 -7.629112  ...  3.442669  10.901293 -8.050083\n",
              "9999  2.288627 -4.526859 -7.115958  ... -7.874556  -8.274386  5.699647\n",
              "\n",
              "[9999 rows x 28 columns]"
            ]
          },
          "metadata": {
            "tags": []
          },
          "execution_count": 42
        }
      ]
    },
    {
      "cell_type": "code",
      "metadata": {
        "id": "2VZLRlsHzAzq"
      },
      "source": [
        ""
      ],
      "execution_count": null,
      "outputs": []
    }
  ]
}