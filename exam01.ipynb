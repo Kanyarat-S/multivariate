{
  "nbformat": 4,
  "nbformat_minor": 0,
  "metadata": {
    "colab": {
      "name": "exam01.ipynb",
      "provenance": [],
      "authorship_tag": "ABX9TyPR8wpYFRJU5zPt1pa0MKVU",
      "include_colab_link": true
    },
    "kernelspec": {
      "name": "python3",
      "display_name": "Python 3"
    },
    "language_info": {
      "name": "python"
    }
  },
  "cells": [
    {
      "cell_type": "markdown",
      "metadata": {
        "id": "view-in-github",
        "colab_type": "text"
      },
      "source": [
        "<a href=\"https://colab.research.google.com/github/Kanyarat-S/multivariate/blob/main/exam01.ipynb\" target=\"_parent\"><img src=\"https://colab.research.google.com/assets/colab-badge.svg\" alt=\"Open In Colab\"/></a>"
      ]
    },
    {
      "cell_type": "markdown",
      "metadata": {
        "id": "VYqYLPTVmZTu"
      },
      "source": [
        "#nndb_flat"
      ]
    },
    {
      "cell_type": "code",
      "metadata": {
        "id": "jly8NNFwmfkt"
      },
      "source": [
        "import pandas as pd"
      ],
      "execution_count": 1,
      "outputs": []
    },
    {
      "cell_type": "code",
      "metadata": {
        "colab": {
          "base_uri": "https://localhost:8080/",
          "height": 699
        },
        "id": "IZSc2u30mvt3",
        "outputId": "94ce3a14-2cdb-4c20-a68a-089145adc526"
      },
      "source": [
        "data = pd.read_csv('/content/nndb_flat.csv')\n",
        "data.head(10)"
      ],
      "execution_count": 2,
      "outputs": [
        {
          "output_type": "execute_result",
          "data": {
            "text/html": [
              "<div>\n",
              "<style scoped>\n",
              "    .dataframe tbody tr th:only-of-type {\n",
              "        vertical-align: middle;\n",
              "    }\n",
              "\n",
              "    .dataframe tbody tr th {\n",
              "        vertical-align: top;\n",
              "    }\n",
              "\n",
              "    .dataframe thead th {\n",
              "        text-align: right;\n",
              "    }\n",
              "</style>\n",
              "<table border=\"1\" class=\"dataframe\">\n",
              "  <thead>\n",
              "    <tr style=\"text-align: right;\">\n",
              "      <th></th>\n",
              "      <th>ID</th>\n",
              "      <th>FoodGroup</th>\n",
              "      <th>ShortDescrip</th>\n",
              "      <th>Descrip</th>\n",
              "      <th>CommonName</th>\n",
              "      <th>MfgName</th>\n",
              "      <th>ScientificName</th>\n",
              "      <th>Energy_kcal</th>\n",
              "      <th>Protein_g</th>\n",
              "      <th>Fat_g</th>\n",
              "      <th>Carb_g</th>\n",
              "      <th>Sugar_g</th>\n",
              "      <th>Fiber_g</th>\n",
              "      <th>VitA_mcg</th>\n",
              "      <th>VitB6_mg</th>\n",
              "      <th>VitB12_mcg</th>\n",
              "      <th>VitC_mg</th>\n",
              "      <th>VitE_mg</th>\n",
              "      <th>Folate_mcg</th>\n",
              "      <th>Niacin_mg</th>\n",
              "      <th>Riboflavin_mg</th>\n",
              "      <th>Thiamin_mg</th>\n",
              "      <th>Calcium_mg</th>\n",
              "      <th>Copper_mcg</th>\n",
              "      <th>Iron_mg</th>\n",
              "      <th>Magnesium_mg</th>\n",
              "      <th>Manganese_mg</th>\n",
              "      <th>Phosphorus_mg</th>\n",
              "      <th>Selenium_mcg</th>\n",
              "      <th>Zinc_mg</th>\n",
              "      <th>VitA_USRDA</th>\n",
              "      <th>VitB6_USRDA</th>\n",
              "      <th>VitB12_USRDA</th>\n",
              "      <th>VitC_USRDA</th>\n",
              "      <th>VitE_USRDA</th>\n",
              "      <th>Folate_USRDA</th>\n",
              "      <th>Niacin_USRDA</th>\n",
              "      <th>Riboflavin_USRDA</th>\n",
              "      <th>Thiamin_USRDA</th>\n",
              "      <th>Calcium_USRDA</th>\n",
              "      <th>Copper_USRDA</th>\n",
              "      <th>Magnesium_USRDA</th>\n",
              "      <th>Phosphorus_USRDA</th>\n",
              "      <th>Selenium_USRDA</th>\n",
              "      <th>Zinc_USRDA</th>\n",
              "    </tr>\n",
              "  </thead>\n",
              "  <tbody>\n",
              "    <tr>\n",
              "      <th>0</th>\n",
              "      <td>1001</td>\n",
              "      <td>Dairy and Egg Products</td>\n",
              "      <td>BUTTER,WITH SALT</td>\n",
              "      <td>Butter, salted</td>\n",
              "      <td>NaN</td>\n",
              "      <td>NaN</td>\n",
              "      <td>NaN</td>\n",
              "      <td>717.0</td>\n",
              "      <td>0.85</td>\n",
              "      <td>81.11</td>\n",
              "      <td>0.06</td>\n",
              "      <td>0.06</td>\n",
              "      <td>0.0</td>\n",
              "      <td>684.0</td>\n",
              "      <td>0.003</td>\n",
              "      <td>0.17</td>\n",
              "      <td>0.0</td>\n",
              "      <td>2.32</td>\n",
              "      <td>3.0</td>\n",
              "      <td>0.042</td>\n",
              "      <td>0.034</td>\n",
              "      <td>0.005</td>\n",
              "      <td>24.0</td>\n",
              "      <td>0.000</td>\n",
              "      <td>0.02</td>\n",
              "      <td>2.0</td>\n",
              "      <td>0.000</td>\n",
              "      <td>24.0</td>\n",
              "      <td>1.0</td>\n",
              "      <td>0.09</td>\n",
              "      <td>0.760000</td>\n",
              "      <td>0.001765</td>\n",
              "      <td>0.070833</td>\n",
              "      <td>0.0</td>\n",
              "      <td>0.154667</td>\n",
              "      <td>0.0075</td>\n",
              "      <td>0.002625</td>\n",
              "      <td>0.026154</td>\n",
              "      <td>0.004167</td>\n",
              "      <td>0.020000</td>\n",
              "      <td>0.000000</td>\n",
              "      <td>0.004762</td>\n",
              "      <td>0.034286</td>\n",
              "      <td>0.018182</td>\n",
              "      <td>0.008182</td>\n",
              "    </tr>\n",
              "    <tr>\n",
              "      <th>1</th>\n",
              "      <td>1002</td>\n",
              "      <td>Dairy and Egg Products</td>\n",
              "      <td>BUTTER,WHIPPED,WITH SALT</td>\n",
              "      <td>Butter, whipped, with salt</td>\n",
              "      <td>NaN</td>\n",
              "      <td>NaN</td>\n",
              "      <td>NaN</td>\n",
              "      <td>717.0</td>\n",
              "      <td>0.85</td>\n",
              "      <td>81.11</td>\n",
              "      <td>0.06</td>\n",
              "      <td>0.06</td>\n",
              "      <td>0.0</td>\n",
              "      <td>684.0</td>\n",
              "      <td>0.003</td>\n",
              "      <td>0.13</td>\n",
              "      <td>0.0</td>\n",
              "      <td>2.32</td>\n",
              "      <td>3.0</td>\n",
              "      <td>0.042</td>\n",
              "      <td>0.034</td>\n",
              "      <td>0.005</td>\n",
              "      <td>24.0</td>\n",
              "      <td>0.016</td>\n",
              "      <td>0.16</td>\n",
              "      <td>2.0</td>\n",
              "      <td>0.004</td>\n",
              "      <td>23.0</td>\n",
              "      <td>1.0</td>\n",
              "      <td>0.05</td>\n",
              "      <td>0.760000</td>\n",
              "      <td>0.001765</td>\n",
              "      <td>0.054167</td>\n",
              "      <td>0.0</td>\n",
              "      <td>0.154667</td>\n",
              "      <td>0.0075</td>\n",
              "      <td>0.002625</td>\n",
              "      <td>0.026154</td>\n",
              "      <td>0.004167</td>\n",
              "      <td>0.020000</td>\n",
              "      <td>0.000018</td>\n",
              "      <td>0.004762</td>\n",
              "      <td>0.032857</td>\n",
              "      <td>0.018182</td>\n",
              "      <td>0.004545</td>\n",
              "    </tr>\n",
              "    <tr>\n",
              "      <th>2</th>\n",
              "      <td>1003</td>\n",
              "      <td>Dairy and Egg Products</td>\n",
              "      <td>BUTTER OIL,ANHYDROUS</td>\n",
              "      <td>Butter oil, anhydrous</td>\n",
              "      <td>NaN</td>\n",
              "      <td>NaN</td>\n",
              "      <td>NaN</td>\n",
              "      <td>876.0</td>\n",
              "      <td>0.28</td>\n",
              "      <td>99.48</td>\n",
              "      <td>0.00</td>\n",
              "      <td>0.00</td>\n",
              "      <td>0.0</td>\n",
              "      <td>840.0</td>\n",
              "      <td>0.001</td>\n",
              "      <td>0.01</td>\n",
              "      <td>0.0</td>\n",
              "      <td>2.80</td>\n",
              "      <td>0.0</td>\n",
              "      <td>0.003</td>\n",
              "      <td>0.005</td>\n",
              "      <td>0.001</td>\n",
              "      <td>4.0</td>\n",
              "      <td>0.001</td>\n",
              "      <td>0.00</td>\n",
              "      <td>0.0</td>\n",
              "      <td>0.000</td>\n",
              "      <td>3.0</td>\n",
              "      <td>0.0</td>\n",
              "      <td>0.01</td>\n",
              "      <td>0.933333</td>\n",
              "      <td>0.000588</td>\n",
              "      <td>0.004167</td>\n",
              "      <td>0.0</td>\n",
              "      <td>0.186667</td>\n",
              "      <td>0.0000</td>\n",
              "      <td>0.000188</td>\n",
              "      <td>0.003846</td>\n",
              "      <td>0.000833</td>\n",
              "      <td>0.003333</td>\n",
              "      <td>0.000001</td>\n",
              "      <td>0.000000</td>\n",
              "      <td>0.004286</td>\n",
              "      <td>0.000000</td>\n",
              "      <td>0.000909</td>\n",
              "    </tr>\n",
              "    <tr>\n",
              "      <th>3</th>\n",
              "      <td>1004</td>\n",
              "      <td>Dairy and Egg Products</td>\n",
              "      <td>CHEESE,BLUE</td>\n",
              "      <td>Cheese, blue</td>\n",
              "      <td>NaN</td>\n",
              "      <td>NaN</td>\n",
              "      <td>NaN</td>\n",
              "      <td>353.0</td>\n",
              "      <td>21.40</td>\n",
              "      <td>28.74</td>\n",
              "      <td>2.34</td>\n",
              "      <td>0.50</td>\n",
              "      <td>0.0</td>\n",
              "      <td>198.0</td>\n",
              "      <td>0.166</td>\n",
              "      <td>1.22</td>\n",
              "      <td>0.0</td>\n",
              "      <td>0.25</td>\n",
              "      <td>36.0</td>\n",
              "      <td>1.016</td>\n",
              "      <td>0.382</td>\n",
              "      <td>0.029</td>\n",
              "      <td>528.0</td>\n",
              "      <td>0.040</td>\n",
              "      <td>0.31</td>\n",
              "      <td>23.0</td>\n",
              "      <td>0.009</td>\n",
              "      <td>387.0</td>\n",
              "      <td>14.5</td>\n",
              "      <td>2.66</td>\n",
              "      <td>0.220000</td>\n",
              "      <td>0.097647</td>\n",
              "      <td>0.508333</td>\n",
              "      <td>0.0</td>\n",
              "      <td>0.016667</td>\n",
              "      <td>0.0900</td>\n",
              "      <td>0.063500</td>\n",
              "      <td>0.293846</td>\n",
              "      <td>0.024167</td>\n",
              "      <td>0.440000</td>\n",
              "      <td>0.000044</td>\n",
              "      <td>0.054762</td>\n",
              "      <td>0.552857</td>\n",
              "      <td>0.263636</td>\n",
              "      <td>0.241818</td>\n",
              "    </tr>\n",
              "    <tr>\n",
              "      <th>4</th>\n",
              "      <td>1005</td>\n",
              "      <td>Dairy and Egg Products</td>\n",
              "      <td>CHEESE,BRICK</td>\n",
              "      <td>Cheese, brick</td>\n",
              "      <td>NaN</td>\n",
              "      <td>NaN</td>\n",
              "      <td>NaN</td>\n",
              "      <td>371.0</td>\n",
              "      <td>23.24</td>\n",
              "      <td>29.68</td>\n",
              "      <td>2.79</td>\n",
              "      <td>0.51</td>\n",
              "      <td>0.0</td>\n",
              "      <td>292.0</td>\n",
              "      <td>0.065</td>\n",
              "      <td>1.26</td>\n",
              "      <td>0.0</td>\n",
              "      <td>0.26</td>\n",
              "      <td>20.0</td>\n",
              "      <td>0.118</td>\n",
              "      <td>0.351</td>\n",
              "      <td>0.014</td>\n",
              "      <td>674.0</td>\n",
              "      <td>0.024</td>\n",
              "      <td>0.43</td>\n",
              "      <td>24.0</td>\n",
              "      <td>0.012</td>\n",
              "      <td>451.0</td>\n",
              "      <td>14.5</td>\n",
              "      <td>2.60</td>\n",
              "      <td>0.324444</td>\n",
              "      <td>0.038235</td>\n",
              "      <td>0.525000</td>\n",
              "      <td>0.0</td>\n",
              "      <td>0.017333</td>\n",
              "      <td>0.0500</td>\n",
              "      <td>0.007375</td>\n",
              "      <td>0.270000</td>\n",
              "      <td>0.011667</td>\n",
              "      <td>0.561667</td>\n",
              "      <td>0.000027</td>\n",
              "      <td>0.057143</td>\n",
              "      <td>0.644286</td>\n",
              "      <td>0.263636</td>\n",
              "      <td>0.236364</td>\n",
              "    </tr>\n",
              "    <tr>\n",
              "      <th>5</th>\n",
              "      <td>1006</td>\n",
              "      <td>Dairy and Egg Products</td>\n",
              "      <td>CHEESE,BRIE</td>\n",
              "      <td>Cheese, brie</td>\n",
              "      <td>NaN</td>\n",
              "      <td>NaN</td>\n",
              "      <td>NaN</td>\n",
              "      <td>334.0</td>\n",
              "      <td>20.75</td>\n",
              "      <td>27.68</td>\n",
              "      <td>0.45</td>\n",
              "      <td>0.45</td>\n",
              "      <td>0.0</td>\n",
              "      <td>174.0</td>\n",
              "      <td>0.235</td>\n",
              "      <td>1.65</td>\n",
              "      <td>0.0</td>\n",
              "      <td>0.24</td>\n",
              "      <td>65.0</td>\n",
              "      <td>0.380</td>\n",
              "      <td>0.520</td>\n",
              "      <td>0.070</td>\n",
              "      <td>184.0</td>\n",
              "      <td>0.019</td>\n",
              "      <td>0.50</td>\n",
              "      <td>20.0</td>\n",
              "      <td>0.034</td>\n",
              "      <td>188.0</td>\n",
              "      <td>14.5</td>\n",
              "      <td>2.38</td>\n",
              "      <td>0.193333</td>\n",
              "      <td>0.138235</td>\n",
              "      <td>0.687500</td>\n",
              "      <td>0.0</td>\n",
              "      <td>0.016000</td>\n",
              "      <td>0.1625</td>\n",
              "      <td>0.023750</td>\n",
              "      <td>0.400000</td>\n",
              "      <td>0.058333</td>\n",
              "      <td>0.153333</td>\n",
              "      <td>0.000021</td>\n",
              "      <td>0.047619</td>\n",
              "      <td>0.268571</td>\n",
              "      <td>0.263636</td>\n",
              "      <td>0.216364</td>\n",
              "    </tr>\n",
              "    <tr>\n",
              "      <th>6</th>\n",
              "      <td>1007</td>\n",
              "      <td>Dairy and Egg Products</td>\n",
              "      <td>CHEESE,CAMEMBERT</td>\n",
              "      <td>Cheese, camembert</td>\n",
              "      <td>NaN</td>\n",
              "      <td>NaN</td>\n",
              "      <td>NaN</td>\n",
              "      <td>300.0</td>\n",
              "      <td>19.80</td>\n",
              "      <td>24.26</td>\n",
              "      <td>0.46</td>\n",
              "      <td>0.46</td>\n",
              "      <td>0.0</td>\n",
              "      <td>241.0</td>\n",
              "      <td>0.227</td>\n",
              "      <td>1.30</td>\n",
              "      <td>0.0</td>\n",
              "      <td>0.21</td>\n",
              "      <td>62.0</td>\n",
              "      <td>0.630</td>\n",
              "      <td>0.488</td>\n",
              "      <td>0.028</td>\n",
              "      <td>388.0</td>\n",
              "      <td>0.021</td>\n",
              "      <td>0.33</td>\n",
              "      <td>20.0</td>\n",
              "      <td>0.038</td>\n",
              "      <td>347.0</td>\n",
              "      <td>14.5</td>\n",
              "      <td>2.38</td>\n",
              "      <td>0.267778</td>\n",
              "      <td>0.133529</td>\n",
              "      <td>0.541667</td>\n",
              "      <td>0.0</td>\n",
              "      <td>0.014000</td>\n",
              "      <td>0.1550</td>\n",
              "      <td>0.039375</td>\n",
              "      <td>0.375385</td>\n",
              "      <td>0.023333</td>\n",
              "      <td>0.323333</td>\n",
              "      <td>0.000023</td>\n",
              "      <td>0.047619</td>\n",
              "      <td>0.495714</td>\n",
              "      <td>0.263636</td>\n",
              "      <td>0.216364</td>\n",
              "    </tr>\n",
              "    <tr>\n",
              "      <th>7</th>\n",
              "      <td>1008</td>\n",
              "      <td>Dairy and Egg Products</td>\n",
              "      <td>CHEESE,CARAWAY</td>\n",
              "      <td>Cheese, caraway</td>\n",
              "      <td>NaN</td>\n",
              "      <td>NaN</td>\n",
              "      <td>NaN</td>\n",
              "      <td>376.0</td>\n",
              "      <td>25.18</td>\n",
              "      <td>29.20</td>\n",
              "      <td>3.06</td>\n",
              "      <td>0.00</td>\n",
              "      <td>0.0</td>\n",
              "      <td>271.0</td>\n",
              "      <td>0.074</td>\n",
              "      <td>0.27</td>\n",
              "      <td>0.0</td>\n",
              "      <td>0.00</td>\n",
              "      <td>18.0</td>\n",
              "      <td>0.180</td>\n",
              "      <td>0.450</td>\n",
              "      <td>0.031</td>\n",
              "      <td>673.0</td>\n",
              "      <td>0.024</td>\n",
              "      <td>0.64</td>\n",
              "      <td>22.0</td>\n",
              "      <td>0.021</td>\n",
              "      <td>490.0</td>\n",
              "      <td>14.5</td>\n",
              "      <td>2.94</td>\n",
              "      <td>0.301111</td>\n",
              "      <td>0.043529</td>\n",
              "      <td>0.112500</td>\n",
              "      <td>0.0</td>\n",
              "      <td>0.000000</td>\n",
              "      <td>0.0450</td>\n",
              "      <td>0.011250</td>\n",
              "      <td>0.346154</td>\n",
              "      <td>0.025833</td>\n",
              "      <td>0.560833</td>\n",
              "      <td>0.000027</td>\n",
              "      <td>0.052381</td>\n",
              "      <td>0.700000</td>\n",
              "      <td>0.263636</td>\n",
              "      <td>0.267273</td>\n",
              "    </tr>\n",
              "    <tr>\n",
              "      <th>8</th>\n",
              "      <td>1009</td>\n",
              "      <td>Dairy and Egg Products</td>\n",
              "      <td>CHEESE,CHEDDAR</td>\n",
              "      <td>Cheese, cheddar</td>\n",
              "      <td>NaN</td>\n",
              "      <td>NaN</td>\n",
              "      <td>NaN</td>\n",
              "      <td>406.0</td>\n",
              "      <td>24.04</td>\n",
              "      <td>33.82</td>\n",
              "      <td>1.33</td>\n",
              "      <td>0.28</td>\n",
              "      <td>0.0</td>\n",
              "      <td>263.0</td>\n",
              "      <td>0.049</td>\n",
              "      <td>0.88</td>\n",
              "      <td>0.0</td>\n",
              "      <td>0.78</td>\n",
              "      <td>26.0</td>\n",
              "      <td>0.039</td>\n",
              "      <td>0.434</td>\n",
              "      <td>0.027</td>\n",
              "      <td>675.0</td>\n",
              "      <td>0.056</td>\n",
              "      <td>0.16</td>\n",
              "      <td>27.0</td>\n",
              "      <td>0.033</td>\n",
              "      <td>473.0</td>\n",
              "      <td>28.3</td>\n",
              "      <td>3.43</td>\n",
              "      <td>0.292222</td>\n",
              "      <td>0.028824</td>\n",
              "      <td>0.366667</td>\n",
              "      <td>0.0</td>\n",
              "      <td>0.052000</td>\n",
              "      <td>0.0650</td>\n",
              "      <td>0.002437</td>\n",
              "      <td>0.333846</td>\n",
              "      <td>0.022500</td>\n",
              "      <td>0.562500</td>\n",
              "      <td>0.000062</td>\n",
              "      <td>0.064286</td>\n",
              "      <td>0.675714</td>\n",
              "      <td>0.514545</td>\n",
              "      <td>0.311818</td>\n",
              "    </tr>\n",
              "    <tr>\n",
              "      <th>9</th>\n",
              "      <td>1010</td>\n",
              "      <td>Dairy and Egg Products</td>\n",
              "      <td>CHEESE,CHESHIRE</td>\n",
              "      <td>Cheese, cheshire</td>\n",
              "      <td>NaN</td>\n",
              "      <td>NaN</td>\n",
              "      <td>NaN</td>\n",
              "      <td>387.0</td>\n",
              "      <td>23.37</td>\n",
              "      <td>30.60</td>\n",
              "      <td>4.78</td>\n",
              "      <td>0.00</td>\n",
              "      <td>0.0</td>\n",
              "      <td>233.0</td>\n",
              "      <td>0.074</td>\n",
              "      <td>0.83</td>\n",
              "      <td>0.0</td>\n",
              "      <td>0.00</td>\n",
              "      <td>18.0</td>\n",
              "      <td>0.080</td>\n",
              "      <td>0.293</td>\n",
              "      <td>0.046</td>\n",
              "      <td>643.0</td>\n",
              "      <td>0.042</td>\n",
              "      <td>0.21</td>\n",
              "      <td>21.0</td>\n",
              "      <td>0.012</td>\n",
              "      <td>464.0</td>\n",
              "      <td>14.5</td>\n",
              "      <td>2.79</td>\n",
              "      <td>0.258889</td>\n",
              "      <td>0.043529</td>\n",
              "      <td>0.345833</td>\n",
              "      <td>0.0</td>\n",
              "      <td>0.000000</td>\n",
              "      <td>0.0450</td>\n",
              "      <td>0.005000</td>\n",
              "      <td>0.225385</td>\n",
              "      <td>0.038333</td>\n",
              "      <td>0.535833</td>\n",
              "      <td>0.000047</td>\n",
              "      <td>0.050000</td>\n",
              "      <td>0.662857</td>\n",
              "      <td>0.263636</td>\n",
              "      <td>0.253636</td>\n",
              "    </tr>\n",
              "  </tbody>\n",
              "</table>\n",
              "</div>"
            ],
            "text/plain": [
              "     ID               FoodGroup  ... Selenium_USRDA Zinc_USRDA\n",
              "0  1001  Dairy and Egg Products  ...       0.018182   0.008182\n",
              "1  1002  Dairy and Egg Products  ...       0.018182   0.004545\n",
              "2  1003  Dairy and Egg Products  ...       0.000000   0.000909\n",
              "3  1004  Dairy and Egg Products  ...       0.263636   0.241818\n",
              "4  1005  Dairy and Egg Products  ...       0.263636   0.236364\n",
              "5  1006  Dairy and Egg Products  ...       0.263636   0.216364\n",
              "6  1007  Dairy and Egg Products  ...       0.263636   0.216364\n",
              "7  1008  Dairy and Egg Products  ...       0.263636   0.267273\n",
              "8  1009  Dairy and Egg Products  ...       0.514545   0.311818\n",
              "9  1010  Dairy and Egg Products  ...       0.263636   0.253636\n",
              "\n",
              "[10 rows x 45 columns]"
            ]
          },
          "metadata": {
            "tags": []
          },
          "execution_count": 2
        }
      ]
    },
    {
      "cell_type": "markdown",
      "metadata": {
        "id": "fYSDn75PnPGK"
      },
      "source": [
        "##ตรวจสอบขนาดของข้อมูลว่ามี data กี่ตัว และมีกี่ dimensions"
      ]
    },
    {
      "cell_type": "code",
      "metadata": {
        "colab": {
          "base_uri": "https://localhost:8080/"
        },
        "id": "gRf2pckjnEPb",
        "outputId": "f4f3d42d-a972-45ae-9b9c-4c5fc15fe5ca"
      },
      "source": [
        "data.shape #เช็คจำนวนแถว และจำนวนคอลัมน์"
      ],
      "execution_count": 3,
      "outputs": [
        {
          "output_type": "execute_result",
          "data": {
            "text/plain": [
              "(8618, 45)"
            ]
          },
          "metadata": {
            "tags": []
          },
          "execution_count": 3
        }
      ]
    },
    {
      "cell_type": "markdown",
      "metadata": {
        "id": "dhivjF_AnYWs"
      },
      "source": [
        "ตรวจสอบขนาดของข้อมูลว่ามี data กี่ตัว และมีกี่ dimensions\n",
        "\n",
        "เลือกมาทำต่อเฉพาะข้อมูลที่เป็นตัวเลข\n",
        "\n",
        "เนื่องจาก Data มี dimension มากเกินไป เราจะทดสอบดูว่า column ใด ให้ข้อมูลซ้ำกับ column อื่น แล้วลบมันออก"
      ]
    },
    {
      "cell_type": "code",
      "metadata": {
        "colab": {
          "base_uri": "https://localhost:8080/",
          "height": 215
        },
        "id": "use_6Qz0nVYg",
        "outputId": "5dca0391-5658-42a6-dbde-ee89f3a0660d"
      },
      "source": [
        "newdata = data.iloc[:,7:] #เลือกข้อมูลลำดับที่ 7 เพราะเป็นตัวเลข\n",
        "newdata.head()"
      ],
      "execution_count": 4,
      "outputs": [
        {
          "output_type": "execute_result",
          "data": {
            "text/html": [
              "<div>\n",
              "<style scoped>\n",
              "    .dataframe tbody tr th:only-of-type {\n",
              "        vertical-align: middle;\n",
              "    }\n",
              "\n",
              "    .dataframe tbody tr th {\n",
              "        vertical-align: top;\n",
              "    }\n",
              "\n",
              "    .dataframe thead th {\n",
              "        text-align: right;\n",
              "    }\n",
              "</style>\n",
              "<table border=\"1\" class=\"dataframe\">\n",
              "  <thead>\n",
              "    <tr style=\"text-align: right;\">\n",
              "      <th></th>\n",
              "      <th>Energy_kcal</th>\n",
              "      <th>Protein_g</th>\n",
              "      <th>Fat_g</th>\n",
              "      <th>Carb_g</th>\n",
              "      <th>Sugar_g</th>\n",
              "      <th>Fiber_g</th>\n",
              "      <th>VitA_mcg</th>\n",
              "      <th>VitB6_mg</th>\n",
              "      <th>VitB12_mcg</th>\n",
              "      <th>VitC_mg</th>\n",
              "      <th>VitE_mg</th>\n",
              "      <th>Folate_mcg</th>\n",
              "      <th>Niacin_mg</th>\n",
              "      <th>Riboflavin_mg</th>\n",
              "      <th>Thiamin_mg</th>\n",
              "      <th>Calcium_mg</th>\n",
              "      <th>Copper_mcg</th>\n",
              "      <th>Iron_mg</th>\n",
              "      <th>Magnesium_mg</th>\n",
              "      <th>Manganese_mg</th>\n",
              "      <th>Phosphorus_mg</th>\n",
              "      <th>Selenium_mcg</th>\n",
              "      <th>Zinc_mg</th>\n",
              "      <th>VitA_USRDA</th>\n",
              "      <th>VitB6_USRDA</th>\n",
              "      <th>VitB12_USRDA</th>\n",
              "      <th>VitC_USRDA</th>\n",
              "      <th>VitE_USRDA</th>\n",
              "      <th>Folate_USRDA</th>\n",
              "      <th>Niacin_USRDA</th>\n",
              "      <th>Riboflavin_USRDA</th>\n",
              "      <th>Thiamin_USRDA</th>\n",
              "      <th>Calcium_USRDA</th>\n",
              "      <th>Copper_USRDA</th>\n",
              "      <th>Magnesium_USRDA</th>\n",
              "      <th>Phosphorus_USRDA</th>\n",
              "      <th>Selenium_USRDA</th>\n",
              "      <th>Zinc_USRDA</th>\n",
              "    </tr>\n",
              "  </thead>\n",
              "  <tbody>\n",
              "    <tr>\n",
              "      <th>0</th>\n",
              "      <td>717.0</td>\n",
              "      <td>0.85</td>\n",
              "      <td>81.11</td>\n",
              "      <td>0.06</td>\n",
              "      <td>0.06</td>\n",
              "      <td>0.0</td>\n",
              "      <td>684.0</td>\n",
              "      <td>0.003</td>\n",
              "      <td>0.17</td>\n",
              "      <td>0.0</td>\n",
              "      <td>2.32</td>\n",
              "      <td>3.0</td>\n",
              "      <td>0.042</td>\n",
              "      <td>0.034</td>\n",
              "      <td>0.005</td>\n",
              "      <td>24.0</td>\n",
              "      <td>0.000</td>\n",
              "      <td>0.02</td>\n",
              "      <td>2.0</td>\n",
              "      <td>0.000</td>\n",
              "      <td>24.0</td>\n",
              "      <td>1.0</td>\n",
              "      <td>0.09</td>\n",
              "      <td>0.760000</td>\n",
              "      <td>0.001765</td>\n",
              "      <td>0.070833</td>\n",
              "      <td>0.0</td>\n",
              "      <td>0.154667</td>\n",
              "      <td>0.0075</td>\n",
              "      <td>0.002625</td>\n",
              "      <td>0.026154</td>\n",
              "      <td>0.004167</td>\n",
              "      <td>0.020000</td>\n",
              "      <td>0.000000</td>\n",
              "      <td>0.004762</td>\n",
              "      <td>0.034286</td>\n",
              "      <td>0.018182</td>\n",
              "      <td>0.008182</td>\n",
              "    </tr>\n",
              "    <tr>\n",
              "      <th>1</th>\n",
              "      <td>717.0</td>\n",
              "      <td>0.85</td>\n",
              "      <td>81.11</td>\n",
              "      <td>0.06</td>\n",
              "      <td>0.06</td>\n",
              "      <td>0.0</td>\n",
              "      <td>684.0</td>\n",
              "      <td>0.003</td>\n",
              "      <td>0.13</td>\n",
              "      <td>0.0</td>\n",
              "      <td>2.32</td>\n",
              "      <td>3.0</td>\n",
              "      <td>0.042</td>\n",
              "      <td>0.034</td>\n",
              "      <td>0.005</td>\n",
              "      <td>24.0</td>\n",
              "      <td>0.016</td>\n",
              "      <td>0.16</td>\n",
              "      <td>2.0</td>\n",
              "      <td>0.004</td>\n",
              "      <td>23.0</td>\n",
              "      <td>1.0</td>\n",
              "      <td>0.05</td>\n",
              "      <td>0.760000</td>\n",
              "      <td>0.001765</td>\n",
              "      <td>0.054167</td>\n",
              "      <td>0.0</td>\n",
              "      <td>0.154667</td>\n",
              "      <td>0.0075</td>\n",
              "      <td>0.002625</td>\n",
              "      <td>0.026154</td>\n",
              "      <td>0.004167</td>\n",
              "      <td>0.020000</td>\n",
              "      <td>0.000018</td>\n",
              "      <td>0.004762</td>\n",
              "      <td>0.032857</td>\n",
              "      <td>0.018182</td>\n",
              "      <td>0.004545</td>\n",
              "    </tr>\n",
              "    <tr>\n",
              "      <th>2</th>\n",
              "      <td>876.0</td>\n",
              "      <td>0.28</td>\n",
              "      <td>99.48</td>\n",
              "      <td>0.00</td>\n",
              "      <td>0.00</td>\n",
              "      <td>0.0</td>\n",
              "      <td>840.0</td>\n",
              "      <td>0.001</td>\n",
              "      <td>0.01</td>\n",
              "      <td>0.0</td>\n",
              "      <td>2.80</td>\n",
              "      <td>0.0</td>\n",
              "      <td>0.003</td>\n",
              "      <td>0.005</td>\n",
              "      <td>0.001</td>\n",
              "      <td>4.0</td>\n",
              "      <td>0.001</td>\n",
              "      <td>0.00</td>\n",
              "      <td>0.0</td>\n",
              "      <td>0.000</td>\n",
              "      <td>3.0</td>\n",
              "      <td>0.0</td>\n",
              "      <td>0.01</td>\n",
              "      <td>0.933333</td>\n",
              "      <td>0.000588</td>\n",
              "      <td>0.004167</td>\n",
              "      <td>0.0</td>\n",
              "      <td>0.186667</td>\n",
              "      <td>0.0000</td>\n",
              "      <td>0.000188</td>\n",
              "      <td>0.003846</td>\n",
              "      <td>0.000833</td>\n",
              "      <td>0.003333</td>\n",
              "      <td>0.000001</td>\n",
              "      <td>0.000000</td>\n",
              "      <td>0.004286</td>\n",
              "      <td>0.000000</td>\n",
              "      <td>0.000909</td>\n",
              "    </tr>\n",
              "    <tr>\n",
              "      <th>3</th>\n",
              "      <td>353.0</td>\n",
              "      <td>21.40</td>\n",
              "      <td>28.74</td>\n",
              "      <td>2.34</td>\n",
              "      <td>0.50</td>\n",
              "      <td>0.0</td>\n",
              "      <td>198.0</td>\n",
              "      <td>0.166</td>\n",
              "      <td>1.22</td>\n",
              "      <td>0.0</td>\n",
              "      <td>0.25</td>\n",
              "      <td>36.0</td>\n",
              "      <td>1.016</td>\n",
              "      <td>0.382</td>\n",
              "      <td>0.029</td>\n",
              "      <td>528.0</td>\n",
              "      <td>0.040</td>\n",
              "      <td>0.31</td>\n",
              "      <td>23.0</td>\n",
              "      <td>0.009</td>\n",
              "      <td>387.0</td>\n",
              "      <td>14.5</td>\n",
              "      <td>2.66</td>\n",
              "      <td>0.220000</td>\n",
              "      <td>0.097647</td>\n",
              "      <td>0.508333</td>\n",
              "      <td>0.0</td>\n",
              "      <td>0.016667</td>\n",
              "      <td>0.0900</td>\n",
              "      <td>0.063500</td>\n",
              "      <td>0.293846</td>\n",
              "      <td>0.024167</td>\n",
              "      <td>0.440000</td>\n",
              "      <td>0.000044</td>\n",
              "      <td>0.054762</td>\n",
              "      <td>0.552857</td>\n",
              "      <td>0.263636</td>\n",
              "      <td>0.241818</td>\n",
              "    </tr>\n",
              "    <tr>\n",
              "      <th>4</th>\n",
              "      <td>371.0</td>\n",
              "      <td>23.24</td>\n",
              "      <td>29.68</td>\n",
              "      <td>2.79</td>\n",
              "      <td>0.51</td>\n",
              "      <td>0.0</td>\n",
              "      <td>292.0</td>\n",
              "      <td>0.065</td>\n",
              "      <td>1.26</td>\n",
              "      <td>0.0</td>\n",
              "      <td>0.26</td>\n",
              "      <td>20.0</td>\n",
              "      <td>0.118</td>\n",
              "      <td>0.351</td>\n",
              "      <td>0.014</td>\n",
              "      <td>674.0</td>\n",
              "      <td>0.024</td>\n",
              "      <td>0.43</td>\n",
              "      <td>24.0</td>\n",
              "      <td>0.012</td>\n",
              "      <td>451.0</td>\n",
              "      <td>14.5</td>\n",
              "      <td>2.60</td>\n",
              "      <td>0.324444</td>\n",
              "      <td>0.038235</td>\n",
              "      <td>0.525000</td>\n",
              "      <td>0.0</td>\n",
              "      <td>0.017333</td>\n",
              "      <td>0.0500</td>\n",
              "      <td>0.007375</td>\n",
              "      <td>0.270000</td>\n",
              "      <td>0.011667</td>\n",
              "      <td>0.561667</td>\n",
              "      <td>0.000027</td>\n",
              "      <td>0.057143</td>\n",
              "      <td>0.644286</td>\n",
              "      <td>0.263636</td>\n",
              "      <td>0.236364</td>\n",
              "    </tr>\n",
              "  </tbody>\n",
              "</table>\n",
              "</div>"
            ],
            "text/plain": [
              "   Energy_kcal  Protein_g  Fat_g  ...  Phosphorus_USRDA  Selenium_USRDA  Zinc_USRDA\n",
              "0        717.0       0.85  81.11  ...          0.034286        0.018182    0.008182\n",
              "1        717.0       0.85  81.11  ...          0.032857        0.018182    0.004545\n",
              "2        876.0       0.28  99.48  ...          0.004286        0.000000    0.000909\n",
              "3        353.0      21.40  28.74  ...          0.552857        0.263636    0.241818\n",
              "4        371.0      23.24  29.68  ...          0.644286        0.263636    0.236364\n",
              "\n",
              "[5 rows x 38 columns]"
            ]
          },
          "metadata": {
            "tags": []
          },
          "execution_count": 4
        }
      ]
    },
    {
      "cell_type": "markdown",
      "metadata": {
        "id": "WWrilgZgnuq-"
      },
      "source": [
        "###ตรวจสอบว่า ระหว่าง columns มี correlation กันมากน้อยแค่ไหน ด้วย numpy"
      ]
    },
    {
      "cell_type": "code",
      "metadata": {
        "id": "Z-BhRUVknqhb"
      },
      "source": [
        "import numpy as np"
      ],
      "execution_count": 5,
      "outputs": []
    },
    {
      "cell_type": "code",
      "metadata": {
        "id": "2jswfUPeoR5b"
      },
      "source": [
        "corr = np.corrcoef(newdata.to_numpy().T)"
      ],
      "execution_count": 6,
      "outputs": []
    },
    {
      "cell_type": "code",
      "metadata": {
        "colab": {
          "base_uri": "https://localhost:8080/"
        },
        "id": "PPHub_t1oUM3",
        "outputId": "3834d8db-48e2-4ef6-f02f-c442273d2944"
      },
      "source": [
        "corr.shape"
      ],
      "execution_count": 7,
      "outputs": [
        {
          "output_type": "execute_result",
          "data": {
            "text/plain": [
              "(38, 38)"
            ]
          },
          "metadata": {
            "tags": []
          },
          "execution_count": 7
        }
      ]
    },
    {
      "cell_type": "code",
      "metadata": {
        "colab": {
          "base_uri": "https://localhost:8080/"
        },
        "id": "mVeN8XSYoWqW",
        "outputId": "7b57d4ba-fbbc-439c-ef26-82814eeeb701"
      },
      "source": [
        "corr"
      ],
      "execution_count": 8,
      "outputs": [
        {
          "output_type": "execute_result",
          "data": {
            "text/plain": [
              "array([[1.        , 0.11030203, 0.80679472, ..., 0.19518065, 0.05667274,\n",
              "        0.11276635],\n",
              "       [0.11030203, 1.        , 0.05471538, ..., 0.44460761, 0.37836917,\n",
              "        0.41631538],\n",
              "       [0.80679472, 0.05471538, 1.        , ..., 0.06608644, 0.03755914,\n",
              "        0.02826352],\n",
              "       ...,\n",
              "       [0.19518065, 0.44460761, 0.06608644, ..., 1.        , 0.22368557,\n",
              "        0.26657694],\n",
              "       [0.05667274, 0.37836917, 0.03755914, ..., 0.22368557, 1.        ,\n",
              "        0.20529859],\n",
              "       [0.11276635, 0.41631538, 0.02826352, ..., 0.26657694, 0.20529859,\n",
              "        1.        ]])"
            ]
          },
          "metadata": {
            "tags": []
          },
          "execution_count": 8
        }
      ]
    },
    {
      "cell_type": "code",
      "metadata": {
        "colab": {
          "base_uri": "https://localhost:8080/"
        },
        "id": "JvLxmnNVoawe",
        "outputId": "a70d2cd5-7963-4834-af44-05f53ebd4f1e"
      },
      "source": [
        "for i in range(corr.shape[0]):\n",
        "    for j in range(corr.shape[1]):\n",
        "        if (i !=j) and (corr[i,j] == 1.):\n",
        "            print(f'column = {i}<=> column = {j} corrcoef = {corr[i,j]}')"
      ],
      "execution_count": 9,
      "outputs": [
        {
          "output_type": "stream",
          "text": [
            "column = 10<=> column = 27 corrcoef = 1.0\n",
            "column = 12<=> column = 29 corrcoef = 1.0\n",
            "column = 13<=> column = 30 corrcoef = 1.0\n",
            "column = 14<=> column = 31 corrcoef = 1.0\n",
            "column = 18<=> column = 34 corrcoef = 1.0\n",
            "column = 20<=> column = 35 corrcoef = 1.0\n",
            "column = 22<=> column = 37 corrcoef = 1.0\n",
            "column = 27<=> column = 10 corrcoef = 1.0\n",
            "column = 29<=> column = 12 corrcoef = 1.0\n",
            "column = 30<=> column = 13 corrcoef = 1.0\n",
            "column = 31<=> column = 14 corrcoef = 1.0\n",
            "column = 34<=> column = 18 corrcoef = 1.0\n",
            "column = 35<=> column = 20 corrcoef = 1.0\n",
            "column = 37<=> column = 22 corrcoef = 1.0\n"
          ],
          "name": "stdout"
        }
      ]
    },
    {
      "cell_type": "code",
      "metadata": {
        "colab": {
          "base_uri": "https://localhost:8080/",
          "height": 215
        },
        "id": "VturxyH5ofgD",
        "outputId": "358d30f1-3c18-49e3-97e4-a331d8860987"
      },
      "source": [
        "newdata.iloc[:5,10:30]\n",
        "\n"
      ],
      "execution_count": 10,
      "outputs": [
        {
          "output_type": "execute_result",
          "data": {
            "text/html": [
              "<div>\n",
              "<style scoped>\n",
              "    .dataframe tbody tr th:only-of-type {\n",
              "        vertical-align: middle;\n",
              "    }\n",
              "\n",
              "    .dataframe tbody tr th {\n",
              "        vertical-align: top;\n",
              "    }\n",
              "\n",
              "    .dataframe thead th {\n",
              "        text-align: right;\n",
              "    }\n",
              "</style>\n",
              "<table border=\"1\" class=\"dataframe\">\n",
              "  <thead>\n",
              "    <tr style=\"text-align: right;\">\n",
              "      <th></th>\n",
              "      <th>VitE_mg</th>\n",
              "      <th>Folate_mcg</th>\n",
              "      <th>Niacin_mg</th>\n",
              "      <th>Riboflavin_mg</th>\n",
              "      <th>Thiamin_mg</th>\n",
              "      <th>Calcium_mg</th>\n",
              "      <th>Copper_mcg</th>\n",
              "      <th>Iron_mg</th>\n",
              "      <th>Magnesium_mg</th>\n",
              "      <th>Manganese_mg</th>\n",
              "      <th>Phosphorus_mg</th>\n",
              "      <th>Selenium_mcg</th>\n",
              "      <th>Zinc_mg</th>\n",
              "      <th>VitA_USRDA</th>\n",
              "      <th>VitB6_USRDA</th>\n",
              "      <th>VitB12_USRDA</th>\n",
              "      <th>VitC_USRDA</th>\n",
              "      <th>VitE_USRDA</th>\n",
              "      <th>Folate_USRDA</th>\n",
              "      <th>Niacin_USRDA</th>\n",
              "    </tr>\n",
              "  </thead>\n",
              "  <tbody>\n",
              "    <tr>\n",
              "      <th>0</th>\n",
              "      <td>2.32</td>\n",
              "      <td>3.0</td>\n",
              "      <td>0.042</td>\n",
              "      <td>0.034</td>\n",
              "      <td>0.005</td>\n",
              "      <td>24.0</td>\n",
              "      <td>0.000</td>\n",
              "      <td>0.02</td>\n",
              "      <td>2.0</td>\n",
              "      <td>0.000</td>\n",
              "      <td>24.0</td>\n",
              "      <td>1.0</td>\n",
              "      <td>0.09</td>\n",
              "      <td>0.760000</td>\n",
              "      <td>0.001765</td>\n",
              "      <td>0.070833</td>\n",
              "      <td>0.0</td>\n",
              "      <td>0.154667</td>\n",
              "      <td>0.0075</td>\n",
              "      <td>0.002625</td>\n",
              "    </tr>\n",
              "    <tr>\n",
              "      <th>1</th>\n",
              "      <td>2.32</td>\n",
              "      <td>3.0</td>\n",
              "      <td>0.042</td>\n",
              "      <td>0.034</td>\n",
              "      <td>0.005</td>\n",
              "      <td>24.0</td>\n",
              "      <td>0.016</td>\n",
              "      <td>0.16</td>\n",
              "      <td>2.0</td>\n",
              "      <td>0.004</td>\n",
              "      <td>23.0</td>\n",
              "      <td>1.0</td>\n",
              "      <td>0.05</td>\n",
              "      <td>0.760000</td>\n",
              "      <td>0.001765</td>\n",
              "      <td>0.054167</td>\n",
              "      <td>0.0</td>\n",
              "      <td>0.154667</td>\n",
              "      <td>0.0075</td>\n",
              "      <td>0.002625</td>\n",
              "    </tr>\n",
              "    <tr>\n",
              "      <th>2</th>\n",
              "      <td>2.80</td>\n",
              "      <td>0.0</td>\n",
              "      <td>0.003</td>\n",
              "      <td>0.005</td>\n",
              "      <td>0.001</td>\n",
              "      <td>4.0</td>\n",
              "      <td>0.001</td>\n",
              "      <td>0.00</td>\n",
              "      <td>0.0</td>\n",
              "      <td>0.000</td>\n",
              "      <td>3.0</td>\n",
              "      <td>0.0</td>\n",
              "      <td>0.01</td>\n",
              "      <td>0.933333</td>\n",
              "      <td>0.000588</td>\n",
              "      <td>0.004167</td>\n",
              "      <td>0.0</td>\n",
              "      <td>0.186667</td>\n",
              "      <td>0.0000</td>\n",
              "      <td>0.000188</td>\n",
              "    </tr>\n",
              "    <tr>\n",
              "      <th>3</th>\n",
              "      <td>0.25</td>\n",
              "      <td>36.0</td>\n",
              "      <td>1.016</td>\n",
              "      <td>0.382</td>\n",
              "      <td>0.029</td>\n",
              "      <td>528.0</td>\n",
              "      <td>0.040</td>\n",
              "      <td>0.31</td>\n",
              "      <td>23.0</td>\n",
              "      <td>0.009</td>\n",
              "      <td>387.0</td>\n",
              "      <td>14.5</td>\n",
              "      <td>2.66</td>\n",
              "      <td>0.220000</td>\n",
              "      <td>0.097647</td>\n",
              "      <td>0.508333</td>\n",
              "      <td>0.0</td>\n",
              "      <td>0.016667</td>\n",
              "      <td>0.0900</td>\n",
              "      <td>0.063500</td>\n",
              "    </tr>\n",
              "    <tr>\n",
              "      <th>4</th>\n",
              "      <td>0.26</td>\n",
              "      <td>20.0</td>\n",
              "      <td>0.118</td>\n",
              "      <td>0.351</td>\n",
              "      <td>0.014</td>\n",
              "      <td>674.0</td>\n",
              "      <td>0.024</td>\n",
              "      <td>0.43</td>\n",
              "      <td>24.0</td>\n",
              "      <td>0.012</td>\n",
              "      <td>451.0</td>\n",
              "      <td>14.5</td>\n",
              "      <td>2.60</td>\n",
              "      <td>0.324444</td>\n",
              "      <td>0.038235</td>\n",
              "      <td>0.525000</td>\n",
              "      <td>0.0</td>\n",
              "      <td>0.017333</td>\n",
              "      <td>0.0500</td>\n",
              "      <td>0.007375</td>\n",
              "    </tr>\n",
              "  </tbody>\n",
              "</table>\n",
              "</div>"
            ],
            "text/plain": [
              "   VitE_mg  Folate_mcg  Niacin_mg  ...  VitE_USRDA  Folate_USRDA  Niacin_USRDA\n",
              "0     2.32         3.0      0.042  ...    0.154667        0.0075      0.002625\n",
              "1     2.32         3.0      0.042  ...    0.154667        0.0075      0.002625\n",
              "2     2.80         0.0      0.003  ...    0.186667        0.0000      0.000188\n",
              "3     0.25        36.0      1.016  ...    0.016667        0.0900      0.063500\n",
              "4     0.26        20.0      0.118  ...    0.017333        0.0500      0.007375\n",
              "\n",
              "[5 rows x 20 columns]"
            ]
          },
          "metadata": {
            "tags": []
          },
          "execution_count": 10
        }
      ]
    },
    {
      "cell_type": "code",
      "metadata": {
        "id": "NuTbnovqojWn"
      },
      "source": [
        "from matplotlib import pyplot as plt"
      ],
      "execution_count": 11,
      "outputs": []
    },
    {
      "cell_type": "markdown",
      "metadata": {
        "id": "wdgpJgMxowKs"
      },
      "source": [
        "###data ที่มี correlation เป็น 1"
      ]
    },
    {
      "cell_type": "code",
      "metadata": {
        "colab": {
          "base_uri": "https://localhost:8080/",
          "height": 282
        },
        "id": "jtsVoC3tot3E",
        "outputId": "aa13222b-5a46-447f-bb34-f5df5d0c9de7"
      },
      "source": [
        "plt.plot(newdata.iloc[:,10],newdata.iloc[:,27],'r.')"
      ],
      "execution_count": 12,
      "outputs": [
        {
          "output_type": "execute_result",
          "data": {
            "text/plain": [
              "[<matplotlib.lines.Line2D at 0x7efd4256bdd0>]"
            ]
          },
          "metadata": {
            "tags": []
          },
          "execution_count": 12
        },
        {
          "output_type": "display_data",
          "data": {
            "image/png": "[encoded data removed]",
            "text/plain": [
              "<Figure size 432x288 with 1 Axes>"
            ]
          },
          "metadata": {
            "tags": [],
            "needs_background": "light"
          }
        }
      ]
    },
    {
      "cell_type": "code",
      "metadata": {
        "colab": {
          "base_uri": "https://localhost:8080/",
          "height": 282
        },
        "id": "nCCwFgnTo2S6",
        "outputId": "d8396e91-44a1-4b1e-c3bf-cb46a5ea9c61"
      },
      "source": [
        "plt.plot(newdata.iloc[:,10],newdata.iloc[:,10],'r.')"
      ],
      "execution_count": 13,
      "outputs": [
        {
          "output_type": "execute_result",
          "data": {
            "text/plain": [
              "[<matplotlib.lines.Line2D at 0x7efd4204bf50>]"
            ]
          },
          "metadata": {
            "tags": []
          },
          "execution_count": 13
        },
        {
          "output_type": "display_data",
          "data": {
            "image/png": "[encoded data removed]",
            "text/plain": [
              "<Figure size 432x288 with 1 Axes>"
            ]
          },
          "metadata": {
            "tags": [],
            "needs_background": "light"
          }
        }
      ]
    },
    {
      "cell_type": "markdown",
      "metadata": {
        "id": "4xv5IgKeo-b-"
      },
      "source": [
        "###data ที่มี correlation เป็นค่าอื่นๆ"
      ]
    },
    {
      "cell_type": "code",
      "metadata": {
        "colab": {
          "base_uri": "https://localhost:8080/",
          "height": 282
        },
        "id": "-xOP5i4Ao5M3",
        "outputId": "2c0740fc-b7e3-4539-9d1f-43f25d02580b"
      },
      "source": [
        "plt.plot(newdata.iloc[:,11],newdata.iloc[:,29],'r.')"
      ],
      "execution_count": 14,
      "outputs": [
        {
          "output_type": "execute_result",
          "data": {
            "text/plain": [
              "[<matplotlib.lines.Line2D at 0x7efd41fceb90>]"
            ]
          },
          "metadata": {
            "tags": []
          },
          "execution_count": 14
        },
        {
          "output_type": "display_data",
          "data": {
            "image/png": "[encoded data removed]",
            "text/plain": [
              "<Figure size 432x288 with 1 Axes>"
            ]
          },
          "metadata": {
            "tags": [],
            "needs_background": "light"
          }
        }
      ]
    },
    {
      "cell_type": "markdown",
      "metadata": {
        "id": "ud_Wj1KZpGr2"
      },
      "source": [
        "###ลบ column ซ้ำ"
      ]
    },
    {
      "cell_type": "code",
      "metadata": {
        "colab": {
          "base_uri": "https://localhost:8080/"
        },
        "id": "5XxUCvfYpDuj",
        "outputId": "ae6376ec-f637-4ed4-9ef5-e79440cef925"
      },
      "source": [
        "newdata.columns.str.contains('_USRDA')"
      ],
      "execution_count": 15,
      "outputs": [
        {
          "output_type": "execute_result",
          "data": {
            "text/plain": [
              "array([False, False, False, False, False, False, False, False, False,\n",
              "       False, False, False, False, False, False, False, False, False,\n",
              "       False, False, False, False, False,  True,  True,  True,  True,\n",
              "        True,  True,  True,  True,  True,  True,  True,  True,  True,\n",
              "        True,  True])"
            ]
          },
          "metadata": {
            "tags": []
          },
          "execution_count": 15
        }
      ]
    },
    {
      "cell_type": "code",
      "metadata": {
        "colab": {
          "base_uri": "https://localhost:8080/"
        },
        "id": "mll30qzopKg0",
        "outputId": "1ffa3a3c-e42f-40b3-8c8c-23021a142d85"
      },
      "source": [
        "newdata.columns[newdata.columns.str.contains('_USRDA')].values"
      ],
      "execution_count": 16,
      "outputs": [
        {
          "output_type": "execute_result",
          "data": {
            "text/plain": [
              "array(['VitA_USRDA', 'VitB6_USRDA', 'VitB12_USRDA', 'VitC_USRDA',\n",
              "       'VitE_USRDA', 'Folate_USRDA', 'Niacin_USRDA', 'Riboflavin_USRDA',\n",
              "       'Thiamin_USRDA', 'Calcium_USRDA', 'Copper_USRDA',\n",
              "       'Magnesium_USRDA', 'Phosphorus_USRDA', 'Selenium_USRDA',\n",
              "       'Zinc_USRDA'], dtype=object)"
            ]
          },
          "metadata": {
            "tags": []
          },
          "execution_count": 16
        }
      ]
    },
    {
      "cell_type": "code",
      "metadata": {
        "colab": {
          "base_uri": "https://localhost:8080/",
          "height": 422
        },
        "id": "eFUG-sjDpO4P",
        "outputId": "f675d8bc-83b3-402f-92db-4362cdf9348a"
      },
      "source": [
        "newdata.drop(newdata.columns[newdata.columns.str.contains('_USRDA')].values, axis=1)"
      ],
      "execution_count": 17,
      "outputs": [
        {
          "output_type": "execute_result",
          "data": {
            "text/html": [
              "<div>\n",
              "<style scoped>\n",
              "    .dataframe tbody tr th:only-of-type {\n",
              "        vertical-align: middle;\n",
              "    }\n",
              "\n",
              "    .dataframe tbody tr th {\n",
              "        vertical-align: top;\n",
              "    }\n",
              "\n",
              "    .dataframe thead th {\n",
              "        text-align: right;\n",
              "    }\n",
              "</style>\n",
              "<table border=\"1\" class=\"dataframe\">\n",
              "  <thead>\n",
              "    <tr style=\"text-align: right;\">\n",
              "      <th></th>\n",
              "      <th>Energy_kcal</th>\n",
              "      <th>Protein_g</th>\n",
              "      <th>Fat_g</th>\n",
              "      <th>Carb_g</th>\n",
              "      <th>Sugar_g</th>\n",
              "      <th>Fiber_g</th>\n",
              "      <th>VitA_mcg</th>\n",
              "      <th>VitB6_mg</th>\n",
              "      <th>VitB12_mcg</th>\n",
              "      <th>VitC_mg</th>\n",
              "      <th>VitE_mg</th>\n",
              "      <th>Folate_mcg</th>\n",
              "      <th>Niacin_mg</th>\n",
              "      <th>Riboflavin_mg</th>\n",
              "      <th>Thiamin_mg</th>\n",
              "      <th>Calcium_mg</th>\n",
              "      <th>Copper_mcg</th>\n",
              "      <th>Iron_mg</th>\n",
              "      <th>Magnesium_mg</th>\n",
              "      <th>Manganese_mg</th>\n",
              "      <th>Phosphorus_mg</th>\n",
              "      <th>Selenium_mcg</th>\n",
              "      <th>Zinc_mg</th>\n",
              "    </tr>\n",
              "  </thead>\n",
              "  <tbody>\n",
              "    <tr>\n",
              "      <th>0</th>\n",
              "      <td>717.0</td>\n",
              "      <td>0.85</td>\n",
              "      <td>81.11</td>\n",
              "      <td>0.06</td>\n",
              "      <td>0.06</td>\n",
              "      <td>0.0</td>\n",
              "      <td>684.0</td>\n",
              "      <td>0.003</td>\n",
              "      <td>0.17</td>\n",
              "      <td>0.0</td>\n",
              "      <td>2.32</td>\n",
              "      <td>3.0</td>\n",
              "      <td>0.042</td>\n",
              "      <td>0.034</td>\n",
              "      <td>0.005</td>\n",
              "      <td>24.0</td>\n",
              "      <td>0.000</td>\n",
              "      <td>0.02</td>\n",
              "      <td>2.0</td>\n",
              "      <td>0.000</td>\n",
              "      <td>24.0</td>\n",
              "      <td>1.0</td>\n",
              "      <td>0.09</td>\n",
              "    </tr>\n",
              "    <tr>\n",
              "      <th>1</th>\n",
              "      <td>717.0</td>\n",
              "      <td>0.85</td>\n",
              "      <td>81.11</td>\n",
              "      <td>0.06</td>\n",
              "      <td>0.06</td>\n",
              "      <td>0.0</td>\n",
              "      <td>684.0</td>\n",
              "      <td>0.003</td>\n",
              "      <td>0.13</td>\n",
              "      <td>0.0</td>\n",
              "      <td>2.32</td>\n",
              "      <td>3.0</td>\n",
              "      <td>0.042</td>\n",
              "      <td>0.034</td>\n",
              "      <td>0.005</td>\n",
              "      <td>24.0</td>\n",
              "      <td>0.016</td>\n",
              "      <td>0.16</td>\n",
              "      <td>2.0</td>\n",
              "      <td>0.004</td>\n",
              "      <td>23.0</td>\n",
              "      <td>1.0</td>\n",
              "      <td>0.05</td>\n",
              "    </tr>\n",
              "    <tr>\n",
              "      <th>2</th>\n",
              "      <td>876.0</td>\n",
              "      <td>0.28</td>\n",
              "      <td>99.48</td>\n",
              "      <td>0.00</td>\n",
              "      <td>0.00</td>\n",
              "      <td>0.0</td>\n",
              "      <td>840.0</td>\n",
              "      <td>0.001</td>\n",
              "      <td>0.01</td>\n",
              "      <td>0.0</td>\n",
              "      <td>2.80</td>\n",
              "      <td>0.0</td>\n",
              "      <td>0.003</td>\n",
              "      <td>0.005</td>\n",
              "      <td>0.001</td>\n",
              "      <td>4.0</td>\n",
              "      <td>0.001</td>\n",
              "      <td>0.00</td>\n",
              "      <td>0.0</td>\n",
              "      <td>0.000</td>\n",
              "      <td>3.0</td>\n",
              "      <td>0.0</td>\n",
              "      <td>0.01</td>\n",
              "    </tr>\n",
              "    <tr>\n",
              "      <th>3</th>\n",
              "      <td>353.0</td>\n",
              "      <td>21.40</td>\n",
              "      <td>28.74</td>\n",
              "      <td>2.34</td>\n",
              "      <td>0.50</td>\n",
              "      <td>0.0</td>\n",
              "      <td>198.0</td>\n",
              "      <td>0.166</td>\n",
              "      <td>1.22</td>\n",
              "      <td>0.0</td>\n",
              "      <td>0.25</td>\n",
              "      <td>36.0</td>\n",
              "      <td>1.016</td>\n",
              "      <td>0.382</td>\n",
              "      <td>0.029</td>\n",
              "      <td>528.0</td>\n",
              "      <td>0.040</td>\n",
              "      <td>0.31</td>\n",
              "      <td>23.0</td>\n",
              "      <td>0.009</td>\n",
              "      <td>387.0</td>\n",
              "      <td>14.5</td>\n",
              "      <td>2.66</td>\n",
              "    </tr>\n",
              "    <tr>\n",
              "      <th>4</th>\n",
              "      <td>371.0</td>\n",
              "      <td>23.24</td>\n",
              "      <td>29.68</td>\n",
              "      <td>2.79</td>\n",
              "      <td>0.51</td>\n",
              "      <td>0.0</td>\n",
              "      <td>292.0</td>\n",
              "      <td>0.065</td>\n",
              "      <td>1.26</td>\n",
              "      <td>0.0</td>\n",
              "      <td>0.26</td>\n",
              "      <td>20.0</td>\n",
              "      <td>0.118</td>\n",
              "      <td>0.351</td>\n",
              "      <td>0.014</td>\n",
              "      <td>674.0</td>\n",
              "      <td>0.024</td>\n",
              "      <td>0.43</td>\n",
              "      <td>24.0</td>\n",
              "      <td>0.012</td>\n",
              "      <td>451.0</td>\n",
              "      <td>14.5</td>\n",
              "      <td>2.60</td>\n",
              "    </tr>\n",
              "    <tr>\n",
              "      <th>...</th>\n",
              "      <td>...</td>\n",
              "      <td>...</td>\n",
              "      <td>...</td>\n",
              "      <td>...</td>\n",
              "      <td>...</td>\n",
              "      <td>...</td>\n",
              "      <td>...</td>\n",
              "      <td>...</td>\n",
              "      <td>...</td>\n",
              "      <td>...</td>\n",
              "      <td>...</td>\n",
              "      <td>...</td>\n",
              "      <td>...</td>\n",
              "      <td>...</td>\n",
              "      <td>...</td>\n",
              "      <td>...</td>\n",
              "      <td>...</td>\n",
              "      <td>...</td>\n",
              "      <td>...</td>\n",
              "      <td>...</td>\n",
              "      <td>...</td>\n",
              "      <td>...</td>\n",
              "      <td>...</td>\n",
              "    </tr>\n",
              "    <tr>\n",
              "      <th>8613</th>\n",
              "      <td>305.0</td>\n",
              "      <td>18.50</td>\n",
              "      <td>25.10</td>\n",
              "      <td>0.00</td>\n",
              "      <td>0.00</td>\n",
              "      <td>0.0</td>\n",
              "      <td>47.0</td>\n",
              "      <td>0.410</td>\n",
              "      <td>12.00</td>\n",
              "      <td>0.0</td>\n",
              "      <td>2.38</td>\n",
              "      <td>15.0</td>\n",
              "      <td>3.300</td>\n",
              "      <td>0.190</td>\n",
              "      <td>0.020</td>\n",
              "      <td>66.0</td>\n",
              "      <td>0.100</td>\n",
              "      <td>1.40</td>\n",
              "      <td>60.0</td>\n",
              "      <td>0.000</td>\n",
              "      <td>254.0</td>\n",
              "      <td>73.4</td>\n",
              "      <td>1.10</td>\n",
              "    </tr>\n",
              "    <tr>\n",
              "      <th>8614</th>\n",
              "      <td>111.0</td>\n",
              "      <td>20.54</td>\n",
              "      <td>0.84</td>\n",
              "      <td>5.41</td>\n",
              "      <td>0.00</td>\n",
              "      <td>0.0</td>\n",
              "      <td>2.0</td>\n",
              "      <td>0.112</td>\n",
              "      <td>2.15</td>\n",
              "      <td>0.0</td>\n",
              "      <td>0.00</td>\n",
              "      <td>20.0</td>\n",
              "      <td>1.076</td>\n",
              "      <td>0.024</td>\n",
              "      <td>0.012</td>\n",
              "      <td>10.0</td>\n",
              "      <td>0.033</td>\n",
              "      <td>0.58</td>\n",
              "      <td>37.0</td>\n",
              "      <td>0.029</td>\n",
              "      <td>426.0</td>\n",
              "      <td>21.7</td>\n",
              "      <td>1.55</td>\n",
              "    </tr>\n",
              "    <tr>\n",
              "      <th>8615</th>\n",
              "      <td>269.0</td>\n",
              "      <td>0.00</td>\n",
              "      <td>0.00</td>\n",
              "      <td>73.14</td>\n",
              "      <td>73.20</td>\n",
              "      <td>0.0</td>\n",
              "      <td>0.0</td>\n",
              "      <td>0.000</td>\n",
              "      <td>0.00</td>\n",
              "      <td>0.0</td>\n",
              "      <td>0.00</td>\n",
              "      <td>0.0</td>\n",
              "      <td>0.100</td>\n",
              "      <td>0.060</td>\n",
              "      <td>0.130</td>\n",
              "      <td>13.0</td>\n",
              "      <td>0.020</td>\n",
              "      <td>3.60</td>\n",
              "      <td>10.0</td>\n",
              "      <td>0.000</td>\n",
              "      <td>8.0</td>\n",
              "      <td>0.7</td>\n",
              "      <td>0.19</td>\n",
              "    </tr>\n",
              "    <tr>\n",
              "      <th>8616</th>\n",
              "      <td>90.0</td>\n",
              "      <td>16.10</td>\n",
              "      <td>1.40</td>\n",
              "      <td>2.00</td>\n",
              "      <td>0.00</td>\n",
              "      <td>0.0</td>\n",
              "      <td>30.0</td>\n",
              "      <td>0.130</td>\n",
              "      <td>0.50</td>\n",
              "      <td>0.0</td>\n",
              "      <td>5.00</td>\n",
              "      <td>6.0</td>\n",
              "      <td>1.400</td>\n",
              "      <td>0.120</td>\n",
              "      <td>0.010</td>\n",
              "      <td>10.0</td>\n",
              "      <td>0.400</td>\n",
              "      <td>3.50</td>\n",
              "      <td>250.0</td>\n",
              "      <td>0.000</td>\n",
              "      <td>272.0</td>\n",
              "      <td>27.4</td>\n",
              "      <td>1.00</td>\n",
              "    </tr>\n",
              "    <tr>\n",
              "      <th>8617</th>\n",
              "      <td>89.0</td>\n",
              "      <td>19.80</td>\n",
              "      <td>0.50</td>\n",
              "      <td>0.00</td>\n",
              "      <td>0.00</td>\n",
              "      <td>0.0</td>\n",
              "      <td>30.0</td>\n",
              "      <td>0.120</td>\n",
              "      <td>1.00</td>\n",
              "      <td>0.0</td>\n",
              "      <td>0.50</td>\n",
              "      <td>15.0</td>\n",
              "      <td>1.100</td>\n",
              "      <td>0.150</td>\n",
              "      <td>0.120</td>\n",
              "      <td>118.0</td>\n",
              "      <td>0.250</td>\n",
              "      <td>1.40</td>\n",
              "      <td>20.0</td>\n",
              "      <td>0.000</td>\n",
              "      <td>180.0</td>\n",
              "      <td>16.8</td>\n",
              "      <td>1.00</td>\n",
              "    </tr>\n",
              "  </tbody>\n",
              "</table>\n",
              "<p>8618 rows × 23 columns</p>\n",
              "</div>"
            ],
            "text/plain": [
              "      Energy_kcal  Protein_g  Fat_g  ...  Phosphorus_mg  Selenium_mcg  Zinc_mg\n",
              "0           717.0       0.85  81.11  ...           24.0           1.0     0.09\n",
              "1           717.0       0.85  81.11  ...           23.0           1.0     0.05\n",
              "2           876.0       0.28  99.48  ...            3.0           0.0     0.01\n",
              "3           353.0      21.40  28.74  ...          387.0          14.5     2.66\n",
              "4           371.0      23.24  29.68  ...          451.0          14.5     2.60\n",
              "...           ...        ...    ...  ...            ...           ...      ...\n",
              "8613        305.0      18.50  25.10  ...          254.0          73.4     1.10\n",
              "8614        111.0      20.54   0.84  ...          426.0          21.7     1.55\n",
              "8615        269.0       0.00   0.00  ...            8.0           0.7     0.19\n",
              "8616         90.0      16.10   1.40  ...          272.0          27.4     1.00\n",
              "8617         89.0      19.80   0.50  ...          180.0          16.8     1.00\n",
              "\n",
              "[8618 rows x 23 columns]"
            ]
          },
          "metadata": {
            "tags": []
          },
          "execution_count": 17
        }
      ]
    },
    {
      "cell_type": "markdown",
      "metadata": {
        "id": "7q2ugFFKpbsn"
      },
      "source": [
        "###ลบ columns ที่มีค่า correlation เป็น 1 เมื่อเทียบกับ column อื่น"
      ]
    },
    {
      "cell_type": "code",
      "metadata": {
        "colab": {
          "base_uri": "https://localhost:8080/",
          "height": 422
        },
        "id": "Upp-d7xopRh8",
        "outputId": "7bd2c520-5601-4aec-e883-6237f11a1f33"
      },
      "source": [
        "newdata_dropped = newdata.drop(['VitE_mg','Niacin_mg','Riboflavin_mg','Thiamin_mg','Magnesium_mg','Phosphorus_mg','Zinc_mg'], axis=1)\n",
        "newdata_dropped\n"
      ],
      "execution_count": 18,
      "outputs": [
        {
          "output_type": "execute_result",
          "data": {
            "text/html": [
              "<div>\n",
              "<style scoped>\n",
              "    .dataframe tbody tr th:only-of-type {\n",
              "        vertical-align: middle;\n",
              "    }\n",
              "\n",
              "    .dataframe tbody tr th {\n",
              "        vertical-align: top;\n",
              "    }\n",
              "\n",
              "    .dataframe thead th {\n",
              "        text-align: right;\n",
              "    }\n",
              "</style>\n",
              "<table border=\"1\" class=\"dataframe\">\n",
              "  <thead>\n",
              "    <tr style=\"text-align: right;\">\n",
              "      <th></th>\n",
              "      <th>Energy_kcal</th>\n",
              "      <th>Protein_g</th>\n",
              "      <th>Fat_g</th>\n",
              "      <th>Carb_g</th>\n",
              "      <th>Sugar_g</th>\n",
              "      <th>Fiber_g</th>\n",
              "      <th>VitA_mcg</th>\n",
              "      <th>VitB6_mg</th>\n",
              "      <th>VitB12_mcg</th>\n",
              "      <th>VitC_mg</th>\n",
              "      <th>Folate_mcg</th>\n",
              "      <th>Calcium_mg</th>\n",
              "      <th>Copper_mcg</th>\n",
              "      <th>Iron_mg</th>\n",
              "      <th>Manganese_mg</th>\n",
              "      <th>Selenium_mcg</th>\n",
              "      <th>VitA_USRDA</th>\n",
              "      <th>VitB6_USRDA</th>\n",
              "      <th>VitB12_USRDA</th>\n",
              "      <th>VitC_USRDA</th>\n",
              "      <th>VitE_USRDA</th>\n",
              "      <th>Folate_USRDA</th>\n",
              "      <th>Niacin_USRDA</th>\n",
              "      <th>Riboflavin_USRDA</th>\n",
              "      <th>Thiamin_USRDA</th>\n",
              "      <th>Calcium_USRDA</th>\n",
              "      <th>Copper_USRDA</th>\n",
              "      <th>Magnesium_USRDA</th>\n",
              "      <th>Phosphorus_USRDA</th>\n",
              "      <th>Selenium_USRDA</th>\n",
              "      <th>Zinc_USRDA</th>\n",
              "    </tr>\n",
              "  </thead>\n",
              "  <tbody>\n",
              "    <tr>\n",
              "      <th>0</th>\n",
              "      <td>717.0</td>\n",
              "      <td>0.85</td>\n",
              "      <td>81.11</td>\n",
              "      <td>0.06</td>\n",
              "      <td>0.06</td>\n",
              "      <td>0.0</td>\n",
              "      <td>684.0</td>\n",
              "      <td>0.003</td>\n",
              "      <td>0.17</td>\n",
              "      <td>0.0</td>\n",
              "      <td>3.0</td>\n",
              "      <td>24.0</td>\n",
              "      <td>0.000</td>\n",
              "      <td>0.02</td>\n",
              "      <td>0.000</td>\n",
              "      <td>1.0</td>\n",
              "      <td>0.760000</td>\n",
              "      <td>0.001765</td>\n",
              "      <td>0.070833</td>\n",
              "      <td>0.0</td>\n",
              "      <td>0.154667</td>\n",
              "      <td>0.0075</td>\n",
              "      <td>0.002625</td>\n",
              "      <td>0.026154</td>\n",
              "      <td>0.004167</td>\n",
              "      <td>0.020000</td>\n",
              "      <td>0.000000</td>\n",
              "      <td>0.004762</td>\n",
              "      <td>0.034286</td>\n",
              "      <td>0.018182</td>\n",
              "      <td>0.008182</td>\n",
              "    </tr>\n",
              "    <tr>\n",
              "      <th>1</th>\n",
              "      <td>717.0</td>\n",
              "      <td>0.85</td>\n",
              "      <td>81.11</td>\n",
              "      <td>0.06</td>\n",
              "      <td>0.06</td>\n",
              "      <td>0.0</td>\n",
              "      <td>684.0</td>\n",
              "      <td>0.003</td>\n",
              "      <td>0.13</td>\n",
              "      <td>0.0</td>\n",
              "      <td>3.0</td>\n",
              "      <td>24.0</td>\n",
              "      <td>0.016</td>\n",
              "      <td>0.16</td>\n",
              "      <td>0.004</td>\n",
              "      <td>1.0</td>\n",
              "      <td>0.760000</td>\n",
              "      <td>0.001765</td>\n",
              "      <td>0.054167</td>\n",
              "      <td>0.0</td>\n",
              "      <td>0.154667</td>\n",
              "      <td>0.0075</td>\n",
              "      <td>0.002625</td>\n",
              "      <td>0.026154</td>\n",
              "      <td>0.004167</td>\n",
              "      <td>0.020000</td>\n",
              "      <td>0.000018</td>\n",
              "      <td>0.004762</td>\n",
              "      <td>0.032857</td>\n",
              "      <td>0.018182</td>\n",
              "      <td>0.004545</td>\n",
              "    </tr>\n",
              "    <tr>\n",
              "      <th>2</th>\n",
              "      <td>876.0</td>\n",
              "      <td>0.28</td>\n",
              "      <td>99.48</td>\n",
              "      <td>0.00</td>\n",
              "      <td>0.00</td>\n",
              "      <td>0.0</td>\n",
              "      <td>840.0</td>\n",
              "      <td>0.001</td>\n",
              "      <td>0.01</td>\n",
              "      <td>0.0</td>\n",
              "      <td>0.0</td>\n",
              "      <td>4.0</td>\n",
              "      <td>0.001</td>\n",
              "      <td>0.00</td>\n",
              "      <td>0.000</td>\n",
              "      <td>0.0</td>\n",
              "      <td>0.933333</td>\n",
              "      <td>0.000588</td>\n",
              "      <td>0.004167</td>\n",
              "      <td>0.0</td>\n",
              "      <td>0.186667</td>\n",
              "      <td>0.0000</td>\n",
              "      <td>0.000188</td>\n",
              "      <td>0.003846</td>\n",
              "      <td>0.000833</td>\n",
              "      <td>0.003333</td>\n",
              "      <td>0.000001</td>\n",
              "      <td>0.000000</td>\n",
              "      <td>0.004286</td>\n",
              "      <td>0.000000</td>\n",
              "      <td>0.000909</td>\n",
              "    </tr>\n",
              "    <tr>\n",
              "      <th>3</th>\n",
              "      <td>353.0</td>\n",
              "      <td>21.40</td>\n",
              "      <td>28.74</td>\n",
              "      <td>2.34</td>\n",
              "      <td>0.50</td>\n",
              "      <td>0.0</td>\n",
              "      <td>198.0</td>\n",
              "      <td>0.166</td>\n",
              "      <td>1.22</td>\n",
              "      <td>0.0</td>\n",
              "      <td>36.0</td>\n",
              "      <td>528.0</td>\n",
              "      <td>0.040</td>\n",
              "      <td>0.31</td>\n",
              "      <td>0.009</td>\n",
              "      <td>14.5</td>\n",
              "      <td>0.220000</td>\n",
              "      <td>0.097647</td>\n",
              "      <td>0.508333</td>\n",
              "      <td>0.0</td>\n",
              "      <td>0.016667</td>\n",
              "      <td>0.0900</td>\n",
              "      <td>0.063500</td>\n",
              "      <td>0.293846</td>\n",
              "      <td>0.024167</td>\n",
              "      <td>0.440000</td>\n",
              "      <td>0.000044</td>\n",
              "      <td>0.054762</td>\n",
              "      <td>0.552857</td>\n",
              "      <td>0.263636</td>\n",
              "      <td>0.241818</td>\n",
              "    </tr>\n",
              "    <tr>\n",
              "      <th>4</th>\n",
              "      <td>371.0</td>\n",
              "      <td>23.24</td>\n",
              "      <td>29.68</td>\n",
              "      <td>2.79</td>\n",
              "      <td>0.51</td>\n",
              "      <td>0.0</td>\n",
              "      <td>292.0</td>\n",
              "      <td>0.065</td>\n",
              "      <td>1.26</td>\n",
              "      <td>0.0</td>\n",
              "      <td>20.0</td>\n",
              "      <td>674.0</td>\n",
              "      <td>0.024</td>\n",
              "      <td>0.43</td>\n",
              "      <td>0.012</td>\n",
              "      <td>14.5</td>\n",
              "      <td>0.324444</td>\n",
              "      <td>0.038235</td>\n",
              "      <td>0.525000</td>\n",
              "      <td>0.0</td>\n",
              "      <td>0.017333</td>\n",
              "      <td>0.0500</td>\n",
              "      <td>0.007375</td>\n",
              "      <td>0.270000</td>\n",
              "      <td>0.011667</td>\n",
              "      <td>0.561667</td>\n",
              "      <td>0.000027</td>\n",
              "      <td>0.057143</td>\n",
              "      <td>0.644286</td>\n",
              "      <td>0.263636</td>\n",
              "      <td>0.236364</td>\n",
              "    </tr>\n",
              "    <tr>\n",
              "      <th>...</th>\n",
              "      <td>...</td>\n",
              "      <td>...</td>\n",
              "      <td>...</td>\n",
              "      <td>...</td>\n",
              "      <td>...</td>\n",
              "      <td>...</td>\n",
              "      <td>...</td>\n",
              "      <td>...</td>\n",
              "      <td>...</td>\n",
              "      <td>...</td>\n",
              "      <td>...</td>\n",
              "      <td>...</td>\n",
              "      <td>...</td>\n",
              "      <td>...</td>\n",
              "      <td>...</td>\n",
              "      <td>...</td>\n",
              "      <td>...</td>\n",
              "      <td>...</td>\n",
              "      <td>...</td>\n",
              "      <td>...</td>\n",
              "      <td>...</td>\n",
              "      <td>...</td>\n",
              "      <td>...</td>\n",
              "      <td>...</td>\n",
              "      <td>...</td>\n",
              "      <td>...</td>\n",
              "      <td>...</td>\n",
              "      <td>...</td>\n",
              "      <td>...</td>\n",
              "      <td>...</td>\n",
              "      <td>...</td>\n",
              "    </tr>\n",
              "    <tr>\n",
              "      <th>8613</th>\n",
              "      <td>305.0</td>\n",
              "      <td>18.50</td>\n",
              "      <td>25.10</td>\n",
              "      <td>0.00</td>\n",
              "      <td>0.00</td>\n",
              "      <td>0.0</td>\n",
              "      <td>47.0</td>\n",
              "      <td>0.410</td>\n",
              "      <td>12.00</td>\n",
              "      <td>0.0</td>\n",
              "      <td>15.0</td>\n",
              "      <td>66.0</td>\n",
              "      <td>0.100</td>\n",
              "      <td>1.40</td>\n",
              "      <td>0.000</td>\n",
              "      <td>73.4</td>\n",
              "      <td>0.052222</td>\n",
              "      <td>0.241176</td>\n",
              "      <td>5.000000</td>\n",
              "      <td>0.0</td>\n",
              "      <td>0.158667</td>\n",
              "      <td>0.0375</td>\n",
              "      <td>0.206250</td>\n",
              "      <td>0.146154</td>\n",
              "      <td>0.016667</td>\n",
              "      <td>0.055000</td>\n",
              "      <td>0.000111</td>\n",
              "      <td>0.142857</td>\n",
              "      <td>0.362857</td>\n",
              "      <td>1.334545</td>\n",
              "      <td>0.100000</td>\n",
              "    </tr>\n",
              "    <tr>\n",
              "      <th>8614</th>\n",
              "      <td>111.0</td>\n",
              "      <td>20.54</td>\n",
              "      <td>0.84</td>\n",
              "      <td>5.41</td>\n",
              "      <td>0.00</td>\n",
              "      <td>0.0</td>\n",
              "      <td>2.0</td>\n",
              "      <td>0.112</td>\n",
              "      <td>2.15</td>\n",
              "      <td>0.0</td>\n",
              "      <td>20.0</td>\n",
              "      <td>10.0</td>\n",
              "      <td>0.033</td>\n",
              "      <td>0.58</td>\n",
              "      <td>0.029</td>\n",
              "      <td>21.7</td>\n",
              "      <td>0.002222</td>\n",
              "      <td>0.065882</td>\n",
              "      <td>0.895833</td>\n",
              "      <td>0.0</td>\n",
              "      <td>0.000000</td>\n",
              "      <td>0.0500</td>\n",
              "      <td>0.067250</td>\n",
              "      <td>0.018462</td>\n",
              "      <td>0.010000</td>\n",
              "      <td>0.008333</td>\n",
              "      <td>0.000037</td>\n",
              "      <td>0.088095</td>\n",
              "      <td>0.608571</td>\n",
              "      <td>0.394545</td>\n",
              "      <td>0.140909</td>\n",
              "    </tr>\n",
              "    <tr>\n",
              "      <th>8615</th>\n",
              "      <td>269.0</td>\n",
              "      <td>0.00</td>\n",
              "      <td>0.00</td>\n",
              "      <td>73.14</td>\n",
              "      <td>73.20</td>\n",
              "      <td>0.0</td>\n",
              "      <td>0.0</td>\n",
              "      <td>0.000</td>\n",
              "      <td>0.00</td>\n",
              "      <td>0.0</td>\n",
              "      <td>0.0</td>\n",
              "      <td>13.0</td>\n",
              "      <td>0.020</td>\n",
              "      <td>3.60</td>\n",
              "      <td>0.000</td>\n",
              "      <td>0.7</td>\n",
              "      <td>0.000000</td>\n",
              "      <td>0.000000</td>\n",
              "      <td>0.000000</td>\n",
              "      <td>0.0</td>\n",
              "      <td>0.000000</td>\n",
              "      <td>0.0000</td>\n",
              "      <td>0.006250</td>\n",
              "      <td>0.046154</td>\n",
              "      <td>0.108333</td>\n",
              "      <td>0.010833</td>\n",
              "      <td>0.000022</td>\n",
              "      <td>0.023810</td>\n",
              "      <td>0.011429</td>\n",
              "      <td>0.012727</td>\n",
              "      <td>0.017273</td>\n",
              "    </tr>\n",
              "    <tr>\n",
              "      <th>8616</th>\n",
              "      <td>90.0</td>\n",
              "      <td>16.10</td>\n",
              "      <td>1.40</td>\n",
              "      <td>2.00</td>\n",
              "      <td>0.00</td>\n",
              "      <td>0.0</td>\n",
              "      <td>30.0</td>\n",
              "      <td>0.130</td>\n",
              "      <td>0.50</td>\n",
              "      <td>0.0</td>\n",
              "      <td>6.0</td>\n",
              "      <td>10.0</td>\n",
              "      <td>0.400</td>\n",
              "      <td>3.50</td>\n",
              "      <td>0.000</td>\n",
              "      <td>27.4</td>\n",
              "      <td>0.033333</td>\n",
              "      <td>0.076471</td>\n",
              "      <td>0.208333</td>\n",
              "      <td>0.0</td>\n",
              "      <td>0.333333</td>\n",
              "      <td>0.0150</td>\n",
              "      <td>0.087500</td>\n",
              "      <td>0.092308</td>\n",
              "      <td>0.008333</td>\n",
              "      <td>0.008333</td>\n",
              "      <td>0.000444</td>\n",
              "      <td>0.595238</td>\n",
              "      <td>0.388571</td>\n",
              "      <td>0.498182</td>\n",
              "      <td>0.090909</td>\n",
              "    </tr>\n",
              "    <tr>\n",
              "      <th>8617</th>\n",
              "      <td>89.0</td>\n",
              "      <td>19.80</td>\n",
              "      <td>0.50</td>\n",
              "      <td>0.00</td>\n",
              "      <td>0.00</td>\n",
              "      <td>0.0</td>\n",
              "      <td>30.0</td>\n",
              "      <td>0.120</td>\n",
              "      <td>1.00</td>\n",
              "      <td>0.0</td>\n",
              "      <td>15.0</td>\n",
              "      <td>118.0</td>\n",
              "      <td>0.250</td>\n",
              "      <td>1.40</td>\n",
              "      <td>0.000</td>\n",
              "      <td>16.8</td>\n",
              "      <td>0.033333</td>\n",
              "      <td>0.070588</td>\n",
              "      <td>0.416667</td>\n",
              "      <td>0.0</td>\n",
              "      <td>0.033333</td>\n",
              "      <td>0.0375</td>\n",
              "      <td>0.068750</td>\n",
              "      <td>0.115385</td>\n",
              "      <td>0.100000</td>\n",
              "      <td>0.098333</td>\n",
              "      <td>0.000278</td>\n",
              "      <td>0.047619</td>\n",
              "      <td>0.257143</td>\n",
              "      <td>0.305455</td>\n",
              "      <td>0.090909</td>\n",
              "    </tr>\n",
              "  </tbody>\n",
              "</table>\n",
              "<p>8618 rows × 31 columns</p>\n",
              "</div>"
            ],
            "text/plain": [
              "      Energy_kcal  Protein_g  ...  Selenium_USRDA  Zinc_USRDA\n",
              "0           717.0       0.85  ...        0.018182    0.008182\n",
              "1           717.0       0.85  ...        0.018182    0.004545\n",
              "2           876.0       0.28  ...        0.000000    0.000909\n",
              "3           353.0      21.40  ...        0.263636    0.241818\n",
              "4           371.0      23.24  ...        0.263636    0.236364\n",
              "...           ...        ...  ...             ...         ...\n",
              "8613        305.0      18.50  ...        1.334545    0.100000\n",
              "8614        111.0      20.54  ...        0.394545    0.140909\n",
              "8615        269.0       0.00  ...        0.012727    0.017273\n",
              "8616         90.0      16.10  ...        0.498182    0.090909\n",
              "8617         89.0      19.80  ...        0.305455    0.090909\n",
              "\n",
              "[8618 rows x 31 columns]"
            ]
          },
          "metadata": {
            "tags": []
          },
          "execution_count": 18
        }
      ]
    },
    {
      "cell_type": "code",
      "metadata": {
        "colab": {
          "base_uri": "https://localhost:8080/",
          "height": 724
        },
        "id": "jgyubP1Bpgqz",
        "outputId": "d7d79607-1063-4284-f312-87d9b1181b0a"
      },
      "source": [
        "data_dropped = data.drop(['ID','ShortDescrip','Descrip','CommonName','MfgName','ScientificName','VitE_mg','Niacin_mg','Riboflavin_mg','Thiamin_mg','Magnesium_mg','Phosphorus_mg','Zinc_mg'], axis=1)\n",
        "data_dropped"
      ],
      "execution_count": 19,
      "outputs": [
        {
          "output_type": "execute_result",
          "data": {
            "text/html": [
              "<div>\n",
              "<style scoped>\n",
              "    .dataframe tbody tr th:only-of-type {\n",
              "        vertical-align: middle;\n",
              "    }\n",
              "\n",
              "    .dataframe tbody tr th {\n",
              "        vertical-align: top;\n",
              "    }\n",
              "\n",
              "    .dataframe thead th {\n",
              "        text-align: right;\n",
              "    }\n",
              "</style>\n",
              "<table border=\"1\" class=\"dataframe\">\n",
              "  <thead>\n",
              "    <tr style=\"text-align: right;\">\n",
              "      <th></th>\n",
              "      <th>FoodGroup</th>\n",
              "      <th>Energy_kcal</th>\n",
              "      <th>Protein_g</th>\n",
              "      <th>Fat_g</th>\n",
              "      <th>Carb_g</th>\n",
              "      <th>Sugar_g</th>\n",
              "      <th>Fiber_g</th>\n",
              "      <th>VitA_mcg</th>\n",
              "      <th>VitB6_mg</th>\n",
              "      <th>VitB12_mcg</th>\n",
              "      <th>VitC_mg</th>\n",
              "      <th>Folate_mcg</th>\n",
              "      <th>Calcium_mg</th>\n",
              "      <th>Copper_mcg</th>\n",
              "      <th>Iron_mg</th>\n",
              "      <th>Manganese_mg</th>\n",
              "      <th>Selenium_mcg</th>\n",
              "      <th>VitA_USRDA</th>\n",
              "      <th>VitB6_USRDA</th>\n",
              "      <th>VitB12_USRDA</th>\n",
              "      <th>VitC_USRDA</th>\n",
              "      <th>VitE_USRDA</th>\n",
              "      <th>Folate_USRDA</th>\n",
              "      <th>Niacin_USRDA</th>\n",
              "      <th>Riboflavin_USRDA</th>\n",
              "      <th>Thiamin_USRDA</th>\n",
              "      <th>Calcium_USRDA</th>\n",
              "      <th>Copper_USRDA</th>\n",
              "      <th>Magnesium_USRDA</th>\n",
              "      <th>Phosphorus_USRDA</th>\n",
              "      <th>Selenium_USRDA</th>\n",
              "      <th>Zinc_USRDA</th>\n",
              "    </tr>\n",
              "  </thead>\n",
              "  <tbody>\n",
              "    <tr>\n",
              "      <th>0</th>\n",
              "      <td>Dairy and Egg Products</td>\n",
              "      <td>717.0</td>\n",
              "      <td>0.85</td>\n",
              "      <td>81.11</td>\n",
              "      <td>0.06</td>\n",
              "      <td>0.06</td>\n",
              "      <td>0.0</td>\n",
              "      <td>684.0</td>\n",
              "      <td>0.003</td>\n",
              "      <td>0.17</td>\n",
              "      <td>0.0</td>\n",
              "      <td>3.0</td>\n",
              "      <td>24.0</td>\n",
              "      <td>0.000</td>\n",
              "      <td>0.02</td>\n",
              "      <td>0.000</td>\n",
              "      <td>1.0</td>\n",
              "      <td>0.760000</td>\n",
              "      <td>0.001765</td>\n",
              "      <td>0.070833</td>\n",
              "      <td>0.0</td>\n",
              "      <td>0.154667</td>\n",
              "      <td>0.0075</td>\n",
              "      <td>0.002625</td>\n",
              "      <td>0.026154</td>\n",
              "      <td>0.004167</td>\n",
              "      <td>0.020000</td>\n",
              "      <td>0.000000</td>\n",
              "      <td>0.004762</td>\n",
              "      <td>0.034286</td>\n",
              "      <td>0.018182</td>\n",
              "      <td>0.008182</td>\n",
              "    </tr>\n",
              "    <tr>\n",
              "      <th>1</th>\n",
              "      <td>Dairy and Egg Products</td>\n",
              "      <td>717.0</td>\n",
              "      <td>0.85</td>\n",
              "      <td>81.11</td>\n",
              "      <td>0.06</td>\n",
              "      <td>0.06</td>\n",
              "      <td>0.0</td>\n",
              "      <td>684.0</td>\n",
              "      <td>0.003</td>\n",
              "      <td>0.13</td>\n",
              "      <td>0.0</td>\n",
              "      <td>3.0</td>\n",
              "      <td>24.0</td>\n",
              "      <td>0.016</td>\n",
              "      <td>0.16</td>\n",
              "      <td>0.004</td>\n",
              "      <td>1.0</td>\n",
              "      <td>0.760000</td>\n",
              "      <td>0.001765</td>\n",
              "      <td>0.054167</td>\n",
              "      <td>0.0</td>\n",
              "      <td>0.154667</td>\n",
              "      <td>0.0075</td>\n",
              "      <td>0.002625</td>\n",
              "      <td>0.026154</td>\n",
              "      <td>0.004167</td>\n",
              "      <td>0.020000</td>\n",
              "      <td>0.000018</td>\n",
              "      <td>0.004762</td>\n",
              "      <td>0.032857</td>\n",
              "      <td>0.018182</td>\n",
              "      <td>0.004545</td>\n",
              "    </tr>\n",
              "    <tr>\n",
              "      <th>2</th>\n",
              "      <td>Dairy and Egg Products</td>\n",
              "      <td>876.0</td>\n",
              "      <td>0.28</td>\n",
              "      <td>99.48</td>\n",
              "      <td>0.00</td>\n",
              "      <td>0.00</td>\n",
              "      <td>0.0</td>\n",
              "      <td>840.0</td>\n",
              "      <td>0.001</td>\n",
              "      <td>0.01</td>\n",
              "      <td>0.0</td>\n",
              "      <td>0.0</td>\n",
              "      <td>4.0</td>\n",
              "      <td>0.001</td>\n",
              "      <td>0.00</td>\n",
              "      <td>0.000</td>\n",
              "      <td>0.0</td>\n",
              "      <td>0.933333</td>\n",
              "      <td>0.000588</td>\n",
              "      <td>0.004167</td>\n",
              "      <td>0.0</td>\n",
              "      <td>0.186667</td>\n",
              "      <td>0.0000</td>\n",
              "      <td>0.000188</td>\n",
              "      <td>0.003846</td>\n",
              "      <td>0.000833</td>\n",
              "      <td>0.003333</td>\n",
              "      <td>0.000001</td>\n",
              "      <td>0.000000</td>\n",
              "      <td>0.004286</td>\n",
              "      <td>0.000000</td>\n",
              "      <td>0.000909</td>\n",
              "    </tr>\n",
              "    <tr>\n",
              "      <th>3</th>\n",
              "      <td>Dairy and Egg Products</td>\n",
              "      <td>353.0</td>\n",
              "      <td>21.40</td>\n",
              "      <td>28.74</td>\n",
              "      <td>2.34</td>\n",
              "      <td>0.50</td>\n",
              "      <td>0.0</td>\n",
              "      <td>198.0</td>\n",
              "      <td>0.166</td>\n",
              "      <td>1.22</td>\n",
              "      <td>0.0</td>\n",
              "      <td>36.0</td>\n",
              "      <td>528.0</td>\n",
              "      <td>0.040</td>\n",
              "      <td>0.31</td>\n",
              "      <td>0.009</td>\n",
              "      <td>14.5</td>\n",
              "      <td>0.220000</td>\n",
              "      <td>0.097647</td>\n",
              "      <td>0.508333</td>\n",
              "      <td>0.0</td>\n",
              "      <td>0.016667</td>\n",
              "      <td>0.0900</td>\n",
              "      <td>0.063500</td>\n",
              "      <td>0.293846</td>\n",
              "      <td>0.024167</td>\n",
              "      <td>0.440000</td>\n",
              "      <td>0.000044</td>\n",
              "      <td>0.054762</td>\n",
              "      <td>0.552857</td>\n",
              "      <td>0.263636</td>\n",
              "      <td>0.241818</td>\n",
              "    </tr>\n",
              "    <tr>\n",
              "      <th>4</th>\n",
              "      <td>Dairy and Egg Products</td>\n",
              "      <td>371.0</td>\n",
              "      <td>23.24</td>\n",
              "      <td>29.68</td>\n",
              "      <td>2.79</td>\n",
              "      <td>0.51</td>\n",
              "      <td>0.0</td>\n",
              "      <td>292.0</td>\n",
              "      <td>0.065</td>\n",
              "      <td>1.26</td>\n",
              "      <td>0.0</td>\n",
              "      <td>20.0</td>\n",
              "      <td>674.0</td>\n",
              "      <td>0.024</td>\n",
              "      <td>0.43</td>\n",
              "      <td>0.012</td>\n",
              "      <td>14.5</td>\n",
              "      <td>0.324444</td>\n",
              "      <td>0.038235</td>\n",
              "      <td>0.525000</td>\n",
              "      <td>0.0</td>\n",
              "      <td>0.017333</td>\n",
              "      <td>0.0500</td>\n",
              "      <td>0.007375</td>\n",
              "      <td>0.270000</td>\n",
              "      <td>0.011667</td>\n",
              "      <td>0.561667</td>\n",
              "      <td>0.000027</td>\n",
              "      <td>0.057143</td>\n",
              "      <td>0.644286</td>\n",
              "      <td>0.263636</td>\n",
              "      <td>0.236364</td>\n",
              "    </tr>\n",
              "    <tr>\n",
              "      <th>...</th>\n",
              "      <td>...</td>\n",
              "      <td>...</td>\n",
              "      <td>...</td>\n",
              "      <td>...</td>\n",
              "      <td>...</td>\n",
              "      <td>...</td>\n",
              "      <td>...</td>\n",
              "      <td>...</td>\n",
              "      <td>...</td>\n",
              "      <td>...</td>\n",
              "      <td>...</td>\n",
              "      <td>...</td>\n",
              "      <td>...</td>\n",
              "      <td>...</td>\n",
              "      <td>...</td>\n",
              "      <td>...</td>\n",
              "      <td>...</td>\n",
              "      <td>...</td>\n",
              "      <td>...</td>\n",
              "      <td>...</td>\n",
              "      <td>...</td>\n",
              "      <td>...</td>\n",
              "      <td>...</td>\n",
              "      <td>...</td>\n",
              "      <td>...</td>\n",
              "      <td>...</td>\n",
              "      <td>...</td>\n",
              "      <td>...</td>\n",
              "      <td>...</td>\n",
              "      <td>...</td>\n",
              "      <td>...</td>\n",
              "      <td>...</td>\n",
              "    </tr>\n",
              "    <tr>\n",
              "      <th>8613</th>\n",
              "      <td>Finfish and Shellfish Products</td>\n",
              "      <td>305.0</td>\n",
              "      <td>18.50</td>\n",
              "      <td>25.10</td>\n",
              "      <td>0.00</td>\n",
              "      <td>0.00</td>\n",
              "      <td>0.0</td>\n",
              "      <td>47.0</td>\n",
              "      <td>0.410</td>\n",
              "      <td>12.00</td>\n",
              "      <td>0.0</td>\n",
              "      <td>15.0</td>\n",
              "      <td>66.0</td>\n",
              "      <td>0.100</td>\n",
              "      <td>1.40</td>\n",
              "      <td>0.000</td>\n",
              "      <td>73.4</td>\n",
              "      <td>0.052222</td>\n",
              "      <td>0.241176</td>\n",
              "      <td>5.000000</td>\n",
              "      <td>0.0</td>\n",
              "      <td>0.158667</td>\n",
              "      <td>0.0375</td>\n",
              "      <td>0.206250</td>\n",
              "      <td>0.146154</td>\n",
              "      <td>0.016667</td>\n",
              "      <td>0.055000</td>\n",
              "      <td>0.000111</td>\n",
              "      <td>0.142857</td>\n",
              "      <td>0.362857</td>\n",
              "      <td>1.334545</td>\n",
              "      <td>0.100000</td>\n",
              "    </tr>\n",
              "    <tr>\n",
              "      <th>8614</th>\n",
              "      <td>Finfish and Shellfish Products</td>\n",
              "      <td>111.0</td>\n",
              "      <td>20.54</td>\n",
              "      <td>0.84</td>\n",
              "      <td>5.41</td>\n",
              "      <td>0.00</td>\n",
              "      <td>0.0</td>\n",
              "      <td>2.0</td>\n",
              "      <td>0.112</td>\n",
              "      <td>2.15</td>\n",
              "      <td>0.0</td>\n",
              "      <td>20.0</td>\n",
              "      <td>10.0</td>\n",
              "      <td>0.033</td>\n",
              "      <td>0.58</td>\n",
              "      <td>0.029</td>\n",
              "      <td>21.7</td>\n",
              "      <td>0.002222</td>\n",
              "      <td>0.065882</td>\n",
              "      <td>0.895833</td>\n",
              "      <td>0.0</td>\n",
              "      <td>0.000000</td>\n",
              "      <td>0.0500</td>\n",
              "      <td>0.067250</td>\n",
              "      <td>0.018462</td>\n",
              "      <td>0.010000</td>\n",
              "      <td>0.008333</td>\n",
              "      <td>0.000037</td>\n",
              "      <td>0.088095</td>\n",
              "      <td>0.608571</td>\n",
              "      <td>0.394545</td>\n",
              "      <td>0.140909</td>\n",
              "    </tr>\n",
              "    <tr>\n",
              "      <th>8615</th>\n",
              "      <td>Sweets</td>\n",
              "      <td>269.0</td>\n",
              "      <td>0.00</td>\n",
              "      <td>0.00</td>\n",
              "      <td>73.14</td>\n",
              "      <td>73.20</td>\n",
              "      <td>0.0</td>\n",
              "      <td>0.0</td>\n",
              "      <td>0.000</td>\n",
              "      <td>0.00</td>\n",
              "      <td>0.0</td>\n",
              "      <td>0.0</td>\n",
              "      <td>13.0</td>\n",
              "      <td>0.020</td>\n",
              "      <td>3.60</td>\n",
              "      <td>0.000</td>\n",
              "      <td>0.7</td>\n",
              "      <td>0.000000</td>\n",
              "      <td>0.000000</td>\n",
              "      <td>0.000000</td>\n",
              "      <td>0.0</td>\n",
              "      <td>0.000000</td>\n",
              "      <td>0.0000</td>\n",
              "      <td>0.006250</td>\n",
              "      <td>0.046154</td>\n",
              "      <td>0.108333</td>\n",
              "      <td>0.010833</td>\n",
              "      <td>0.000022</td>\n",
              "      <td>0.023810</td>\n",
              "      <td>0.011429</td>\n",
              "      <td>0.012727</td>\n",
              "      <td>0.017273</td>\n",
              "    </tr>\n",
              "    <tr>\n",
              "      <th>8616</th>\n",
              "      <td>Finfish and Shellfish Products</td>\n",
              "      <td>90.0</td>\n",
              "      <td>16.10</td>\n",
              "      <td>1.40</td>\n",
              "      <td>2.00</td>\n",
              "      <td>0.00</td>\n",
              "      <td>0.0</td>\n",
              "      <td>30.0</td>\n",
              "      <td>0.130</td>\n",
              "      <td>0.50</td>\n",
              "      <td>0.0</td>\n",
              "      <td>6.0</td>\n",
              "      <td>10.0</td>\n",
              "      <td>0.400</td>\n",
              "      <td>3.50</td>\n",
              "      <td>0.000</td>\n",
              "      <td>27.4</td>\n",
              "      <td>0.033333</td>\n",
              "      <td>0.076471</td>\n",
              "      <td>0.208333</td>\n",
              "      <td>0.0</td>\n",
              "      <td>0.333333</td>\n",
              "      <td>0.0150</td>\n",
              "      <td>0.087500</td>\n",
              "      <td>0.092308</td>\n",
              "      <td>0.008333</td>\n",
              "      <td>0.008333</td>\n",
              "      <td>0.000444</td>\n",
              "      <td>0.595238</td>\n",
              "      <td>0.388571</td>\n",
              "      <td>0.498182</td>\n",
              "      <td>0.090909</td>\n",
              "    </tr>\n",
              "    <tr>\n",
              "      <th>8617</th>\n",
              "      <td>Finfish and Shellfish Products</td>\n",
              "      <td>89.0</td>\n",
              "      <td>19.80</td>\n",
              "      <td>0.50</td>\n",
              "      <td>0.00</td>\n",
              "      <td>0.00</td>\n",
              "      <td>0.0</td>\n",
              "      <td>30.0</td>\n",
              "      <td>0.120</td>\n",
              "      <td>1.00</td>\n",
              "      <td>0.0</td>\n",
              "      <td>15.0</td>\n",
              "      <td>118.0</td>\n",
              "      <td>0.250</td>\n",
              "      <td>1.40</td>\n",
              "      <td>0.000</td>\n",
              "      <td>16.8</td>\n",
              "      <td>0.033333</td>\n",
              "      <td>0.070588</td>\n",
              "      <td>0.416667</td>\n",
              "      <td>0.0</td>\n",
              "      <td>0.033333</td>\n",
              "      <td>0.0375</td>\n",
              "      <td>0.068750</td>\n",
              "      <td>0.115385</td>\n",
              "      <td>0.100000</td>\n",
              "      <td>0.098333</td>\n",
              "      <td>0.000278</td>\n",
              "      <td>0.047619</td>\n",
              "      <td>0.257143</td>\n",
              "      <td>0.305455</td>\n",
              "      <td>0.090909</td>\n",
              "    </tr>\n",
              "  </tbody>\n",
              "</table>\n",
              "<p>8618 rows × 32 columns</p>\n",
              "</div>"
            ],
            "text/plain": [
              "                           FoodGroup  Energy_kcal  ...  Selenium_USRDA  Zinc_USRDA\n",
              "0             Dairy and Egg Products        717.0  ...        0.018182    0.008182\n",
              "1             Dairy and Egg Products        717.0  ...        0.018182    0.004545\n",
              "2             Dairy and Egg Products        876.0  ...        0.000000    0.000909\n",
              "3             Dairy and Egg Products        353.0  ...        0.263636    0.241818\n",
              "4             Dairy and Egg Products        371.0  ...        0.263636    0.236364\n",
              "...                              ...          ...  ...             ...         ...\n",
              "8613  Finfish and Shellfish Products        305.0  ...        1.334545    0.100000\n",
              "8614  Finfish and Shellfish Products        111.0  ...        0.394545    0.140909\n",
              "8615                          Sweets        269.0  ...        0.012727    0.017273\n",
              "8616  Finfish and Shellfish Products         90.0  ...        0.498182    0.090909\n",
              "8617  Finfish and Shellfish Products         89.0  ...        0.305455    0.090909\n",
              "\n",
              "[8618 rows x 32 columns]"
            ]
          },
          "metadata": {
            "tags": []
          },
          "execution_count": 19
        }
      ]
    },
    {
      "cell_type": "markdown",
      "metadata": {
        "id": "OzP0VfSBpr-u"
      },
      "source": [
        "##ทดลอง plot กราฟ parallel coordinate"
      ]
    },
    {
      "cell_type": "code",
      "metadata": {
        "colab": {
          "base_uri": "https://localhost:8080/",
          "height": 431
        },
        "id": "lwjKlAdBpnnO",
        "outputId": "c50c56e2-c24e-4247-c272-df7e7951eacd"
      },
      "source": [
        "pd.plotting.parallel_coordinates(data_dropped,'FoodGroup',cols=['Protein_g','Fat_g','Carb_g','Sugar_g',\t'Fiber_g'])"
      ],
      "execution_count": 20,
      "outputs": [
        {
          "output_type": "execute_result",
          "data": {
            "text/plain": [
              "<matplotlib.axes._subplots.AxesSubplot at 0x7efd41f3e0d0>"
            ]
          },
          "metadata": {
            "tags": []
          },
          "execution_count": 20
        },
        {
          "output_type": "display_data",
          "data": {
            "image/png": "[encoded data removed]",
            "text/plain": [
              "<Figure size 432x288 with 1 Axes>"
            ]
          },
          "metadata": {
            "tags": [],
            "needs_background": "light"
          }
        }
      ]
    },
    {
      "cell_type": "markdown",
      "metadata": {
        "id": "Dn57cY30p1vb"
      },
      "source": [
        "###ทำ PCA เพื่อลดจำนวน Dimension ของข้อมูล"
      ]
    },
    {
      "cell_type": "code",
      "metadata": {
        "id": "lMO9zx-npysi"
      },
      "source": [
        "from sklearn.decomposition import PCA"
      ],
      "execution_count": 21,
      "outputs": []
    },
    {
      "cell_type": "code",
      "metadata": {
        "id": "kOvdtbufp5_2"
      },
      "source": [
        "pca = PCA(n_components=2)"
      ],
      "execution_count": 22,
      "outputs": []
    },
    {
      "cell_type": "code",
      "metadata": {
        "id": "PH1VVFNPp7-r"
      },
      "source": [
        "new_pca = pca.fit_transform(newdata_dropped.to_numpy())"
      ],
      "execution_count": 23,
      "outputs": []
    },
    {
      "cell_type": "code",
      "metadata": {
        "colab": {
          "base_uri": "https://localhost:8080/"
        },
        "id": "BfkPX7n_qDjA",
        "outputId": "a11c82f6-65e6-43fd-fae0-55d456183cb8"
      },
      "source": [
        "new_pca.shape"
      ],
      "execution_count": 24,
      "outputs": [
        {
          "output_type": "execute_result",
          "data": {
            "text/plain": [
              "(8618, 2)"
            ]
          },
          "metadata": {
            "tags": []
          },
          "execution_count": 24
        }
      ]
    },
    {
      "cell_type": "code",
      "metadata": {
        "colab": {
          "base_uri": "https://localhost:8080/"
        },
        "id": "bnx0bJoHqFsF",
        "outputId": "b1effc80-ab73-4c0e-e46d-ff76d5a1eac9"
      },
      "source": [
        "new_pca"
      ],
      "execution_count": 25,
      "outputs": [
        {
          "output_type": "execute_result",
          "data": {
            "text/plain": [
              "array([[ 590.95286674,   85.56968946],\n",
              "       [ 590.95284476,   85.57159456],\n",
              "       [ 747.5994042 ,  117.79120834],\n",
              "       ...,\n",
              "       [ -95.72739188,  -53.51885094],\n",
              "       [ -66.70492177, -118.10632681],\n",
              "       [ -65.40356382,  -28.88067151]])"
            ]
          },
          "metadata": {
            "tags": []
          },
          "execution_count": 25
        }
      ]
    },
    {
      "cell_type": "markdown",
      "metadata": {
        "id": "TrkTvgsrqKMc"
      },
      "source": [
        "###หาค่าที่เป็นไปได้ทั้งหมด"
      ]
    },
    {
      "cell_type": "code",
      "metadata": {
        "colab": {
          "base_uri": "https://localhost:8080/"
        },
        "id": "D4v2PIOYqHiK",
        "outputId": "df7a72f1-7f03-420b-987f-668e794bba45"
      },
      "source": [
        "FG = set(data['FoodGroup'])\n",
        "FG"
      ],
      "execution_count": 26,
      "outputs": [
        {
          "output_type": "execute_result",
          "data": {
            "text/plain": [
              "{'American Indian/Alaska Native Foods',\n",
              " 'Baby Foods',\n",
              " 'Baked Products',\n",
              " 'Beef Products',\n",
              " 'Beverages',\n",
              " 'Breakfast Cereals',\n",
              " 'Cereal Grains and Pasta',\n",
              " 'Dairy and Egg Products',\n",
              " 'Fast Foods',\n",
              " 'Fats and Oils',\n",
              " 'Finfish and Shellfish Products',\n",
              " 'Fruits and Fruit Juices',\n",
              " 'Lamb, Veal, and Game Products',\n",
              " 'Legumes and Legume Products',\n",
              " 'Meals, Entrees, and Side Dishes',\n",
              " 'Nut and Seed Products',\n",
              " 'Pork Products',\n",
              " 'Poultry Products',\n",
              " 'Restaurant Foods',\n",
              " 'Sausages and Luncheon Meats',\n",
              " 'Snacks',\n",
              " 'Soups, Sauces, and Gravies',\n",
              " 'Spices and Herbs',\n",
              " 'Sweets',\n",
              " 'Vegetables and Vegetable Products'}"
            ]
          },
          "metadata": {
            "tags": []
          },
          "execution_count": 26
        }
      ]
    },
    {
      "cell_type": "markdown",
      "metadata": {
        "id": "wsDSWE6UqWQX"
      },
      "source": [
        "###สร้าง Dictionary เพื่อแทนค่าที่เป็น text ให้เป็นตัวเลข เพื่อจะได้ plot สีได้"
      ]
    },
    {
      "cell_type": "code",
      "metadata": {
        "id": "U4t_FQVZqSEP"
      },
      "source": [
        "color_list = {}\n",
        "num = 0\n",
        "for each_fg in FG:\n",
        "    if each_fg not in color_list:\n",
        "        color_list[each_fg] = num\n",
        "        num += 1"
      ],
      "execution_count": 27,
      "outputs": []
    },
    {
      "cell_type": "code",
      "metadata": {
        "colab": {
          "base_uri": "https://localhost:8080/"
        },
        "id": "IEsZGe5nqaeJ",
        "outputId": "b23e4d45-5a51-4079-ae14-fadc5f1f4186"
      },
      "source": [
        "color_list"
      ],
      "execution_count": 28,
      "outputs": [
        {
          "output_type": "execute_result",
          "data": {
            "text/plain": [
              "{'American Indian/Alaska Native Foods': 7,\n",
              " 'Baby Foods': 9,\n",
              " 'Baked Products': 13,\n",
              " 'Beef Products': 21,\n",
              " 'Beverages': 1,\n",
              " 'Breakfast Cereals': 4,\n",
              " 'Cereal Grains and Pasta': 20,\n",
              " 'Dairy and Egg Products': 23,\n",
              " 'Fast Foods': 24,\n",
              " 'Fats and Oils': 17,\n",
              " 'Finfish and Shellfish Products': 18,\n",
              " 'Fruits and Fruit Juices': 14,\n",
              " 'Lamb, Veal, and Game Products': 11,\n",
              " 'Legumes and Legume Products': 15,\n",
              " 'Meals, Entrees, and Side Dishes': 0,\n",
              " 'Nut and Seed Products': 22,\n",
              " 'Pork Products': 3,\n",
              " 'Poultry Products': 8,\n",
              " 'Restaurant Foods': 19,\n",
              " 'Sausages and Luncheon Meats': 5,\n",
              " 'Snacks': 10,\n",
              " 'Soups, Sauces, and Gravies': 16,\n",
              " 'Spices and Herbs': 6,\n",
              " 'Sweets': 2,\n",
              " 'Vegetables and Vegetable Products': 12}"
            ]
          },
          "metadata": {
            "tags": []
          },
          "execution_count": 28
        }
      ]
    },
    {
      "cell_type": "markdown",
      "metadata": {
        "id": "Zzfsnx_Mqs5v"
      },
      "source": [
        "##แทนค่า text ใน Dictionary ด้วยตัวเลขที่เรากำหนด"
      ]
    },
    {
      "cell_type": "code",
      "metadata": {
        "id": "DMq48M_Cqdwj"
      },
      "source": [
        "data_dropped2 = data_dropped.replace(color_list)"
      ],
      "execution_count": 29,
      "outputs": []
    },
    {
      "cell_type": "code",
      "metadata": {
        "colab": {
          "base_uri": "https://localhost:8080/",
          "height": 422
        },
        "id": "OA9P58_OqwJZ",
        "outputId": "07a65693-a791-40e0-8d87-2f2fc31644e5"
      },
      "source": [
        "data_dropped2"
      ],
      "execution_count": 30,
      "outputs": [
        {
          "output_type": "execute_result",
          "data": {
            "text/html": [
              "<div>\n",
              "<style scoped>\n",
              "    .dataframe tbody tr th:only-of-type {\n",
              "        vertical-align: middle;\n",
              "    }\n",
              "\n",
              "    .dataframe tbody tr th {\n",
              "        vertical-align: top;\n",
              "    }\n",
              "\n",
              "    .dataframe thead th {\n",
              "        text-align: right;\n",
              "    }\n",
              "</style>\n",
              "<table border=\"1\" class=\"dataframe\">\n",
              "  <thead>\n",
              "    <tr style=\"text-align: right;\">\n",
              "      <th></th>\n",
              "      <th>FoodGroup</th>\n",
              "      <th>Energy_kcal</th>\n",
              "      <th>Protein_g</th>\n",
              "      <th>Fat_g</th>\n",
              "      <th>Carb_g</th>\n",
              "      <th>Sugar_g</th>\n",
              "      <th>Fiber_g</th>\n",
              "      <th>VitA_mcg</th>\n",
              "      <th>VitB6_mg</th>\n",
              "      <th>VitB12_mcg</th>\n",
              "      <th>VitC_mg</th>\n",
              "      <th>Folate_mcg</th>\n",
              "      <th>Calcium_mg</th>\n",
              "      <th>Copper_mcg</th>\n",
              "      <th>Iron_mg</th>\n",
              "      <th>Manganese_mg</th>\n",
              "      <th>Selenium_mcg</th>\n",
              "      <th>VitA_USRDA</th>\n",
              "      <th>VitB6_USRDA</th>\n",
              "      <th>VitB12_USRDA</th>\n",
              "      <th>VitC_USRDA</th>\n",
              "      <th>VitE_USRDA</th>\n",
              "      <th>Folate_USRDA</th>\n",
              "      <th>Niacin_USRDA</th>\n",
              "      <th>Riboflavin_USRDA</th>\n",
              "      <th>Thiamin_USRDA</th>\n",
              "      <th>Calcium_USRDA</th>\n",
              "      <th>Copper_USRDA</th>\n",
              "      <th>Magnesium_USRDA</th>\n",
              "      <th>Phosphorus_USRDA</th>\n",
              "      <th>Selenium_USRDA</th>\n",
              "      <th>Zinc_USRDA</th>\n",
              "    </tr>\n",
              "  </thead>\n",
              "  <tbody>\n",
              "    <tr>\n",
              "      <th>0</th>\n",
              "      <td>23</td>\n",
              "      <td>717.0</td>\n",
              "      <td>0.85</td>\n",
              "      <td>81.11</td>\n",
              "      <td>0.06</td>\n",
              "      <td>0.06</td>\n",
              "      <td>0.0</td>\n",
              "      <td>684.0</td>\n",
              "      <td>0.003</td>\n",
              "      <td>0.17</td>\n",
              "      <td>0.0</td>\n",
              "      <td>3.0</td>\n",
              "      <td>24.0</td>\n",
              "      <td>0.000</td>\n",
              "      <td>0.02</td>\n",
              "      <td>0.000</td>\n",
              "      <td>1.0</td>\n",
              "      <td>0.760000</td>\n",
              "      <td>0.001765</td>\n",
              "      <td>0.070833</td>\n",
              "      <td>0.0</td>\n",
              "      <td>0.154667</td>\n",
              "      <td>0.0075</td>\n",
              "      <td>0.002625</td>\n",
              "      <td>0.026154</td>\n",
              "      <td>0.004167</td>\n",
              "      <td>0.020000</td>\n",
              "      <td>0.000000</td>\n",
              "      <td>0.004762</td>\n",
              "      <td>0.034286</td>\n",
              "      <td>0.018182</td>\n",
              "      <td>0.008182</td>\n",
              "    </tr>\n",
              "    <tr>\n",
              "      <th>1</th>\n",
              "      <td>23</td>\n",
              "      <td>717.0</td>\n",
              "      <td>0.85</td>\n",
              "      <td>81.11</td>\n",
              "      <td>0.06</td>\n",
              "      <td>0.06</td>\n",
              "      <td>0.0</td>\n",
              "      <td>684.0</td>\n",
              "      <td>0.003</td>\n",
              "      <td>0.13</td>\n",
              "      <td>0.0</td>\n",
              "      <td>3.0</td>\n",
              "      <td>24.0</td>\n",
              "      <td>0.016</td>\n",
              "      <td>0.16</td>\n",
              "      <td>0.004</td>\n",
              "      <td>1.0</td>\n",
              "      <td>0.760000</td>\n",
              "      <td>0.001765</td>\n",
              "      <td>0.054167</td>\n",
              "      <td>0.0</td>\n",
              "      <td>0.154667</td>\n",
              "      <td>0.0075</td>\n",
              "      <td>0.002625</td>\n",
              "      <td>0.026154</td>\n",
              "      <td>0.004167</td>\n",
              "      <td>0.020000</td>\n",
              "      <td>0.000018</td>\n",
              "      <td>0.004762</td>\n",
              "      <td>0.032857</td>\n",
              "      <td>0.018182</td>\n",
              "      <td>0.004545</td>\n",
              "    </tr>\n",
              "    <tr>\n",
              "      <th>2</th>\n",
              "      <td>23</td>\n",
              "      <td>876.0</td>\n",
              "      <td>0.28</td>\n",
              "      <td>99.48</td>\n",
              "      <td>0.00</td>\n",
              "      <td>0.00</td>\n",
              "      <td>0.0</td>\n",
              "      <td>840.0</td>\n",
              "      <td>0.001</td>\n",
              "      <td>0.01</td>\n",
              "      <td>0.0</td>\n",
              "      <td>0.0</td>\n",
              "      <td>4.0</td>\n",
              "      <td>0.001</td>\n",
              "      <td>0.00</td>\n",
              "      <td>0.000</td>\n",
              "      <td>0.0</td>\n",
              "      <td>0.933333</td>\n",
              "      <td>0.000588</td>\n",
              "      <td>0.004167</td>\n",
              "      <td>0.0</td>\n",
              "      <td>0.186667</td>\n",
              "      <td>0.0000</td>\n",
              "      <td>0.000188</td>\n",
              "      <td>0.003846</td>\n",
              "      <td>0.000833</td>\n",
              "      <td>0.003333</td>\n",
              "      <td>0.000001</td>\n",
              "      <td>0.000000</td>\n",
              "      <td>0.004286</td>\n",
              "      <td>0.000000</td>\n",
              "      <td>0.000909</td>\n",
              "    </tr>\n",
              "    <tr>\n",
              "      <th>3</th>\n",
              "      <td>23</td>\n",
              "      <td>353.0</td>\n",
              "      <td>21.40</td>\n",
              "      <td>28.74</td>\n",
              "      <td>2.34</td>\n",
              "      <td>0.50</td>\n",
              "      <td>0.0</td>\n",
              "      <td>198.0</td>\n",
              "      <td>0.166</td>\n",
              "      <td>1.22</td>\n",
              "      <td>0.0</td>\n",
              "      <td>36.0</td>\n",
              "      <td>528.0</td>\n",
              "      <td>0.040</td>\n",
              "      <td>0.31</td>\n",
              "      <td>0.009</td>\n",
              "      <td>14.5</td>\n",
              "      <td>0.220000</td>\n",
              "      <td>0.097647</td>\n",
              "      <td>0.508333</td>\n",
              "      <td>0.0</td>\n",
              "      <td>0.016667</td>\n",
              "      <td>0.0900</td>\n",
              "      <td>0.063500</td>\n",
              "      <td>0.293846</td>\n",
              "      <td>0.024167</td>\n",
              "      <td>0.440000</td>\n",
              "      <td>0.000044</td>\n",
              "      <td>0.054762</td>\n",
              "      <td>0.552857</td>\n",
              "      <td>0.263636</td>\n",
              "      <td>0.241818</td>\n",
              "    </tr>\n",
              "    <tr>\n",
              "      <th>4</th>\n",
              "      <td>23</td>\n",
              "      <td>371.0</td>\n",
              "      <td>23.24</td>\n",
              "      <td>29.68</td>\n",
              "      <td>2.79</td>\n",
              "      <td>0.51</td>\n",
              "      <td>0.0</td>\n",
              "      <td>292.0</td>\n",
              "      <td>0.065</td>\n",
              "      <td>1.26</td>\n",
              "      <td>0.0</td>\n",
              "      <td>20.0</td>\n",
              "      <td>674.0</td>\n",
              "      <td>0.024</td>\n",
              "      <td>0.43</td>\n",
              "      <td>0.012</td>\n",
              "      <td>14.5</td>\n",
              "      <td>0.324444</td>\n",
              "      <td>0.038235</td>\n",
              "      <td>0.525000</td>\n",
              "      <td>0.0</td>\n",
              "      <td>0.017333</td>\n",
              "      <td>0.0500</td>\n",
              "      <td>0.007375</td>\n",
              "      <td>0.270000</td>\n",
              "      <td>0.011667</td>\n",
              "      <td>0.561667</td>\n",
              "      <td>0.000027</td>\n",
              "      <td>0.057143</td>\n",
              "      <td>0.644286</td>\n",
              "      <td>0.263636</td>\n",
              "      <td>0.236364</td>\n",
              "    </tr>\n",
              "    <tr>\n",
              "      <th>...</th>\n",
              "      <td>...</td>\n",
              "      <td>...</td>\n",
              "      <td>...</td>\n",
              "      <td>...</td>\n",
              "      <td>...</td>\n",
              "      <td>...</td>\n",
              "      <td>...</td>\n",
              "      <td>...</td>\n",
              "      <td>...</td>\n",
              "      <td>...</td>\n",
              "      <td>...</td>\n",
              "      <td>...</td>\n",
              "      <td>...</td>\n",
              "      <td>...</td>\n",
              "      <td>...</td>\n",
              "      <td>...</td>\n",
              "      <td>...</td>\n",
              "      <td>...</td>\n",
              "      <td>...</td>\n",
              "      <td>...</td>\n",
              "      <td>...</td>\n",
              "      <td>...</td>\n",
              "      <td>...</td>\n",
              "      <td>...</td>\n",
              "      <td>...</td>\n",
              "      <td>...</td>\n",
              "      <td>...</td>\n",
              "      <td>...</td>\n",
              "      <td>...</td>\n",
              "      <td>...</td>\n",
              "      <td>...</td>\n",
              "      <td>...</td>\n",
              "    </tr>\n",
              "    <tr>\n",
              "      <th>8613</th>\n",
              "      <td>18</td>\n",
              "      <td>305.0</td>\n",
              "      <td>18.50</td>\n",
              "      <td>25.10</td>\n",
              "      <td>0.00</td>\n",
              "      <td>0.00</td>\n",
              "      <td>0.0</td>\n",
              "      <td>47.0</td>\n",
              "      <td>0.410</td>\n",
              "      <td>12.00</td>\n",
              "      <td>0.0</td>\n",
              "      <td>15.0</td>\n",
              "      <td>66.0</td>\n",
              "      <td>0.100</td>\n",
              "      <td>1.40</td>\n",
              "      <td>0.000</td>\n",
              "      <td>73.4</td>\n",
              "      <td>0.052222</td>\n",
              "      <td>0.241176</td>\n",
              "      <td>5.000000</td>\n",
              "      <td>0.0</td>\n",
              "      <td>0.158667</td>\n",
              "      <td>0.0375</td>\n",
              "      <td>0.206250</td>\n",
              "      <td>0.146154</td>\n",
              "      <td>0.016667</td>\n",
              "      <td>0.055000</td>\n",
              "      <td>0.000111</td>\n",
              "      <td>0.142857</td>\n",
              "      <td>0.362857</td>\n",
              "      <td>1.334545</td>\n",
              "      <td>0.100000</td>\n",
              "    </tr>\n",
              "    <tr>\n",
              "      <th>8614</th>\n",
              "      <td>18</td>\n",
              "      <td>111.0</td>\n",
              "      <td>20.54</td>\n",
              "      <td>0.84</td>\n",
              "      <td>5.41</td>\n",
              "      <td>0.00</td>\n",
              "      <td>0.0</td>\n",
              "      <td>2.0</td>\n",
              "      <td>0.112</td>\n",
              "      <td>2.15</td>\n",
              "      <td>0.0</td>\n",
              "      <td>20.0</td>\n",
              "      <td>10.0</td>\n",
              "      <td>0.033</td>\n",
              "      <td>0.58</td>\n",
              "      <td>0.029</td>\n",
              "      <td>21.7</td>\n",
              "      <td>0.002222</td>\n",
              "      <td>0.065882</td>\n",
              "      <td>0.895833</td>\n",
              "      <td>0.0</td>\n",
              "      <td>0.000000</td>\n",
              "      <td>0.0500</td>\n",
              "      <td>0.067250</td>\n",
              "      <td>0.018462</td>\n",
              "      <td>0.010000</td>\n",
              "      <td>0.008333</td>\n",
              "      <td>0.000037</td>\n",
              "      <td>0.088095</td>\n",
              "      <td>0.608571</td>\n",
              "      <td>0.394545</td>\n",
              "      <td>0.140909</td>\n",
              "    </tr>\n",
              "    <tr>\n",
              "      <th>8615</th>\n",
              "      <td>2</td>\n",
              "      <td>269.0</td>\n",
              "      <td>0.00</td>\n",
              "      <td>0.00</td>\n",
              "      <td>73.14</td>\n",
              "      <td>73.20</td>\n",
              "      <td>0.0</td>\n",
              "      <td>0.0</td>\n",
              "      <td>0.000</td>\n",
              "      <td>0.00</td>\n",
              "      <td>0.0</td>\n",
              "      <td>0.0</td>\n",
              "      <td>13.0</td>\n",
              "      <td>0.020</td>\n",
              "      <td>3.60</td>\n",
              "      <td>0.000</td>\n",
              "      <td>0.7</td>\n",
              "      <td>0.000000</td>\n",
              "      <td>0.000000</td>\n",
              "      <td>0.000000</td>\n",
              "      <td>0.0</td>\n",
              "      <td>0.000000</td>\n",
              "      <td>0.0000</td>\n",
              "      <td>0.006250</td>\n",
              "      <td>0.046154</td>\n",
              "      <td>0.108333</td>\n",
              "      <td>0.010833</td>\n",
              "      <td>0.000022</td>\n",
              "      <td>0.023810</td>\n",
              "      <td>0.011429</td>\n",
              "      <td>0.012727</td>\n",
              "      <td>0.017273</td>\n",
              "    </tr>\n",
              "    <tr>\n",
              "      <th>8616</th>\n",
              "      <td>18</td>\n",
              "      <td>90.0</td>\n",
              "      <td>16.10</td>\n",
              "      <td>1.40</td>\n",
              "      <td>2.00</td>\n",
              "      <td>0.00</td>\n",
              "      <td>0.0</td>\n",
              "      <td>30.0</td>\n",
              "      <td>0.130</td>\n",
              "      <td>0.50</td>\n",
              "      <td>0.0</td>\n",
              "      <td>6.0</td>\n",
              "      <td>10.0</td>\n",
              "      <td>0.400</td>\n",
              "      <td>3.50</td>\n",
              "      <td>0.000</td>\n",
              "      <td>27.4</td>\n",
              "      <td>0.033333</td>\n",
              "      <td>0.076471</td>\n",
              "      <td>0.208333</td>\n",
              "      <td>0.0</td>\n",
              "      <td>0.333333</td>\n",
              "      <td>0.0150</td>\n",
              "      <td>0.087500</td>\n",
              "      <td>0.092308</td>\n",
              "      <td>0.008333</td>\n",
              "      <td>0.008333</td>\n",
              "      <td>0.000444</td>\n",
              "      <td>0.595238</td>\n",
              "      <td>0.388571</td>\n",
              "      <td>0.498182</td>\n",
              "      <td>0.090909</td>\n",
              "    </tr>\n",
              "    <tr>\n",
              "      <th>8617</th>\n",
              "      <td>18</td>\n",
              "      <td>89.0</td>\n",
              "      <td>19.80</td>\n",
              "      <td>0.50</td>\n",
              "      <td>0.00</td>\n",
              "      <td>0.00</td>\n",
              "      <td>0.0</td>\n",
              "      <td>30.0</td>\n",
              "      <td>0.120</td>\n",
              "      <td>1.00</td>\n",
              "      <td>0.0</td>\n",
              "      <td>15.0</td>\n",
              "      <td>118.0</td>\n",
              "      <td>0.250</td>\n",
              "      <td>1.40</td>\n",
              "      <td>0.000</td>\n",
              "      <td>16.8</td>\n",
              "      <td>0.033333</td>\n",
              "      <td>0.070588</td>\n",
              "      <td>0.416667</td>\n",
              "      <td>0.0</td>\n",
              "      <td>0.033333</td>\n",
              "      <td>0.0375</td>\n",
              "      <td>0.068750</td>\n",
              "      <td>0.115385</td>\n",
              "      <td>0.100000</td>\n",
              "      <td>0.098333</td>\n",
              "      <td>0.000278</td>\n",
              "      <td>0.047619</td>\n",
              "      <td>0.257143</td>\n",
              "      <td>0.305455</td>\n",
              "      <td>0.090909</td>\n",
              "    </tr>\n",
              "  </tbody>\n",
              "</table>\n",
              "<p>8618 rows × 32 columns</p>\n",
              "</div>"
            ],
            "text/plain": [
              "      FoodGroup  Energy_kcal  ...  Selenium_USRDA  Zinc_USRDA\n",
              "0            23        717.0  ...        0.018182    0.008182\n",
              "1            23        717.0  ...        0.018182    0.004545\n",
              "2            23        876.0  ...        0.000000    0.000909\n",
              "3            23        353.0  ...        0.263636    0.241818\n",
              "4            23        371.0  ...        0.263636    0.236364\n",
              "...         ...          ...  ...             ...         ...\n",
              "8613         18        305.0  ...        1.334545    0.100000\n",
              "8614         18        111.0  ...        0.394545    0.140909\n",
              "8615          2        269.0  ...        0.012727    0.017273\n",
              "8616         18         90.0  ...        0.498182    0.090909\n",
              "8617         18         89.0  ...        0.305455    0.090909\n",
              "\n",
              "[8618 rows x 32 columns]"
            ]
          },
          "metadata": {
            "tags": []
          },
          "execution_count": 30
        }
      ]
    },
    {
      "cell_type": "code",
      "metadata": {
        "colab": {
          "base_uri": "https://localhost:8080/",
          "height": 282
        },
        "id": "TMncR-3kq0J5",
        "outputId": "9abb64c1-c92e-4027-e045-21c0867319e5"
      },
      "source": [
        "plt.scatter(new_pca[:,0],new_pca[:,1],c = data_dropped2['FoodGroup'])"
      ],
      "execution_count": 31,
      "outputs": [
        {
          "output_type": "execute_result",
          "data": {
            "text/plain": [
              "<matplotlib.collections.PathCollection at 0x7efd26423fd0>"
            ]
          },
          "metadata": {
            "tags": []
          },
          "execution_count": 31
        },
        {
          "output_type": "display_data",
          "data": {
            "image/png": "[encoded data removed]",
            "text/plain": [
              "<Figure size 432x288 with 1 Axes>"
            ]
          },
          "metadata": {
            "tags": [],
            "needs_background": "light"
          }
        }
      ]
    },
    {
      "cell_type": "code",
      "metadata": {
        "colab": {
          "base_uri": "https://localhost:8080/",
          "height": 282
        },
        "id": "lzRUt99vq3TW",
        "outputId": "6443928a-f11a-404f-cf2d-6edb845b2b9b"
      },
      "source": [
        "plt.scatter(new_pca[:,0],new_pca[:,1],c = data_dropped2['FoodGroup'],alpha=0.5)"
      ],
      "execution_count": 32,
      "outputs": [
        {
          "output_type": "execute_result",
          "data": {
            "text/plain": [
              "<matplotlib.collections.PathCollection at 0x7efd263916d0>"
            ]
          },
          "metadata": {
            "tags": []
          },
          "execution_count": 32
        },
        {
          "output_type": "display_data",
          "data": {
            "image/png": "[encoded data removed]",
            "text/plain": [
              "<Figure size 432x288 with 1 Axes>"
            ]
          },
          "metadata": {
            "tags": [],
            "needs_background": "light"
          }
        }
      ]
    },
    {
      "cell_type": "markdown",
      "metadata": {
        "id": "pQyLqTttq8cQ"
      },
      "source": [
        "###ทดลอง เปรียบเทียบค่าสารอาหาร baby food และ  Sweets\n"
      ]
    },
    {
      "cell_type": "code",
      "metadata": {
        "colab": {
          "base_uri": "https://localhost:8080/",
          "height": 422
        },
        "id": "DFOj8TNkq5lb",
        "outputId": "0841594e-5217-4037-ff38-01ea0b9bfe6d"
      },
      "source": [
        "bb = data_dropped2[(data_dropped2['FoodGroup']==1) | (data_dropped2['FoodGroup']==23)]  ## ใช้  | และ  &  แทน  or  และ  and  ใน pandas\n",
        "bb"
      ],
      "execution_count": 40,
      "outputs": [
        {
          "output_type": "execute_result",
          "data": {
            "text/html": [
              "<div>\n",
              "<style scoped>\n",
              "    .dataframe tbody tr th:only-of-type {\n",
              "        vertical-align: middle;\n",
              "    }\n",
              "\n",
              "    .dataframe tbody tr th {\n",
              "        vertical-align: top;\n",
              "    }\n",
              "\n",
              "    .dataframe thead th {\n",
              "        text-align: right;\n",
              "    }\n",
              "</style>\n",
              "<table border=\"1\" class=\"dataframe\">\n",
              "  <thead>\n",
              "    <tr style=\"text-align: right;\">\n",
              "      <th></th>\n",
              "      <th>FoodGroup</th>\n",
              "      <th>Energy_kcal</th>\n",
              "      <th>Protein_g</th>\n",
              "      <th>Fat_g</th>\n",
              "      <th>Carb_g</th>\n",
              "      <th>Sugar_g</th>\n",
              "      <th>Fiber_g</th>\n",
              "      <th>VitA_mcg</th>\n",
              "      <th>VitB6_mg</th>\n",
              "      <th>VitB12_mcg</th>\n",
              "      <th>VitC_mg</th>\n",
              "      <th>Folate_mcg</th>\n",
              "      <th>Calcium_mg</th>\n",
              "      <th>Copper_mcg</th>\n",
              "      <th>Iron_mg</th>\n",
              "      <th>Manganese_mg</th>\n",
              "      <th>Selenium_mcg</th>\n",
              "      <th>VitA_USRDA</th>\n",
              "      <th>VitB6_USRDA</th>\n",
              "      <th>VitB12_USRDA</th>\n",
              "      <th>VitC_USRDA</th>\n",
              "      <th>VitE_USRDA</th>\n",
              "      <th>Folate_USRDA</th>\n",
              "      <th>Niacin_USRDA</th>\n",
              "      <th>Riboflavin_USRDA</th>\n",
              "      <th>Thiamin_USRDA</th>\n",
              "      <th>Calcium_USRDA</th>\n",
              "      <th>Copper_USRDA</th>\n",
              "      <th>Magnesium_USRDA</th>\n",
              "      <th>Phosphorus_USRDA</th>\n",
              "      <th>Selenium_USRDA</th>\n",
              "      <th>Zinc_USRDA</th>\n",
              "    </tr>\n",
              "  </thead>\n",
              "  <tbody>\n",
              "    <tr>\n",
              "      <th>0</th>\n",
              "      <td>23</td>\n",
              "      <td>717.0</td>\n",
              "      <td>0.85</td>\n",
              "      <td>81.11</td>\n",
              "      <td>0.06</td>\n",
              "      <td>0.06</td>\n",
              "      <td>0.0</td>\n",
              "      <td>684.0</td>\n",
              "      <td>0.003</td>\n",
              "      <td>0.17</td>\n",
              "      <td>0.0</td>\n",
              "      <td>3.0</td>\n",
              "      <td>24.0</td>\n",
              "      <td>0.000</td>\n",
              "      <td>0.02</td>\n",
              "      <td>0.000</td>\n",
              "      <td>1.0</td>\n",
              "      <td>0.760000</td>\n",
              "      <td>0.001765</td>\n",
              "      <td>0.070833</td>\n",
              "      <td>0.000000</td>\n",
              "      <td>0.154667</td>\n",
              "      <td>0.0075</td>\n",
              "      <td>0.002625</td>\n",
              "      <td>0.026154</td>\n",
              "      <td>0.004167</td>\n",
              "      <td>0.020000</td>\n",
              "      <td>0.000000</td>\n",
              "      <td>0.004762</td>\n",
              "      <td>0.034286</td>\n",
              "      <td>0.018182</td>\n",
              "      <td>0.008182</td>\n",
              "    </tr>\n",
              "    <tr>\n",
              "      <th>1</th>\n",
              "      <td>23</td>\n",
              "      <td>717.0</td>\n",
              "      <td>0.85</td>\n",
              "      <td>81.11</td>\n",
              "      <td>0.06</td>\n",
              "      <td>0.06</td>\n",
              "      <td>0.0</td>\n",
              "      <td>684.0</td>\n",
              "      <td>0.003</td>\n",
              "      <td>0.13</td>\n",
              "      <td>0.0</td>\n",
              "      <td>3.0</td>\n",
              "      <td>24.0</td>\n",
              "      <td>0.016</td>\n",
              "      <td>0.16</td>\n",
              "      <td>0.004</td>\n",
              "      <td>1.0</td>\n",
              "      <td>0.760000</td>\n",
              "      <td>0.001765</td>\n",
              "      <td>0.054167</td>\n",
              "      <td>0.000000</td>\n",
              "      <td>0.154667</td>\n",
              "      <td>0.0075</td>\n",
              "      <td>0.002625</td>\n",
              "      <td>0.026154</td>\n",
              "      <td>0.004167</td>\n",
              "      <td>0.020000</td>\n",
              "      <td>0.000018</td>\n",
              "      <td>0.004762</td>\n",
              "      <td>0.032857</td>\n",
              "      <td>0.018182</td>\n",
              "      <td>0.004545</td>\n",
              "    </tr>\n",
              "    <tr>\n",
              "      <th>2</th>\n",
              "      <td>23</td>\n",
              "      <td>876.0</td>\n",
              "      <td>0.28</td>\n",
              "      <td>99.48</td>\n",
              "      <td>0.00</td>\n",
              "      <td>0.00</td>\n",
              "      <td>0.0</td>\n",
              "      <td>840.0</td>\n",
              "      <td>0.001</td>\n",
              "      <td>0.01</td>\n",
              "      <td>0.0</td>\n",
              "      <td>0.0</td>\n",
              "      <td>4.0</td>\n",
              "      <td>0.001</td>\n",
              "      <td>0.00</td>\n",
              "      <td>0.000</td>\n",
              "      <td>0.0</td>\n",
              "      <td>0.933333</td>\n",
              "      <td>0.000588</td>\n",
              "      <td>0.004167</td>\n",
              "      <td>0.000000</td>\n",
              "      <td>0.186667</td>\n",
              "      <td>0.0000</td>\n",
              "      <td>0.000188</td>\n",
              "      <td>0.003846</td>\n",
              "      <td>0.000833</td>\n",
              "      <td>0.003333</td>\n",
              "      <td>0.000001</td>\n",
              "      <td>0.000000</td>\n",
              "      <td>0.004286</td>\n",
              "      <td>0.000000</td>\n",
              "      <td>0.000909</td>\n",
              "    </tr>\n",
              "    <tr>\n",
              "      <th>3</th>\n",
              "      <td>23</td>\n",
              "      <td>353.0</td>\n",
              "      <td>21.40</td>\n",
              "      <td>28.74</td>\n",
              "      <td>2.34</td>\n",
              "      <td>0.50</td>\n",
              "      <td>0.0</td>\n",
              "      <td>198.0</td>\n",
              "      <td>0.166</td>\n",
              "      <td>1.22</td>\n",
              "      <td>0.0</td>\n",
              "      <td>36.0</td>\n",
              "      <td>528.0</td>\n",
              "      <td>0.040</td>\n",
              "      <td>0.31</td>\n",
              "      <td>0.009</td>\n",
              "      <td>14.5</td>\n",
              "      <td>0.220000</td>\n",
              "      <td>0.097647</td>\n",
              "      <td>0.508333</td>\n",
              "      <td>0.000000</td>\n",
              "      <td>0.016667</td>\n",
              "      <td>0.0900</td>\n",
              "      <td>0.063500</td>\n",
              "      <td>0.293846</td>\n",
              "      <td>0.024167</td>\n",
              "      <td>0.440000</td>\n",
              "      <td>0.000044</td>\n",
              "      <td>0.054762</td>\n",
              "      <td>0.552857</td>\n",
              "      <td>0.263636</td>\n",
              "      <td>0.241818</td>\n",
              "    </tr>\n",
              "    <tr>\n",
              "      <th>4</th>\n",
              "      <td>23</td>\n",
              "      <td>371.0</td>\n",
              "      <td>23.24</td>\n",
              "      <td>29.68</td>\n",
              "      <td>2.79</td>\n",
              "      <td>0.51</td>\n",
              "      <td>0.0</td>\n",
              "      <td>292.0</td>\n",
              "      <td>0.065</td>\n",
              "      <td>1.26</td>\n",
              "      <td>0.0</td>\n",
              "      <td>20.0</td>\n",
              "      <td>674.0</td>\n",
              "      <td>0.024</td>\n",
              "      <td>0.43</td>\n",
              "      <td>0.012</td>\n",
              "      <td>14.5</td>\n",
              "      <td>0.324444</td>\n",
              "      <td>0.038235</td>\n",
              "      <td>0.525000</td>\n",
              "      <td>0.000000</td>\n",
              "      <td>0.017333</td>\n",
              "      <td>0.0500</td>\n",
              "      <td>0.007375</td>\n",
              "      <td>0.270000</td>\n",
              "      <td>0.011667</td>\n",
              "      <td>0.561667</td>\n",
              "      <td>0.000027</td>\n",
              "      <td>0.057143</td>\n",
              "      <td>0.644286</td>\n",
              "      <td>0.263636</td>\n",
              "      <td>0.236364</td>\n",
              "    </tr>\n",
              "    <tr>\n",
              "      <th>...</th>\n",
              "      <td>...</td>\n",
              "      <td>...</td>\n",
              "      <td>...</td>\n",
              "      <td>...</td>\n",
              "      <td>...</td>\n",
              "      <td>...</td>\n",
              "      <td>...</td>\n",
              "      <td>...</td>\n",
              "      <td>...</td>\n",
              "      <td>...</td>\n",
              "      <td>...</td>\n",
              "      <td>...</td>\n",
              "      <td>...</td>\n",
              "      <td>...</td>\n",
              "      <td>...</td>\n",
              "      <td>...</td>\n",
              "      <td>...</td>\n",
              "      <td>...</td>\n",
              "      <td>...</td>\n",
              "      <td>...</td>\n",
              "      <td>...</td>\n",
              "      <td>...</td>\n",
              "      <td>...</td>\n",
              "      <td>...</td>\n",
              "      <td>...</td>\n",
              "      <td>...</td>\n",
              "      <td>...</td>\n",
              "      <td>...</td>\n",
              "      <td>...</td>\n",
              "      <td>...</td>\n",
              "      <td>...</td>\n",
              "      <td>...</td>\n",
              "    </tr>\n",
              "    <tr>\n",
              "      <th>8587</th>\n",
              "      <td>23</td>\n",
              "      <td>46.0</td>\n",
              "      <td>1.60</td>\n",
              "      <td>2.00</td>\n",
              "      <td>5.30</td>\n",
              "      <td>5.30</td>\n",
              "      <td>0.0</td>\n",
              "      <td>61.0</td>\n",
              "      <td>0.000</td>\n",
              "      <td>0.00</td>\n",
              "      <td>0.0</td>\n",
              "      <td>0.0</td>\n",
              "      <td>82.0</td>\n",
              "      <td>0.020</td>\n",
              "      <td>0.10</td>\n",
              "      <td>0.000</td>\n",
              "      <td>1.8</td>\n",
              "      <td>0.067778</td>\n",
              "      <td>0.000000</td>\n",
              "      <td>0.000000</td>\n",
              "      <td>0.000000</td>\n",
              "      <td>0.000000</td>\n",
              "      <td>0.0000</td>\n",
              "      <td>0.006250</td>\n",
              "      <td>0.000000</td>\n",
              "      <td>0.000000</td>\n",
              "      <td>0.068333</td>\n",
              "      <td>0.000022</td>\n",
              "      <td>0.002381</td>\n",
              "      <td>0.142857</td>\n",
              "      <td>0.032727</td>\n",
              "      <td>0.009091</td>\n",
              "    </tr>\n",
              "    <tr>\n",
              "      <th>8595</th>\n",
              "      <td>23</td>\n",
              "      <td>179.0</td>\n",
              "      <td>28.40</td>\n",
              "      <td>5.10</td>\n",
              "      <td>3.40</td>\n",
              "      <td>1.33</td>\n",
              "      <td>0.0</td>\n",
              "      <td>40.0</td>\n",
              "      <td>0.080</td>\n",
              "      <td>1.68</td>\n",
              "      <td>0.0</td>\n",
              "      <td>6.0</td>\n",
              "      <td>961.0</td>\n",
              "      <td>0.027</td>\n",
              "      <td>0.17</td>\n",
              "      <td>0.000</td>\n",
              "      <td>12.7</td>\n",
              "      <td>0.044444</td>\n",
              "      <td>0.047059</td>\n",
              "      <td>0.700000</td>\n",
              "      <td>0.000000</td>\n",
              "      <td>0.004667</td>\n",
              "      <td>0.0150</td>\n",
              "      <td>0.005625</td>\n",
              "      <td>0.276923</td>\n",
              "      <td>0.016667</td>\n",
              "      <td>0.800833</td>\n",
              "      <td>0.000030</td>\n",
              "      <td>0.085714</td>\n",
              "      <td>0.864286</td>\n",
              "      <td>0.230909</td>\n",
              "      <td>0.354545</td>\n",
              "    </tr>\n",
              "    <tr>\n",
              "      <th>8597</th>\n",
              "      <td>23</td>\n",
              "      <td>280.0</td>\n",
              "      <td>27.50</td>\n",
              "      <td>17.10</td>\n",
              "      <td>3.10</td>\n",
              "      <td>1.23</td>\n",
              "      <td>0.0</td>\n",
              "      <td>137.0</td>\n",
              "      <td>0.080</td>\n",
              "      <td>0.92</td>\n",
              "      <td>0.0</td>\n",
              "      <td>9.0</td>\n",
              "      <td>731.0</td>\n",
              "      <td>0.027</td>\n",
              "      <td>0.25</td>\n",
              "      <td>0.000</td>\n",
              "      <td>15.7</td>\n",
              "      <td>0.152222</td>\n",
              "      <td>0.047059</td>\n",
              "      <td>0.383333</td>\n",
              "      <td>0.000000</td>\n",
              "      <td>0.010000</td>\n",
              "      <td>0.0225</td>\n",
              "      <td>0.007500</td>\n",
              "      <td>0.261538</td>\n",
              "      <td>0.016667</td>\n",
              "      <td>0.609167</td>\n",
              "      <td>0.000030</td>\n",
              "      <td>0.061905</td>\n",
              "      <td>0.748571</td>\n",
              "      <td>0.285455</td>\n",
              "      <td>0.284545</td>\n",
              "    </tr>\n",
              "    <tr>\n",
              "      <th>8601</th>\n",
              "      <td>23</td>\n",
              "      <td>257.0</td>\n",
              "      <td>4.08</td>\n",
              "      <td>19.50</td>\n",
              "      <td>16.18</td>\n",
              "      <td>8.21</td>\n",
              "      <td>0.0</td>\n",
              "      <td>45.0</td>\n",
              "      <td>0.027</td>\n",
              "      <td>0.71</td>\n",
              "      <td>0.0</td>\n",
              "      <td>8.0</td>\n",
              "      <td>649.0</td>\n",
              "      <td>0.026</td>\n",
              "      <td>0.68</td>\n",
              "      <td>0.026</td>\n",
              "      <td>2.9</td>\n",
              "      <td>0.050000</td>\n",
              "      <td>0.015882</td>\n",
              "      <td>0.295833</td>\n",
              "      <td>0.000000</td>\n",
              "      <td>0.143333</td>\n",
              "      <td>0.0200</td>\n",
              "      <td>0.003750</td>\n",
              "      <td>0.069231</td>\n",
              "      <td>0.000000</td>\n",
              "      <td>0.540833</td>\n",
              "      <td>0.000029</td>\n",
              "      <td>0.023810</td>\n",
              "      <td>0.851429</td>\n",
              "      <td>0.052727</td>\n",
              "      <td>0.019091</td>\n",
              "    </tr>\n",
              "    <tr>\n",
              "      <th>8607</th>\n",
              "      <td>1</td>\n",
              "      <td>287.0</td>\n",
              "      <td>0.08</td>\n",
              "      <td>0.01</td>\n",
              "      <td>71.60</td>\n",
              "      <td>24.53</td>\n",
              "      <td>0.0</td>\n",
              "      <td>1.0</td>\n",
              "      <td>0.005</td>\n",
              "      <td>0.00</td>\n",
              "      <td>4.2</td>\n",
              "      <td>5.0</td>\n",
              "      <td>2.0</td>\n",
              "      <td>0.020</td>\n",
              "      <td>0.04</td>\n",
              "      <td>0.045</td>\n",
              "      <td>0.5</td>\n",
              "      <td>0.001111</td>\n",
              "      <td>0.002941</td>\n",
              "      <td>0.000000</td>\n",
              "      <td>0.046667</td>\n",
              "      <td>0.001333</td>\n",
              "      <td>0.0125</td>\n",
              "      <td>0.001625</td>\n",
              "      <td>0.013077</td>\n",
              "      <td>0.007500</td>\n",
              "      <td>0.001667</td>\n",
              "      <td>0.000022</td>\n",
              "      <td>0.002381</td>\n",
              "      <td>0.002857</td>\n",
              "      <td>0.009091</td>\n",
              "      <td>0.001818</td>\n",
              "    </tr>\n",
              "  </tbody>\n",
              "</table>\n",
              "<p>579 rows × 32 columns</p>\n",
              "</div>"
            ],
            "text/plain": [
              "      FoodGroup  Energy_kcal  ...  Selenium_USRDA  Zinc_USRDA\n",
              "0            23        717.0  ...        0.018182    0.008182\n",
              "1            23        717.0  ...        0.018182    0.004545\n",
              "2            23        876.0  ...        0.000000    0.000909\n",
              "3            23        353.0  ...        0.263636    0.241818\n",
              "4            23        371.0  ...        0.263636    0.236364\n",
              "...         ...          ...  ...             ...         ...\n",
              "8587         23         46.0  ...        0.032727    0.009091\n",
              "8595         23        179.0  ...        0.230909    0.354545\n",
              "8597         23        280.0  ...        0.285455    0.284545\n",
              "8601         23        257.0  ...        0.052727    0.019091\n",
              "8607          1        287.0  ...        0.009091    0.001818\n",
              "\n",
              "[579 rows x 32 columns]"
            ]
          },
          "metadata": {
            "tags": []
          },
          "execution_count": 40
        }
      ]
    },
    {
      "cell_type": "code",
      "metadata": {
        "id": "W_QJa186rIe6"
      },
      "source": [
        "pca = PCA(n_components=2)\n",
        "new_pca = pca.fit_transform(bb.iloc[:,1:].to_numpy())"
      ],
      "execution_count": 41,
      "outputs": []
    },
    {
      "cell_type": "code",
      "metadata": {
        "colab": {
          "base_uri": "https://localhost:8080/",
          "height": 282
        },
        "id": "eDoDc8XOrkDX",
        "outputId": "146d96fd-179c-4b05-9f13-3180c4d2f77d"
      },
      "source": [
        "plt.scatter(new_pca[:,0],new_pca[:,1],c = bb['FoodGroup'],alpha=0.5)"
      ],
      "execution_count": 42,
      "outputs": [
        {
          "output_type": "execute_result",
          "data": {
            "text/plain": [
              "<matplotlib.collections.PathCollection at 0x7efd25f7ecd0>"
            ]
          },
          "metadata": {
            "tags": []
          },
          "execution_count": 42
        },
        {
          "output_type": "display_data",
          "data": {
            "image/png": "[encoded data removed]",
            "text/plain": [
              "<Figure size 432x288 with 1 Axes>"
            ]
          },
          "metadata": {
            "tags": [],
            "needs_background": "light"
          }
        }
      ]
    },
    {
      "cell_type": "code",
      "metadata": {
        "id": "m1mkVBCduYq-"
      },
      "source": [
        "baby_pca = pca.transform(bb[bb['FoodGroup']==1].iloc[:,1:].to_numpy())\n",
        "Sweets_pca = pca.transform(bb[bb['FoodGroup']==23].iloc[:,1:].to_numpy())"
      ],
      "execution_count": 48,
      "outputs": []
    },
    {
      "cell_type": "code",
      "metadata": {
        "colab": {
          "base_uri": "https://localhost:8080/",
          "height": 282
        },
        "id": "UfO4nhcxubiB",
        "outputId": "359dacd4-5b82-4165-b334-385907b9d1ab"
      },
      "source": [
        "plt.plot(baby_pca[:,0],baby_pca[:,1],'*r',alpha=0.5,label='baby')\n",
        "plt.plot(Sweets_pca[:,0],Sweets_pca[:,1],'og',alpha=0.5,label='Sweets')\n",
        "plt.legend()"
      ],
      "execution_count": 49,
      "outputs": [
        {
          "output_type": "execute_result",
          "data": {
            "text/plain": [
              "<matplotlib.legend.Legend at 0x7efd25dc3490>"
            ]
          },
          "metadata": {
            "tags": []
          },
          "execution_count": 49
        },
        {
          "output_type": "display_data",
          "data": {
            "image/png": "[encoded data removed]",
            "text/plain": [
              "<Figure size 432x288 with 1 Axes>"
            ]
          },
          "metadata": {
            "tags": [],
            "needs_background": "light"
          }
        }
      ]
    },
    {
      "cell_type": "markdown",
      "metadata": {
        "id": "-c0ANhU7K9So"
      },
      "source": [
        "###2 Principle components เป็นตัวแทนของข้อมูลได้ดีแค่ไหน"
      ]
    },
    {
      "cell_type": "code",
      "metadata": {
        "colab": {
          "base_uri": "https://localhost:8080/"
        },
        "id": "zRH6TCqGLBem",
        "outputId": "f9e1e3c5-1bdc-436f-c6f9-41f830e6136b"
      },
      "source": [
        "pca.explained_variance_ratio_"
      ],
      "execution_count": 50,
      "outputs": [
        {
          "output_type": "execute_result",
          "data": {
            "text/plain": [
              "array([0.65083025, 0.26227869])"
            ]
          },
          "metadata": {
            "tags": []
          },
          "execution_count": 50
        }
      ]
    },
    {
      "cell_type": "markdown",
      "metadata": {
        "id": "jysNzzWRt_02"
      },
      "source": [
        "###การใส่ชื่อกราฟ และ แกน"
      ]
    },
    {
      "cell_type": "code",
      "metadata": {
        "colab": {
          "base_uri": "https://localhost:8080/",
          "height": 295
        },
        "id": "4JLIP4_euLYS",
        "outputId": "ecef0dc9-a97b-4791-961f-b92e72fcf9e6"
      },
      "source": [
        "plt.plot(baby_pca[:,0],baby_pca[:,1],'*r',alpha=0.5,label='baby')\n",
        "plt.plot(Sweets_pca[:,0],Sweets_pca[:,1],'og',alpha=0.5,label='sweets')\n",
        "plt.legend()\n",
        "plt.title('comparison of nutritions between Sweets VS baby food with PCA')\n",
        "plt.xlabel('PC1 (65.09%)')\n",
        "plt.ylabel('PC2 (26.22%)');\n"
      ],
      "execution_count": 51,
      "outputs": [
        {
          "output_type": "display_data",
          "data": {
            "image/png": "[encoded data removed]",
            "text/plain": [
              "<Figure size 432x288 with 1 Axes>"
            ]
          },
          "metadata": {
            "tags": [],
            "needs_background": "light"
          }
        }
      ]
    },
    {
      "cell_type": "markdown",
      "metadata": {
        "id": "rXzdtpjss49P"
      },
      "source": [
        " component ที่เหมาะสมที่ถูกเลือกมาใช้จะครอบคลุม variance ประมาณ 80-90% ซึ่งจากที่เปรียบเทียบระหว่าง Sweets VS baby food แล้ว PC1 + PC2 บวกกันได้ 91.31% ซึ่งสามารถอธิบายได้ครอบคลุม"
      ]
    },
    {
      "cell_type": "markdown",
      "metadata": {
        "id": "lthuwILl0-cw"
      },
      "source": [
        "###Pizza"
      ]
    },
    {
      "cell_type": "code",
      "metadata": {
        "id": "YGjop5H61CFj"
      },
      "source": [
        "import pandas as pd"
      ],
      "execution_count": 61,
      "outputs": []
    },
    {
      "cell_type": "code",
      "metadata": {
        "colab": {
          "base_uri": "https://localhost:8080/",
          "height": 343
        },
        "id": "rvNM-qNn1ErX",
        "outputId": "975f276e-7822-4848-9102-4e410f4ed672"
      },
      "source": [
        "data = pd.read_csv('/content/Pizza.csv')\n",
        "data.head(10)"
      ],
      "execution_count": 62,
      "outputs": [
        {
          "output_type": "execute_result",
          "data": {
            "text/html": [
              "<div>\n",
              "<style scoped>\n",
              "    .dataframe tbody tr th:only-of-type {\n",
              "        vertical-align: middle;\n",
              "    }\n",
              "\n",
              "    .dataframe tbody tr th {\n",
              "        vertical-align: top;\n",
              "    }\n",
              "\n",
              "    .dataframe thead th {\n",
              "        text-align: right;\n",
              "    }\n",
              "</style>\n",
              "<table border=\"1\" class=\"dataframe\">\n",
              "  <thead>\n",
              "    <tr style=\"text-align: right;\">\n",
              "      <th></th>\n",
              "      <th>brand</th>\n",
              "      <th>id</th>\n",
              "      <th>mois</th>\n",
              "      <th>prot</th>\n",
              "      <th>fat</th>\n",
              "      <th>ash</th>\n",
              "      <th>sodium</th>\n",
              "      <th>carb</th>\n",
              "      <th>cal</th>\n",
              "    </tr>\n",
              "  </thead>\n",
              "  <tbody>\n",
              "    <tr>\n",
              "      <th>0</th>\n",
              "      <td>A</td>\n",
              "      <td>14069</td>\n",
              "      <td>27.82</td>\n",
              "      <td>21.43</td>\n",
              "      <td>44.87</td>\n",
              "      <td>5.11</td>\n",
              "      <td>1.77</td>\n",
              "      <td>0.77</td>\n",
              "      <td>4.93</td>\n",
              "    </tr>\n",
              "    <tr>\n",
              "      <th>1</th>\n",
              "      <td>A</td>\n",
              "      <td>14053</td>\n",
              "      <td>28.49</td>\n",
              "      <td>21.26</td>\n",
              "      <td>43.89</td>\n",
              "      <td>5.34</td>\n",
              "      <td>1.79</td>\n",
              "      <td>1.02</td>\n",
              "      <td>4.84</td>\n",
              "    </tr>\n",
              "    <tr>\n",
              "      <th>2</th>\n",
              "      <td>A</td>\n",
              "      <td>14025</td>\n",
              "      <td>28.35</td>\n",
              "      <td>19.99</td>\n",
              "      <td>45.78</td>\n",
              "      <td>5.08</td>\n",
              "      <td>1.63</td>\n",
              "      <td>0.80</td>\n",
              "      <td>4.95</td>\n",
              "    </tr>\n",
              "    <tr>\n",
              "      <th>3</th>\n",
              "      <td>A</td>\n",
              "      <td>14016</td>\n",
              "      <td>30.55</td>\n",
              "      <td>20.15</td>\n",
              "      <td>43.13</td>\n",
              "      <td>4.79</td>\n",
              "      <td>1.61</td>\n",
              "      <td>1.38</td>\n",
              "      <td>4.74</td>\n",
              "    </tr>\n",
              "    <tr>\n",
              "      <th>4</th>\n",
              "      <td>A</td>\n",
              "      <td>14005</td>\n",
              "      <td>30.49</td>\n",
              "      <td>21.28</td>\n",
              "      <td>41.65</td>\n",
              "      <td>4.82</td>\n",
              "      <td>1.64</td>\n",
              "      <td>1.76</td>\n",
              "      <td>4.67</td>\n",
              "    </tr>\n",
              "    <tr>\n",
              "      <th>5</th>\n",
              "      <td>A</td>\n",
              "      <td>14075</td>\n",
              "      <td>31.14</td>\n",
              "      <td>20.23</td>\n",
              "      <td>42.31</td>\n",
              "      <td>4.92</td>\n",
              "      <td>1.65</td>\n",
              "      <td>1.40</td>\n",
              "      <td>4.67</td>\n",
              "    </tr>\n",
              "    <tr>\n",
              "      <th>6</th>\n",
              "      <td>A</td>\n",
              "      <td>14082</td>\n",
              "      <td>31.21</td>\n",
              "      <td>20.97</td>\n",
              "      <td>41.34</td>\n",
              "      <td>4.71</td>\n",
              "      <td>1.58</td>\n",
              "      <td>1.77</td>\n",
              "      <td>4.63</td>\n",
              "    </tr>\n",
              "    <tr>\n",
              "      <th>7</th>\n",
              "      <td>A</td>\n",
              "      <td>14097</td>\n",
              "      <td>28.76</td>\n",
              "      <td>21.41</td>\n",
              "      <td>41.60</td>\n",
              "      <td>5.28</td>\n",
              "      <td>1.75</td>\n",
              "      <td>2.95</td>\n",
              "      <td>4.72</td>\n",
              "    </tr>\n",
              "    <tr>\n",
              "      <th>8</th>\n",
              "      <td>A</td>\n",
              "      <td>14117</td>\n",
              "      <td>28.22</td>\n",
              "      <td>20.48</td>\n",
              "      <td>45.10</td>\n",
              "      <td>5.02</td>\n",
              "      <td>1.71</td>\n",
              "      <td>1.18</td>\n",
              "      <td>4.93</td>\n",
              "    </tr>\n",
              "    <tr>\n",
              "      <th>9</th>\n",
              "      <td>A</td>\n",
              "      <td>14133</td>\n",
              "      <td>27.72</td>\n",
              "      <td>21.19</td>\n",
              "      <td>45.29</td>\n",
              "      <td>5.16</td>\n",
              "      <td>1.66</td>\n",
              "      <td>0.64</td>\n",
              "      <td>4.95</td>\n",
              "    </tr>\n",
              "  </tbody>\n",
              "</table>\n",
              "</div>"
            ],
            "text/plain": [
              "  brand     id   mois   prot    fat   ash  sodium  carb   cal\n",
              "0     A  14069  27.82  21.43  44.87  5.11    1.77  0.77  4.93\n",
              "1     A  14053  28.49  21.26  43.89  5.34    1.79  1.02  4.84\n",
              "2     A  14025  28.35  19.99  45.78  5.08    1.63  0.80  4.95\n",
              "3     A  14016  30.55  20.15  43.13  4.79    1.61  1.38  4.74\n",
              "4     A  14005  30.49  21.28  41.65  4.82    1.64  1.76  4.67\n",
              "5     A  14075  31.14  20.23  42.31  4.92    1.65  1.40  4.67\n",
              "6     A  14082  31.21  20.97  41.34  4.71    1.58  1.77  4.63\n",
              "7     A  14097  28.76  21.41  41.60  5.28    1.75  2.95  4.72\n",
              "8     A  14117  28.22  20.48  45.10  5.02    1.71  1.18  4.93\n",
              "9     A  14133  27.72  21.19  45.29  5.16    1.66  0.64  4.95"
            ]
          },
          "metadata": {
            "tags": []
          },
          "execution_count": 62
        }
      ]
    },
    {
      "cell_type": "markdown",
      "metadata": {
        "id": "AsBNFBeb1TOs"
      },
      "source": [
        "###ตรวจสอบขนาดของข้อมูลว่ามี data กี่ตัว และมีกี่ dimensions"
      ]
    },
    {
      "cell_type": "code",
      "metadata": {
        "colab": {
          "base_uri": "https://localhost:8080/"
        },
        "id": "H4-wG7RX1HUb",
        "outputId": "6aa24bc9-bf56-4cb7-8aa9-b9d9ee65abae"
      },
      "source": [
        "data.shape #เช็คจำนวนแถว และจำนวนคอลัมน์"
      ],
      "execution_count": 63,
      "outputs": [
        {
          "output_type": "execute_result",
          "data": {
            "text/plain": [
              "(300, 9)"
            ]
          },
          "metadata": {
            "tags": []
          },
          "execution_count": 63
        }
      ]
    },
    {
      "cell_type": "markdown",
      "metadata": {
        "id": "eOSb6stu1dQW"
      },
      "source": [
        "###plot scatter matrix เพื่อดูการกระจายของ data ในมุมมองต่างๆ"
      ]
    },
    {
      "cell_type": "code",
      "metadata": {
        "colab": {
          "base_uri": "https://localhost:8080/",
          "height": 1000
        },
        "id": "XF3axa8Z1aVE",
        "outputId": "e97989ad-ae76-4c0d-b89d-87dc1bc23750"
      },
      "source": [
        "pd.plotting.scatter_matrix(data)"
      ],
      "execution_count": 64,
      "outputs": [
        {
          "output_type": "execute_result",
          "data": {
            "text/plain": [
              "array([[<matplotlib.axes._subplots.AxesSubplot object at 0x7efd24ada090>,\n",
              "        <matplotlib.axes._subplots.AxesSubplot object at 0x7efd24961110>,\n",
              "        <matplotlib.axes._subplots.AxesSubplot object at 0x7efd24917690>,\n",
              "        <matplotlib.axes._subplots.AxesSubplot object at 0x7efd2494ac10>,\n",
              "        <matplotlib.axes._subplots.AxesSubplot object at 0x7efd2488c1d0>,\n",
              "        <matplotlib.axes._subplots.AxesSubplot object at 0x7efd248c1750>,\n",
              "        <matplotlib.axes._subplots.AxesSubplot object at 0x7efd24876d50>,\n",
              "        <matplotlib.axes._subplots.AxesSubplot object at 0x7efd2483a250>],\n",
              "       [<matplotlib.axes._subplots.AxesSubplot object at 0x7efd2483a290>,\n",
              "        <matplotlib.axes._subplots.AxesSubplot object at 0x7efd247ed910>,\n",
              "        <matplotlib.axes._subplots.AxesSubplot object at 0x7efd24765350>,\n",
              "        <matplotlib.axes._subplots.AxesSubplot object at 0x7efd2471a8d0>,\n",
              "        <matplotlib.axes._subplots.AxesSubplot object at 0x7efd246d0e50>,\n",
              "        <matplotlib.axes._subplots.AxesSubplot object at 0x7efd24694410>,\n",
              "        <matplotlib.axes._subplots.AxesSubplot object at 0x7efd246ca990>,\n",
              "        <matplotlib.axes._subplots.AxesSubplot object at 0x7efd24680f10>],\n",
              "       [<matplotlib.axes._subplots.AxesSubplot object at 0x7efd246404d0>,\n",
              "        <matplotlib.axes._subplots.AxesSubplot object at 0x7efd245f5a50>,\n",
              "        <matplotlib.axes._subplots.AxesSubplot object at 0x7efd245a0b10>,\n",
              "        <matplotlib.axes._subplots.AxesSubplot object at 0x7efd2456e590>,\n",
              "        <matplotlib.axes._subplots.AxesSubplot object at 0x7efd24524b10>,\n",
              "        <matplotlib.axes._subplots.AxesSubplot object at 0x7efd244e50d0>,\n",
              "        <matplotlib.axes._subplots.AxesSubplot object at 0x7efd2449c650>,\n",
              "        <matplotlib.axes._subplots.AxesSubplot object at 0x7efd2444fbd0>],\n",
              "       [<matplotlib.axes._subplots.AxesSubplot object at 0x7efd24413190>,\n",
              "        <matplotlib.axes._subplots.AxesSubplot object at 0x7efd24448710>,\n",
              "        <matplotlib.axes._subplots.AxesSubplot object at 0x7efd243fdc90>,\n",
              "        <matplotlib.axes._subplots.AxesSubplot object at 0x7efd243c0250>,\n",
              "        <matplotlib.axes._subplots.AxesSubplot object at 0x7efd243757d0>,\n",
              "        <matplotlib.axes._subplots.AxesSubplot object at 0x7efd2432ed50>,\n",
              "        <matplotlib.axes._subplots.AxesSubplot object at 0x7efd242ef310>,\n",
              "        <matplotlib.axes._subplots.AxesSubplot object at 0x7efd242a3890>],\n",
              "       [<matplotlib.axes._subplots.AxesSubplot object at 0x7efd24258e10>,\n",
              "        <matplotlib.axes._subplots.AxesSubplot object at 0x7efd2421a3d0>,\n",
              "        <matplotlib.axes._subplots.AxesSubplot object at 0x7efd241cf950>,\n",
              "        <matplotlib.axes._subplots.AxesSubplot object at 0x7efd24205ed0>,\n",
              "        <matplotlib.axes._subplots.AxesSubplot object at 0x7efd241c8490>,\n",
              "        <matplotlib.axes._subplots.AxesSubplot object at 0x7efd2417ea10>,\n",
              "        <matplotlib.axes._subplots.AxesSubplot object at 0x7efd24134f90>,\n",
              "        <matplotlib.axes._subplots.AxesSubplot object at 0x7efd240f4550>],\n",
              "       [<matplotlib.axes._subplots.AxesSubplot object at 0x7efd240aaad0>,\n",
              "        <matplotlib.axes._subplots.AxesSubplot object at 0x7efd24056b90>,\n",
              "        <matplotlib.axes._subplots.AxesSubplot object at 0x7efd4ad91290>,\n",
              "        <matplotlib.axes._subplots.AxesSubplot object at 0x7efd24a534d0>,\n",
              "        <matplotlib.axes._subplots.AxesSubplot object at 0x7efd25329f50>,\n",
              "        <matplotlib.axes._subplots.AxesSubplot object at 0x7efd24ad88d0>,\n",
              "        <matplotlib.axes._subplots.AxesSubplot object at 0x7efd25392a10>,\n",
              "        <matplotlib.axes._subplots.AxesSubplot object at 0x7efd25c50550>],\n",
              "       [<matplotlib.axes._subplots.AxesSubplot object at 0x7efd25dac7d0>,\n",
              "        <matplotlib.axes._subplots.AxesSubplot object at 0x7efd25deb2d0>,\n",
              "        <matplotlib.axes._subplots.AxesSubplot object at 0x7efd25d8e990>,\n",
              "        <matplotlib.axes._subplots.AxesSubplot object at 0x7efd260a1b90>,\n",
              "        <matplotlib.axes._subplots.AxesSubplot object at 0x7efd25e46790>,\n",
              "        <matplotlib.axes._subplots.AxesSubplot object at 0x7efd24047b10>,\n",
              "        <matplotlib.axes._subplots.AxesSubplot object at 0x7efd240061d0>,\n",
              "        <matplotlib.axes._subplots.AxesSubplot object at 0x7efd23fbe850>],\n",
              "       [<matplotlib.axes._subplots.AxesSubplot object at 0x7efd23f74ed0>,\n",
              "        <matplotlib.axes._subplots.AxesSubplot object at 0x7efd23f35590>,\n",
              "        <matplotlib.axes._subplots.AxesSubplot object at 0x7efd23eebc10>,\n",
              "        <matplotlib.axes._subplots.AxesSubplot object at 0x7efd23eaf2d0>,\n",
              "        <matplotlib.axes._subplots.AxesSubplot object at 0x7efd23e63950>,\n",
              "        <matplotlib.axes._subplots.AxesSubplot object at 0x7efd23e10b10>,\n",
              "        <matplotlib.axes._subplots.AxesSubplot object at 0x7efd23dda690>,\n",
              "        <matplotlib.axes._subplots.AxesSubplot object at 0x7efd23d91d10>]],\n",
              "      dtype=object)"
            ]
          },
          "metadata": {
            "tags": []
          },
          "execution_count": 64
        },
        {
          "output_type": "display_data",
          "data": {
            "image/png": "[encoded data removed]",
            "text/plain": [
              "<Figure size 432x288 with 64 Axes>"
            ]
          },
          "metadata": {
            "tags": [],
            "needs_background": "light"
          }
        }
      ]
    },
    {
      "cell_type": "markdown",
      "metadata": {
        "id": "3tuDXDGz1lxf"
      },
      "source": [
        "###เลือกมาทำต่อเฉพาะข้อมูลที่เป็นตัวเลข"
      ]
    },
    {
      "cell_type": "code",
      "metadata": {
        "colab": {
          "base_uri": "https://localhost:8080/",
          "height": 195
        },
        "id": "4WwOwVj91hSL",
        "outputId": "a2ab20ba-22b7-4f3e-cfc7-0a2c312d4465"
      },
      "source": [
        "newdata = data.iloc[:,2:] #เลือกข้อมูลในคอลัมน์ลำดับที่ 2 เพราะลำดับที่ 0 และ 1 ไม่ใช่ตัวเลขจึงไม่สามารถนำมาพลอตกราฟได้\n",
        "newdata.head()"
      ],
      "execution_count": 65,
      "outputs": [
        {
          "output_type": "execute_result",
          "data": {
            "text/html": [
              "<div>\n",
              "<style scoped>\n",
              "    .dataframe tbody tr th:only-of-type {\n",
              "        vertical-align: middle;\n",
              "    }\n",
              "\n",
              "    .dataframe tbody tr th {\n",
              "        vertical-align: top;\n",
              "    }\n",
              "\n",
              "    .dataframe thead th {\n",
              "        text-align: right;\n",
              "    }\n",
              "</style>\n",
              "<table border=\"1\" class=\"dataframe\">\n",
              "  <thead>\n",
              "    <tr style=\"text-align: right;\">\n",
              "      <th></th>\n",
              "      <th>mois</th>\n",
              "      <th>prot</th>\n",
              "      <th>fat</th>\n",
              "      <th>ash</th>\n",
              "      <th>sodium</th>\n",
              "      <th>carb</th>\n",
              "      <th>cal</th>\n",
              "    </tr>\n",
              "  </thead>\n",
              "  <tbody>\n",
              "    <tr>\n",
              "      <th>0</th>\n",
              "      <td>27.82</td>\n",
              "      <td>21.43</td>\n",
              "      <td>44.87</td>\n",
              "      <td>5.11</td>\n",
              "      <td>1.77</td>\n",
              "      <td>0.77</td>\n",
              "      <td>4.93</td>\n",
              "    </tr>\n",
              "    <tr>\n",
              "      <th>1</th>\n",
              "      <td>28.49</td>\n",
              "      <td>21.26</td>\n",
              "      <td>43.89</td>\n",
              "      <td>5.34</td>\n",
              "      <td>1.79</td>\n",
              "      <td>1.02</td>\n",
              "      <td>4.84</td>\n",
              "    </tr>\n",
              "    <tr>\n",
              "      <th>2</th>\n",
              "      <td>28.35</td>\n",
              "      <td>19.99</td>\n",
              "      <td>45.78</td>\n",
              "      <td>5.08</td>\n",
              "      <td>1.63</td>\n",
              "      <td>0.80</td>\n",
              "      <td>4.95</td>\n",
              "    </tr>\n",
              "    <tr>\n",
              "      <th>3</th>\n",
              "      <td>30.55</td>\n",
              "      <td>20.15</td>\n",
              "      <td>43.13</td>\n",
              "      <td>4.79</td>\n",
              "      <td>1.61</td>\n",
              "      <td>1.38</td>\n",
              "      <td>4.74</td>\n",
              "    </tr>\n",
              "    <tr>\n",
              "      <th>4</th>\n",
              "      <td>30.49</td>\n",
              "      <td>21.28</td>\n",
              "      <td>41.65</td>\n",
              "      <td>4.82</td>\n",
              "      <td>1.64</td>\n",
              "      <td>1.76</td>\n",
              "      <td>4.67</td>\n",
              "    </tr>\n",
              "  </tbody>\n",
              "</table>\n",
              "</div>"
            ],
            "text/plain": [
              "    mois   prot    fat   ash  sodium  carb   cal\n",
              "0  27.82  21.43  44.87  5.11    1.77  0.77  4.93\n",
              "1  28.49  21.26  43.89  5.34    1.79  1.02  4.84\n",
              "2  28.35  19.99  45.78  5.08    1.63  0.80  4.95\n",
              "3  30.55  20.15  43.13  4.79    1.61  1.38  4.74\n",
              "4  30.49  21.28  41.65  4.82    1.64  1.76  4.67"
            ]
          },
          "metadata": {
            "tags": []
          },
          "execution_count": 65
        }
      ]
    },
    {
      "cell_type": "markdown",
      "metadata": {
        "id": "lxri1Q951tQ_"
      },
      "source": [
        "###ตรวจสอบว่า ระหว่าง columns มี correlation กันมากน้อยแค่ไหน ด้วย numpy"
      ]
    },
    {
      "cell_type": "code",
      "metadata": {
        "id": "dXwxz3UZ1qdb"
      },
      "source": [
        "import numpy as np"
      ],
      "execution_count": 66,
      "outputs": []
    },
    {
      "cell_type": "code",
      "metadata": {
        "id": "nGfVik3T2Ifu"
      },
      "source": [
        "corr = np.corrcoef(newdata.to_numpy().T)"
      ],
      "execution_count": 67,
      "outputs": []
    },
    {
      "cell_type": "code",
      "metadata": {
        "colab": {
          "base_uri": "https://localhost:8080/"
        },
        "id": "ef1yyAqb2KP2",
        "outputId": "6ed5fc4f-dd37-4275-9128-903f8f6da66c"
      },
      "source": [
        "corr.shape"
      ],
      "execution_count": 68,
      "outputs": [
        {
          "output_type": "execute_result",
          "data": {
            "text/plain": [
              "(7, 7)"
            ]
          },
          "metadata": {
            "tags": []
          },
          "execution_count": 68
        }
      ]
    },
    {
      "cell_type": "code",
      "metadata": {
        "colab": {
          "base_uri": "https://localhost:8080/"
        },
        "id": "RHUio-dd2NRH",
        "outputId": "78d525a5-4c07-4069-b617-d6cab97652a4"
      },
      "source": [
        "corr"
      ],
      "execution_count": 69,
      "outputs": [
        {
          "output_type": "execute_result",
          "data": {
            "text/plain": [
              "array([[ 1.        ,  0.36024768, -0.17131821,  0.26555552, -0.1022789 ,\n",
              "        -0.59180165, -0.76444054],\n",
              "       [ 0.36024768,  1.        ,  0.49800167,  0.8238437 ,  0.42912952,\n",
              "        -0.85354226,  0.0702581 ],\n",
              "       [-0.17131821,  0.49800167,  1.        ,  0.79163396,  0.93332522,\n",
              "        -0.64023817,  0.7645671 ],\n",
              "       [ 0.26555552,  0.8238437 ,  0.79163396,  1.        ,  0.80812215,\n",
              "        -0.89898837,  0.32646845],\n",
              "       [-0.1022789 ,  0.42912952,  0.93332522,  0.80812215,  1.        ,\n",
              "        -0.62017634,  0.6719575 ],\n",
              "       [-0.59180165, -0.85354226, -0.64023817, -0.89898837, -0.62017634,\n",
              "         1.        , -0.02348458],\n",
              "       [-0.76444054,  0.0702581 ,  0.7645671 ,  0.32646845,  0.6719575 ,\n",
              "        -0.02348458,  1.        ]])"
            ]
          },
          "metadata": {
            "tags": []
          },
          "execution_count": 69
        }
      ]
    },
    {
      "cell_type": "code",
      "metadata": {
        "id": "3dFByR7h2Pif"
      },
      "source": [
        "for i in range(corr.shape[0]):\n",
        "    for j in range(corr.shape[1]):\n",
        "        if (i !=j) and (corr[i,j] == 1.):\n",
        "            print(f'row = {i} column = {j} corrcoef = {corr[i,j]}') #เนื่องจากไม่มีค่าที่ซ้ำกันเลย จึงรันแล้วไม่พบแล้วไม่พบอะไร"
      ],
      "execution_count": 70,
      "outputs": []
    },
    {
      "cell_type": "markdown",
      "metadata": {
        "id": "pb-y8tmc2aL7"
      },
      "source": [
        "###ไม่มีค่าที่ซ้ำกัน"
      ]
    },
    {
      "cell_type": "markdown",
      "metadata": {
        "id": "uyLIC_ly2gfz"
      },
      "source": [
        "สามารถสร้างตารางใหม่แล้วลบ column ที่ไม่ใช่ตัวเลขออก"
      ]
    },
    {
      "cell_type": "code",
      "metadata": {
        "colab": {
          "base_uri": "https://localhost:8080/",
          "height": 402
        },
        "id": "Z-JD_cwc2Sw6",
        "outputId": "8aa3490c-fa56-42d8-b79c-8fa22b0d9dc9"
      },
      "source": [
        "data_dropped = data.drop(['brand','id'], axis=1) #ลบ column brand และ id ออกจากตาราง\n",
        "data_dropped"
      ],
      "execution_count": 71,
      "outputs": [
        {
          "output_type": "execute_result",
          "data": {
            "text/html": [
              "<div>\n",
              "<style scoped>\n",
              "    .dataframe tbody tr th:only-of-type {\n",
              "        vertical-align: middle;\n",
              "    }\n",
              "\n",
              "    .dataframe tbody tr th {\n",
              "        vertical-align: top;\n",
              "    }\n",
              "\n",
              "    .dataframe thead th {\n",
              "        text-align: right;\n",
              "    }\n",
              "</style>\n",
              "<table border=\"1\" class=\"dataframe\">\n",
              "  <thead>\n",
              "    <tr style=\"text-align: right;\">\n",
              "      <th></th>\n",
              "      <th>mois</th>\n",
              "      <th>prot</th>\n",
              "      <th>fat</th>\n",
              "      <th>ash</th>\n",
              "      <th>sodium</th>\n",
              "      <th>carb</th>\n",
              "      <th>cal</th>\n",
              "    </tr>\n",
              "  </thead>\n",
              "  <tbody>\n",
              "    <tr>\n",
              "      <th>0</th>\n",
              "      <td>27.82</td>\n",
              "      <td>21.43</td>\n",
              "      <td>44.87</td>\n",
              "      <td>5.11</td>\n",
              "      <td>1.77</td>\n",
              "      <td>0.77</td>\n",
              "      <td>4.93</td>\n",
              "    </tr>\n",
              "    <tr>\n",
              "      <th>1</th>\n",
              "      <td>28.49</td>\n",
              "      <td>21.26</td>\n",
              "      <td>43.89</td>\n",
              "      <td>5.34</td>\n",
              "      <td>1.79</td>\n",
              "      <td>1.02</td>\n",
              "      <td>4.84</td>\n",
              "    </tr>\n",
              "    <tr>\n",
              "      <th>2</th>\n",
              "      <td>28.35</td>\n",
              "      <td>19.99</td>\n",
              "      <td>45.78</td>\n",
              "      <td>5.08</td>\n",
              "      <td>1.63</td>\n",
              "      <td>0.80</td>\n",
              "      <td>4.95</td>\n",
              "    </tr>\n",
              "    <tr>\n",
              "      <th>3</th>\n",
              "      <td>30.55</td>\n",
              "      <td>20.15</td>\n",
              "      <td>43.13</td>\n",
              "      <td>4.79</td>\n",
              "      <td>1.61</td>\n",
              "      <td>1.38</td>\n",
              "      <td>4.74</td>\n",
              "    </tr>\n",
              "    <tr>\n",
              "      <th>4</th>\n",
              "      <td>30.49</td>\n",
              "      <td>21.28</td>\n",
              "      <td>41.65</td>\n",
              "      <td>4.82</td>\n",
              "      <td>1.64</td>\n",
              "      <td>1.76</td>\n",
              "      <td>4.67</td>\n",
              "    </tr>\n",
              "    <tr>\n",
              "      <th>...</th>\n",
              "      <td>...</td>\n",
              "      <td>...</td>\n",
              "      <td>...</td>\n",
              "      <td>...</td>\n",
              "      <td>...</td>\n",
              "      <td>...</td>\n",
              "      <td>...</td>\n",
              "    </tr>\n",
              "    <tr>\n",
              "      <th>295</th>\n",
              "      <td>44.91</td>\n",
              "      <td>11.07</td>\n",
              "      <td>17.00</td>\n",
              "      <td>2.49</td>\n",
              "      <td>0.66</td>\n",
              "      <td>25.36</td>\n",
              "      <td>2.91</td>\n",
              "    </tr>\n",
              "    <tr>\n",
              "      <th>296</th>\n",
              "      <td>43.15</td>\n",
              "      <td>11.79</td>\n",
              "      <td>18.46</td>\n",
              "      <td>2.43</td>\n",
              "      <td>0.67</td>\n",
              "      <td>24.17</td>\n",
              "      <td>3.10</td>\n",
              "    </tr>\n",
              "    <tr>\n",
              "      <th>297</th>\n",
              "      <td>44.55</td>\n",
              "      <td>11.01</td>\n",
              "      <td>16.03</td>\n",
              "      <td>2.43</td>\n",
              "      <td>0.64</td>\n",
              "      <td>25.98</td>\n",
              "      <td>2.92</td>\n",
              "    </tr>\n",
              "    <tr>\n",
              "      <th>298</th>\n",
              "      <td>47.60</td>\n",
              "      <td>10.43</td>\n",
              "      <td>15.18</td>\n",
              "      <td>2.32</td>\n",
              "      <td>0.56</td>\n",
              "      <td>24.47</td>\n",
              "      <td>2.76</td>\n",
              "    </tr>\n",
              "    <tr>\n",
              "      <th>299</th>\n",
              "      <td>46.84</td>\n",
              "      <td>9.91</td>\n",
              "      <td>15.50</td>\n",
              "      <td>2.27</td>\n",
              "      <td>0.57</td>\n",
              "      <td>25.48</td>\n",
              "      <td>2.81</td>\n",
              "    </tr>\n",
              "  </tbody>\n",
              "</table>\n",
              "<p>300 rows × 7 columns</p>\n",
              "</div>"
            ],
            "text/plain": [
              "      mois   prot    fat   ash  sodium   carb   cal\n",
              "0    27.82  21.43  44.87  5.11    1.77   0.77  4.93\n",
              "1    28.49  21.26  43.89  5.34    1.79   1.02  4.84\n",
              "2    28.35  19.99  45.78  5.08    1.63   0.80  4.95\n",
              "3    30.55  20.15  43.13  4.79    1.61   1.38  4.74\n",
              "4    30.49  21.28  41.65  4.82    1.64   1.76  4.67\n",
              "..     ...    ...    ...   ...     ...    ...   ...\n",
              "295  44.91  11.07  17.00  2.49    0.66  25.36  2.91\n",
              "296  43.15  11.79  18.46  2.43    0.67  24.17  3.10\n",
              "297  44.55  11.01  16.03  2.43    0.64  25.98  2.92\n",
              "298  47.60  10.43  15.18  2.32    0.56  24.47  2.76\n",
              "299  46.84   9.91  15.50  2.27    0.57  25.48  2.81\n",
              "\n",
              "[300 rows x 7 columns]"
            ]
          },
          "metadata": {
            "tags": []
          },
          "execution_count": 71
        }
      ]
    },
    {
      "cell_type": "code",
      "metadata": {
        "colab": {
          "base_uri": "https://localhost:8080/",
          "height": 402
        },
        "id": "uXH9OeC12ndz",
        "outputId": "d2b8fccd-f7eb-4cfc-9d76-4bd51894a301"
      },
      "source": [
        "data_dropped2 = data.drop(['id'], axis=1) #ลบแค่ column id เพราะต้องเอา brand แต่ละ brand มาเปรียบเทียบในกราฟ\n",
        "data_dropped2"
      ],
      "execution_count": 72,
      "outputs": [
        {
          "output_type": "execute_result",
          "data": {
            "text/html": [
              "<div>\n",
              "<style scoped>\n",
              "    .dataframe tbody tr th:only-of-type {\n",
              "        vertical-align: middle;\n",
              "    }\n",
              "\n",
              "    .dataframe tbody tr th {\n",
              "        vertical-align: top;\n",
              "    }\n",
              "\n",
              "    .dataframe thead th {\n",
              "        text-align: right;\n",
              "    }\n",
              "</style>\n",
              "<table border=\"1\" class=\"dataframe\">\n",
              "  <thead>\n",
              "    <tr style=\"text-align: right;\">\n",
              "      <th></th>\n",
              "      <th>brand</th>\n",
              "      <th>mois</th>\n",
              "      <th>prot</th>\n",
              "      <th>fat</th>\n",
              "      <th>ash</th>\n",
              "      <th>sodium</th>\n",
              "      <th>carb</th>\n",
              "      <th>cal</th>\n",
              "    </tr>\n",
              "  </thead>\n",
              "  <tbody>\n",
              "    <tr>\n",
              "      <th>0</th>\n",
              "      <td>A</td>\n",
              "      <td>27.82</td>\n",
              "      <td>21.43</td>\n",
              "      <td>44.87</td>\n",
              "      <td>5.11</td>\n",
              "      <td>1.77</td>\n",
              "      <td>0.77</td>\n",
              "      <td>4.93</td>\n",
              "    </tr>\n",
              "    <tr>\n",
              "      <th>1</th>\n",
              "      <td>A</td>\n",
              "      <td>28.49</td>\n",
              "      <td>21.26</td>\n",
              "      <td>43.89</td>\n",
              "      <td>5.34</td>\n",
              "      <td>1.79</td>\n",
              "      <td>1.02</td>\n",
              "      <td>4.84</td>\n",
              "    </tr>\n",
              "    <tr>\n",
              "      <th>2</th>\n",
              "      <td>A</td>\n",
              "      <td>28.35</td>\n",
              "      <td>19.99</td>\n",
              "      <td>45.78</td>\n",
              "      <td>5.08</td>\n",
              "      <td>1.63</td>\n",
              "      <td>0.80</td>\n",
              "      <td>4.95</td>\n",
              "    </tr>\n",
              "    <tr>\n",
              "      <th>3</th>\n",
              "      <td>A</td>\n",
              "      <td>30.55</td>\n",
              "      <td>20.15</td>\n",
              "      <td>43.13</td>\n",
              "      <td>4.79</td>\n",
              "      <td>1.61</td>\n",
              "      <td>1.38</td>\n",
              "      <td>4.74</td>\n",
              "    </tr>\n",
              "    <tr>\n",
              "      <th>4</th>\n",
              "      <td>A</td>\n",
              "      <td>30.49</td>\n",
              "      <td>21.28</td>\n",
              "      <td>41.65</td>\n",
              "      <td>4.82</td>\n",
              "      <td>1.64</td>\n",
              "      <td>1.76</td>\n",
              "      <td>4.67</td>\n",
              "    </tr>\n",
              "    <tr>\n",
              "      <th>...</th>\n",
              "      <td>...</td>\n",
              "      <td>...</td>\n",
              "      <td>...</td>\n",
              "      <td>...</td>\n",
              "      <td>...</td>\n",
              "      <td>...</td>\n",
              "      <td>...</td>\n",
              "      <td>...</td>\n",
              "    </tr>\n",
              "    <tr>\n",
              "      <th>295</th>\n",
              "      <td>J</td>\n",
              "      <td>44.91</td>\n",
              "      <td>11.07</td>\n",
              "      <td>17.00</td>\n",
              "      <td>2.49</td>\n",
              "      <td>0.66</td>\n",
              "      <td>25.36</td>\n",
              "      <td>2.91</td>\n",
              "    </tr>\n",
              "    <tr>\n",
              "      <th>296</th>\n",
              "      <td>J</td>\n",
              "      <td>43.15</td>\n",
              "      <td>11.79</td>\n",
              "      <td>18.46</td>\n",
              "      <td>2.43</td>\n",
              "      <td>0.67</td>\n",
              "      <td>24.17</td>\n",
              "      <td>3.10</td>\n",
              "    </tr>\n",
              "    <tr>\n",
              "      <th>297</th>\n",
              "      <td>J</td>\n",
              "      <td>44.55</td>\n",
              "      <td>11.01</td>\n",
              "      <td>16.03</td>\n",
              "      <td>2.43</td>\n",
              "      <td>0.64</td>\n",
              "      <td>25.98</td>\n",
              "      <td>2.92</td>\n",
              "    </tr>\n",
              "    <tr>\n",
              "      <th>298</th>\n",
              "      <td>J</td>\n",
              "      <td>47.60</td>\n",
              "      <td>10.43</td>\n",
              "      <td>15.18</td>\n",
              "      <td>2.32</td>\n",
              "      <td>0.56</td>\n",
              "      <td>24.47</td>\n",
              "      <td>2.76</td>\n",
              "    </tr>\n",
              "    <tr>\n",
              "      <th>299</th>\n",
              "      <td>J</td>\n",
              "      <td>46.84</td>\n",
              "      <td>9.91</td>\n",
              "      <td>15.50</td>\n",
              "      <td>2.27</td>\n",
              "      <td>0.57</td>\n",
              "      <td>25.48</td>\n",
              "      <td>2.81</td>\n",
              "    </tr>\n",
              "  </tbody>\n",
              "</table>\n",
              "<p>300 rows × 8 columns</p>\n",
              "</div>"
            ],
            "text/plain": [
              "    brand   mois   prot    fat   ash  sodium   carb   cal\n",
              "0       A  27.82  21.43  44.87  5.11    1.77   0.77  4.93\n",
              "1       A  28.49  21.26  43.89  5.34    1.79   1.02  4.84\n",
              "2       A  28.35  19.99  45.78  5.08    1.63   0.80  4.95\n",
              "3       A  30.55  20.15  43.13  4.79    1.61   1.38  4.74\n",
              "4       A  30.49  21.28  41.65  4.82    1.64   1.76  4.67\n",
              "..    ...    ...    ...    ...   ...     ...    ...   ...\n",
              "295     J  44.91  11.07  17.00  2.49    0.66  25.36  2.91\n",
              "296     J  43.15  11.79  18.46  2.43    0.67  24.17  3.10\n",
              "297     J  44.55  11.01  16.03  2.43    0.64  25.98  2.92\n",
              "298     J  47.60  10.43  15.18  2.32    0.56  24.47  2.76\n",
              "299     J  46.84   9.91  15.50  2.27    0.57  25.48  2.81\n",
              "\n",
              "[300 rows x 8 columns]"
            ]
          },
          "metadata": {
            "tags": []
          },
          "execution_count": 72
        }
      ]
    },
    {
      "cell_type": "markdown",
      "metadata": {
        "id": "Jk4px5NC2ugI"
      },
      "source": [
        "###ทดลอง plot กราฟ"
      ]
    },
    {
      "cell_type": "code",
      "metadata": {
        "colab": {
          "base_uri": "https://localhost:8080/",
          "height": 286
        },
        "id": "twZig27S2sEE",
        "outputId": "d3c86bba-7651-418e-c75c-0cab48daf35d"
      },
      "source": [
        "pd.plotting.parallel_coordinates(data_dropped2, 'brand', cols=['mois', 'prot',\t'fat',\t'ash',\t'sodium', 'carb', 'cal']) #พลอตกราฟสารอาหารของ brand ตั้งแต่ brand A-J"
      ],
      "execution_count": 73,
      "outputs": [
        {
          "output_type": "execute_result",
          "data": {
            "text/plain": [
              "<matplotlib.axes._subplots.AxesSubplot at 0x7efd2393b350>"
            ]
          },
          "metadata": {
            "tags": []
          },
          "execution_count": 73
        },
        {
          "output_type": "display_data",
          "data": {
            "image/png": "[encoded data removed]",
            "text/plain": [
              "<Figure size 432x288 with 1 Axes>"
            ]
          },
          "metadata": {
            "tags": [],
            "needs_background": "light"
          }
        }
      ]
    },
    {
      "cell_type": "markdown",
      "metadata": {
        "id": "5xGhXimJ23zZ"
      },
      "source": [
        "###ทำ PCA เพื่อลดจำนวน Dimension ของข้อมูล"
      ]
    },
    {
      "cell_type": "markdown",
      "metadata": {
        "id": "wULctUdr269A"
      },
      "source": [
        "##Import"
      ]
    },
    {
      "cell_type": "code",
      "metadata": {
        "id": "U54U9M992zS_"
      },
      "source": [
        "from sklearn.decomposition import PCA"
      ],
      "execution_count": 74,
      "outputs": []
    },
    {
      "cell_type": "markdown",
      "metadata": {
        "id": "n3F2C2sX3CwA"
      },
      "source": [
        "###Define"
      ]
    },
    {
      "cell_type": "code",
      "metadata": {
        "id": "MQj0G_DP3AAi"
      },
      "source": [
        "pca = PCA(n_components=2)"
      ],
      "execution_count": 75,
      "outputs": []
    },
    {
      "cell_type": "markdown",
      "metadata": {
        "id": "moTD0-kV3KiM"
      },
      "source": [
        "##Fit - Transform"
      ]
    },
    {
      "cell_type": "code",
      "metadata": {
        "id": "uFb-pluK3IJb"
      },
      "source": [
        "new_pca = pca.fit_transform(data_dropped.to_numpy())"
      ],
      "execution_count": 76,
      "outputs": []
    },
    {
      "cell_type": "code",
      "metadata": {
        "colab": {
          "base_uri": "https://localhost:8080/"
        },
        "id": "Sc5_pdI73N_e",
        "outputId": "b1c6bd9e-eec7-4bf4-b1f6-3abf9f4f2824"
      },
      "source": [
        "new_pca.shape"
      ],
      "execution_count": 77,
      "outputs": [
        {
          "output_type": "execute_result",
          "data": {
            "text/plain": [
              "(300, 2)"
            ]
          },
          "metadata": {
            "tags": []
          },
          "execution_count": 77
        }
      ]
    },
    {
      "cell_type": "code",
      "metadata": {
        "colab": {
          "base_uri": "https://localhost:8080/"
        },
        "id": "meL8nOVN3QO2",
        "outputId": "a29b12fb-7631-4343-f135-023af3589fcf"
      },
      "source": [
        "new_pca"
      ],
      "execution_count": 78,
      "outputs": [
        {
          "output_type": "execute_result",
          "data": {
            "text/plain": [
              "array([[-2.49517479e+01,  2.68116678e+01],\n",
              "       [-2.46119758e+01,  2.56595634e+01],\n",
              "       [-2.49384190e+01,  2.69305710e+01],\n",
              "       [-2.43255609e+01,  2.35235671e+01],\n",
              "       [-2.38660483e+01,  2.26528128e+01],\n",
              "       [-2.42716473e+01,  2.25496261e+01],\n",
              "       [-2.38806695e+01,  2.18852969e+01],\n",
              "       [-2.23894923e+01,  2.39358506e+01],\n",
              "       [-2.45074215e+01,  2.66033180e+01],\n",
              "       [-2.50928469e+01,  2.71508163e+01],\n",
              "       [-2.48185674e+01,  2.76159021e+01],\n",
              "       [-2.39395254e+01,  2.75274080e+01],\n",
              "       [-2.44496724e+01,  2.62221990e+01],\n",
              "       [-2.28480039e+01,  2.27702098e+01],\n",
              "       [-2.42812192e+01,  2.25656557e+01],\n",
              "       [-2.38786302e+01,  2.39995991e+01],\n",
              "       [-2.32390338e+01,  1.96576785e+01],\n",
              "       [-2.36081213e+01,  1.88694931e+01],\n",
              "       [-2.34833228e+01,  2.08403006e+01],\n",
              "       [-2.30861647e+01,  2.25687679e+01],\n",
              "       [-2.44317537e+01,  2.88343106e+01],\n",
              "       [-2.39812139e+01,  2.72251577e+01],\n",
              "       [-2.43513670e+01,  2.27327854e+01],\n",
              "       [-2.53764539e+01,  2.24254699e+01],\n",
              "       [-2.39263676e+01,  2.06186152e+01],\n",
              "       [-2.50106762e+01,  2.43045929e+01],\n",
              "       [-2.46570853e+01,  2.60988032e+01],\n",
              "       [-2.35755404e+01,  2.41153607e+01],\n",
              "       [-2.48604556e+01,  2.44476323e+01],\n",
              "       [-2.15427319e+01, -4.58711332e-01],\n",
              "       [-2.16994084e+01, -4.98326537e+00],\n",
              "       [-2.11494557e+01,  1.14763399e+00],\n",
              "       [-2.15065300e+01, -1.37353875e+00],\n",
              "       [-2.06383104e+01, -2.24960085e+00],\n",
              "       [-2.16835903e+01, -7.11650812e-01],\n",
              "       [-2.29070952e+01, -8.23020789e-01],\n",
              "       [-2.20965019e+01, -8.98589812e-01],\n",
              "       [-2.13622949e+01, -6.41579208e+00],\n",
              "       [-2.02991102e+01, -4.91523942e+00],\n",
              "       [-2.27382626e+01, -8.99446902e-01],\n",
              "       [-2.20054774e+01, -2.17274524e-01],\n",
              "       [-2.18165714e+01, -2.72070101e+00],\n",
              "       [-2.10334435e+01, -7.45482124e-01],\n",
              "       [-2.09710361e+01, -8.51120732e+00],\n",
              "       [-2.06744794e+01, -9.30845806e+00],\n",
              "       [-2.19920631e+01, -6.59486373e+00],\n",
              "       [-2.18636272e+01,  4.30319256e-02],\n",
              "       [-2.19275374e+01, -1.47863134e+00],\n",
              "       [-2.02119041e+01, -5.56179139e+00],\n",
              "       [-2.12515310e+01, -9.30383142e-01],\n",
              "       [-2.12776748e+01, -2.80321109e-01],\n",
              "       [-2.08921540e+01, -7.40738319e-02],\n",
              "       [-2.16454505e+01, -2.36582465e+00],\n",
              "       [-2.18133895e+01, -2.53445151e+00],\n",
              "       [-2.17334976e+01, -6.62838699e+00],\n",
              "       [-2.21495715e+01, -3.79890331e+00],\n",
              "       [-2.27887430e+01, -2.93896235e+00],\n",
              "       [-2.29033020e+01, -2.43458458e+00],\n",
              "       [-2.26076889e+01, -2.40000860e+00],\n",
              "       [-2.21228053e+01, -2.60295863e+00],\n",
              "       [-2.52831501e+01, -3.96111505e+00],\n",
              "       [-2.38208485e+01, -6.71325777e+00],\n",
              "       [-2.41028402e+01, -4.72030481e+00],\n",
              "       [-2.30455579e+01, -5.82329294e+00],\n",
              "       [-2.52900220e+01, -3.12179790e+00],\n",
              "       [-2.38503842e+01, -5.96363596e+00],\n",
              "       [-2.34518040e+01, -8.88861037e+00],\n",
              "       [-2.41113523e+01, -5.45904687e+00],\n",
              "       [-2.26933799e+01, -7.89663280e+00],\n",
              "       [-2.35713650e+01, -9.64076108e+00],\n",
              "       [-2.24336973e+01, -1.12349358e+01],\n",
              "       [-2.34636092e+01, -5.65309670e+00],\n",
              "       [-2.51094288e+01, -3.49078996e+00],\n",
              "       [-2.35533885e+01, -3.96387639e+00],\n",
              "       [-2.34118326e+01, -3.84107168e+00],\n",
              "       [-2.34190927e+01, -4.82055154e+00],\n",
              "       [-2.28553284e+01, -6.41093204e+00],\n",
              "       [-2.47785653e+01, -9.92209771e+00],\n",
              "       [-2.37283954e+01, -3.07299882e+00],\n",
              "       [-2.47433307e+01, -4.91008035e+00],\n",
              "       [-2.46436976e+01, -1.00722863e+01],\n",
              "       [-2.25360842e+01, -7.10416016e+00],\n",
              "       [-2.26183107e+01, -9.31429119e+00],\n",
              "       [-2.28856967e+01, -7.20082053e+00],\n",
              "       [-2.48651158e+01, -1.33941873e+00],\n",
              "       [-2.26661030e+01, -9.16349859e+00],\n",
              "       [-2.48783178e+01, -5.29530358e+00],\n",
              "       [-2.31079895e+01, -5.10485593e-01],\n",
              "       [-2.35082835e+01,  6.33380366e-01],\n",
              "       [-2.00800760e+01, -3.76281790e+00],\n",
              "       [-1.87458983e+01, -4.76559649e+00],\n",
              "       [-1.89998951e+01, -3.24065285e+00],\n",
              "       [-2.21799088e+01, -1.57729768e+00],\n",
              "       [-1.91829329e+01, -3.90545327e+00],\n",
              "       [-2.01146223e+01, -4.25885928e+00],\n",
              "       [-2.37170103e+01, -7.02440213e+00],\n",
              "       [-2.00415803e+01, -3.31496586e+00],\n",
              "       [-1.96565023e+01, -3.19866950e+00],\n",
              "       [-1.93274945e+01, -3.49954643e+00],\n",
              "       [-1.87067589e+01, -5.01537402e+00],\n",
              "       [-2.29182544e+01, -3.72643344e+00],\n",
              "       [-2.19532100e+01, -3.60880783e+00],\n",
              "       [-2.27898665e+01, -4.34069645e+00],\n",
              "       [-1.98322476e+01, -3.71203244e+00],\n",
              "       [-1.91128809e+01, -4.29155826e+00],\n",
              "       [-1.99007584e+01, -4.47435699e+00],\n",
              "       [-1.95349528e+01, -4.17086657e+00],\n",
              "       [-2.00556457e+01, -3.74031088e+00],\n",
              "       [-1.97400269e+01, -4.38987751e+00],\n",
              "       [-1.96313486e+01, -5.32949202e+00],\n",
              "       [-2.26815705e+01, -3.76317673e-02],\n",
              "       [-1.90831022e+01, -6.27342413e+00],\n",
              "       [-2.46156239e+01, -4.07512113e+00],\n",
              "       [-1.97634588e+01, -4.47499150e+00],\n",
              "       [-2.33758539e+01,  8.06297287e-02],\n",
              "       [-2.40661046e+01,  4.49967471e-01],\n",
              "       [-2.36976363e+01, -3.58879261e-01],\n",
              "       [-2.26287062e+01, -5.82446164e-01],\n",
              "       [-2.47785653e+01, -9.92209771e+00],\n",
              "       [ 1.99481441e+01,  1.59514814e+00],\n",
              "       [ 1.59434603e+01,  4.94501871e-01],\n",
              "       [ 1.90811110e+01,  9.07102074e-01],\n",
              "       [ 2.65829310e+01, -9.66255845e+00],\n",
              "       [ 2.11561749e+01,  7.57411647e-01],\n",
              "       [ 2.66220343e+01, -9.96914472e+00],\n",
              "       [ 2.20355065e+01, -3.62962774e-01],\n",
              "       [ 1.33087600e+01, -1.77286876e+00],\n",
              "       [ 1.86547353e+01,  3.59721464e-02],\n",
              "       [ 1.78762857e+01, -2.15690211e-01],\n",
              "       [ 1.86491618e+01, -2.84049815e+00],\n",
              "       [ 2.11921274e+01, -4.98805474e-01],\n",
              "       [ 1.64727350e+01,  3.58476234e+00],\n",
              "       [ 1.75301924e+01,  4.81492970e+00],\n",
              "       [ 1.27156016e+01,  1.80270578e+00],\n",
              "       [ 1.88755214e+01, -2.37918283e+00],\n",
              "       [ 2.18249519e+01, -2.33932681e+00],\n",
              "       [ 1.27156016e+01,  1.80270578e+00],\n",
              "       [ 2.14675298e+01,  7.03462040e-01],\n",
              "       [ 1.86588952e+01, -9.22961439e-01],\n",
              "       [ 1.77498614e+01,  3.02387282e+00],\n",
              "       [ 1.70281510e+01,  1.84614166e+00],\n",
              "       [ 1.53354309e+01,  3.62580359e+00],\n",
              "       [ 1.74688373e+01,  4.45087434e+00],\n",
              "       [ 1.67202617e+01,  3.16527164e+00],\n",
              "       [ 2.58547126e+01, -5.80679394e+00],\n",
              "       [ 1.86491618e+01, -2.84049815e+00],\n",
              "       [ 2.24906804e+01,  1.40536877e-01],\n",
              "       [ 2.45789577e+01,  7.92085208e+00],\n",
              "       [ 2.56130209e+01,  4.25207201e+00],\n",
              "       [ 2.66628565e+01,  3.94552725e+00],\n",
              "       [ 1.95600799e+01,  7.75967776e+00],\n",
              "       [ 2.35801170e+01,  7.92437315e+00],\n",
              "       [ 2.56045676e+01,  3.88601257e+00],\n",
              "       [ 2.65675830e+01,  5.93126207e+00],\n",
              "       [ 2.62275622e+01,  2.46382094e+00],\n",
              "       [ 2.64451465e+01,  4.06319169e+00],\n",
              "       [ 2.46954035e+01,  4.67950353e+00],\n",
              "       [ 2.09161164e+01,  7.10522130e+00],\n",
              "       [ 2.66168619e+01,  4.59166933e+00],\n",
              "       [ 2.19514976e+01,  7.92196640e+00],\n",
              "       [ 2.59918395e+01,  4.34373584e+00],\n",
              "       [ 2.65923141e+01,  7.46920818e+00],\n",
              "       [ 2.46477927e+01,  7.41512302e+00],\n",
              "       [ 2.10165990e+01,  8.25609343e+00],\n",
              "       [ 2.68488103e+01,  3.90349027e+00],\n",
              "       [ 2.55565295e+01,  7.41979934e+00],\n",
              "       [ 2.61880449e+01,  3.26711635e+00],\n",
              "       [ 2.72927038e+01,  2.32991066e+00],\n",
              "       [ 2.88164899e+01,  2.25704367e+00],\n",
              "       [ 2.51541622e+01,  5.62642882e+00],\n",
              "       [ 2.56923960e+01,  4.90064390e+00],\n",
              "       [ 2.42786807e+01,  6.78525671e+00],\n",
              "       [ 2.54614530e+01,  6.06731834e+00],\n",
              "       [ 2.48483698e+01,  6.53988541e+00],\n",
              "       [ 2.42143238e+01,  7.76288400e+00],\n",
              "       [ 2.32657128e+01,  8.27045521e+00],\n",
              "       [ 2.58324044e+01,  2.95980401e+00],\n",
              "       [ 2.72904281e+01,  5.89836060e+00],\n",
              "       [ 2.77511555e+01,  5.37945467e+00],\n",
              "       [ 2.64607510e+01,  2.69109388e+00],\n",
              "       [ 2.76618664e+01,  5.55752413e+00],\n",
              "       [ 2.11280598e+01,  8.49779725e+00],\n",
              "       [ 2.59589518e+01,  6.62604426e+00],\n",
              "       [ 2.58807438e+01,  5.92310689e+00],\n",
              "       [ 2.74321134e+01,  6.34829988e+00],\n",
              "       [ 2.63218220e+01,  6.62133634e+00],\n",
              "       [ 2.63220236e+01,  6.41482116e+00],\n",
              "       [ 2.86944621e+01,  5.02933673e+00],\n",
              "       [ 2.80211216e+01,  5.04358533e+00],\n",
              "       [ 2.67429946e+01,  5.41397759e+00],\n",
              "       [ 2.59450912e+01, -5.17697061e-02],\n",
              "       [ 2.43614777e+01,  1.02633640e+01],\n",
              "       [ 2.81478309e+01,  6.38914601e+00],\n",
              "       [ 2.88371800e+01,  5.80554237e+00],\n",
              "       [ 2.81653643e+01,  6.12997705e+00],\n",
              "       [ 2.22926210e+01,  5.30917771e+00],\n",
              "       [ 2.74586449e+01,  4.35169619e+00],\n",
              "       [ 2.45994139e+01,  6.84121901e+00],\n",
              "       [ 2.89241858e+01,  6.13957166e+00],\n",
              "       [ 2.92079202e+01,  4.55456946e+00],\n",
              "       [ 2.74131983e+01,  8.72801100e+00],\n",
              "       [ 2.68308678e+01,  8.81608479e+00],\n",
              "       [ 2.80645076e+01,  6.02691510e+00],\n",
              "       [ 2.89504722e+01,  9.20487570e+00],\n",
              "       [ 2.94926896e+01,  3.04570205e+00],\n",
              "       [ 2.62981837e+01,  5.90229279e+00],\n",
              "       [ 2.20692432e+01, -2.38636037e+00],\n",
              "       [ 1.53391718e+01,  3.13893896e+00],\n",
              "       [ 1.95834178e+01,  3.77327265e-01],\n",
              "       [ 2.82614594e+01, -5.77484131e+00],\n",
              "       [ 1.80916813e+01,  8.13848226e-01],\n",
              "       [ 1.78954439e+01,  8.93355351e-01],\n",
              "       [ 2.47741516e+01, -1.04351853e+01],\n",
              "       [ 1.83603090e+01,  9.93502377e-01],\n",
              "       [ 2.23337401e+01,  2.41971473e+00],\n",
              "       [ 2.17010737e+01,  1.37604718e+00],\n",
              "       [ 2.73855614e+01, -9.41328412e+00],\n",
              "       [ 1.85752746e+01,  3.94837701e+00],\n",
              "       [ 1.77426304e+01, -4.95254191e-01],\n",
              "       [ 2.05094339e+01, -7.49758003e-01],\n",
              "       [ 2.06803514e+01, -2.30329006e+00],\n",
              "       [ 2.13094007e+01, -9.07208485e-01],\n",
              "       [ 1.87792866e+01, -1.18992289e+00],\n",
              "       [ 1.94081562e+01,  5.14077191e-01],\n",
              "       [ 2.08389764e+01,  1.85291352e+00],\n",
              "       [ 2.04907808e+01, -7.23875048e-01],\n",
              "       [ 2.03222198e+01, -5.50393018e-01],\n",
              "       [ 1.51904146e+01,  2.67302346e+00],\n",
              "       [ 1.69137748e+01,  8.42714610e-01],\n",
              "       [ 2.10531662e+01, -6.62343230e-01],\n",
              "       [ 1.78384367e+01,  7.39254013e-01],\n",
              "       [ 1.86828140e+01,  1.25133247e-01],\n",
              "       [ 1.53969040e+01,  1.27247262e+00],\n",
              "       [ 1.98579118e+01, -3.52668838e-01],\n",
              "       [ 2.14717817e+01, -2.12644536e+00],\n",
              "       [ 1.83436509e+01,  2.65028891e+00],\n",
              "       [ 2.47855116e+01, -4.52574155e+00],\n",
              "       [ 2.08097383e+01, -1.20452197e+00],\n",
              "       [ 2.03222198e+01, -5.50393018e-01],\n",
              "       [-3.53069709e+00, -1.53142158e+01],\n",
              "       [-3.40364270e+00, -1.48251043e+01],\n",
              "       [-2.50025861e+00, -1.46291890e+01],\n",
              "       [-4.66639518e+00, -1.42995090e+01],\n",
              "       [-2.83778203e+00, -1.30671706e+01],\n",
              "       [-2.81553941e+00, -1.66051382e+01],\n",
              "       [-2.00840025e+00, -1.75322885e+01],\n",
              "       [-5.16396262e+00, -1.63234142e+01],\n",
              "       [-1.56097414e+00, -1.56816580e+01],\n",
              "       [-5.91129421e+00, -1.30040679e+01],\n",
              "       [-4.50428016e+00, -1.47704132e+01],\n",
              "       [-3.80768643e+00, -1.35393013e+01],\n",
              "       [-4.31173696e+00, -1.59126907e+01],\n",
              "       [-5.03492900e+00, -1.49581014e+01],\n",
              "       [-3.91843834e+00, -1.62444362e+01],\n",
              "       [-4.82347451e+00, -1.54125061e+01],\n",
              "       [-2.49137306e+00, -1.54043907e+01],\n",
              "       [-2.96397114e+00, -1.56011692e+01],\n",
              "       [-2.39949081e+00, -1.54265453e+01],\n",
              "       [-1.84828516e+00, -1.38293610e+01],\n",
              "       [-4.69132546e+00, -1.49056254e+01],\n",
              "       [-4.61987423e+00, -1.43755824e+01],\n",
              "       [-3.73947183e+00, -1.50231570e+01],\n",
              "       [-3.80822725e+00, -1.44455203e+01],\n",
              "       [-3.30510628e+00, -1.85784367e+01],\n",
              "       [-4.44750611e+00, -1.50722915e+01],\n",
              "       [-3.00954677e+00, -1.47472593e+01],\n",
              "       [-2.54397466e+00, -1.45732226e+01],\n",
              "       [-3.58761278e+00, -1.58224815e+01],\n",
              "       [ 2.28213021e+00, -6.83226258e+00],\n",
              "       [ 3.89121211e+00, -4.80743187e+00],\n",
              "       [ 1.76785995e+00, -8.54653637e+00],\n",
              "       [ 2.91739830e+00, -7.80284611e+00],\n",
              "       [ 3.34922722e+00, -6.94623812e+00],\n",
              "       [ 2.56407945e+00, -9.15847496e+00],\n",
              "       [ 1.50073260e+00, -5.98582131e+00],\n",
              "       [ 9.06496263e-01, -6.72092307e+00],\n",
              "       [ 7.23721702e-01, -6.05875206e+00],\n",
              "       [ 4.60974207e-01, -8.76160938e+00],\n",
              "       [ 1.74955895e+00, -6.02640971e+00],\n",
              "       [ 4.31626850e+00, -8.21891254e+00],\n",
              "       [ 3.85449031e-01, -7.53518574e+00],\n",
              "       [ 1.40282905e+00, -6.96027578e+00],\n",
              "       [ 2.76418857e+00, -5.94148287e+00],\n",
              "       [ 2.37235205e+00, -8.14673363e+00],\n",
              "       [ 9.60516466e-01, -2.55086309e+00],\n",
              "       [ 3.58439103e-01, -7.89739518e+00],\n",
              "       [ 2.22955202e+00, -5.39133062e+00],\n",
              "       [ 3.73276312e+00, -5.80332629e+00],\n",
              "       [ 1.90412672e-02, -8.20343961e+00],\n",
              "       [ 2.69398836e+00, -6.25884824e+00],\n",
              "       [ 2.20912750e+00, -6.65152963e+00],\n",
              "       [ 1.86227922e+00, -8.18591709e+00],\n",
              "       [ 4.67243041e+00, -6.14345418e+00],\n",
              "       [ 7.64742721e-01, -5.93407997e+00],\n",
              "       [ 1.29895388e+00, -3.73518649e+00],\n",
              "       [ 2.60525659e+00, -5.29155608e+00],\n",
              "       [ 1.45145098e+00, -2.95857153e+00],\n",
              "       [ 3.53950061e+00, -5.67059035e+00],\n",
              "       [ 1.76785995e+00, -8.54653637e+00],\n",
              "       [ 2.91739830e+00, -7.80284611e+00]])"
            ]
          },
          "metadata": {
            "tags": []
          },
          "execution_count": 78
        }
      ]
    },
    {
      "cell_type": "markdown",
      "metadata": {
        "id": "NAjwtZPI3XlE"
      },
      "source": [
        "จากนั้นดูว่ามี Brand อะไรบ้าง"
      ]
    },
    {
      "cell_type": "code",
      "metadata": {
        "colab": {
          "base_uri": "https://localhost:8080/"
        },
        "id": "D3Cfnrnc3SsZ",
        "outputId": "93cc642c-2f58-4246-c9c9-63ef89050af0"
      },
      "source": [
        "BD = set(data['brand'])\n",
        "BD"
      ],
      "execution_count": 79,
      "outputs": [
        {
          "output_type": "execute_result",
          "data": {
            "text/plain": [
              "{'A', 'B', 'C', 'D', 'E', 'F', 'G', 'H', 'I', 'J'}"
            ]
          },
          "metadata": {
            "tags": []
          },
          "execution_count": 79
        }
      ]
    },
    {
      "cell_type": "markdown",
      "metadata": {
        "id": "aI4jWgNe3WqB"
      },
      "source": [
        "###สร้าง Dictionary เพื่อแทนค่าที่เป็น text ให้เป็นตัวเลข เพื่อจะได้ plot สีได้"
      ]
    },
    {
      "cell_type": "markdown",
      "metadata": {
        "id": "wTbEOiou3lkR"
      },
      "source": [
        "####สร้าง ​color list "
      ]
    },
    {
      "cell_type": "code",
      "metadata": {
        "id": "FkgTm9cs3jf9"
      },
      "source": [
        "BD_l = list(BD)  ### แปลงเป็น list\n",
        "BD_l.sort() ### เรียงค่า สมาชิกจากน้อยไปมาก\n",
        "color_list2 = {}\n",
        "num = 0\n",
        "for each_fg in BD_l:\n",
        "    if each_fg not in color_list2:\n",
        "        color_list2[each_fg] = num\n",
        "        num += 1"
      ],
      "execution_count": 80,
      "outputs": []
    },
    {
      "cell_type": "code",
      "metadata": {
        "colab": {
          "base_uri": "https://localhost:8080/"
        },
        "id": "o0YreEZu3snP",
        "outputId": "754e625c-d6fa-4f61-d5c1-c662fbc49a4a"
      },
      "source": [
        "color_list2"
      ],
      "execution_count": 81,
      "outputs": [
        {
          "output_type": "execute_result",
          "data": {
            "text/plain": [
              "{'A': 0,\n",
              " 'B': 1,\n",
              " 'C': 2,\n",
              " 'D': 3,\n",
              " 'E': 4,\n",
              " 'F': 5,\n",
              " 'G': 6,\n",
              " 'H': 7,\n",
              " 'I': 8,\n",
              " 'J': 9}"
            ]
          },
          "metadata": {
            "tags": []
          },
          "execution_count": 81
        }
      ]
    },
    {
      "cell_type": "markdown",
      "metadata": {
        "id": "my6o8MMm3yFc"
      },
      "source": [
        "###แทนค่า text ใน Dictionary ด้วยตัวเลขที่เรากำหนด"
      ]
    },
    {
      "cell_type": "code",
      "metadata": {
        "id": "VPgQFI2N3vSZ"
      },
      "source": [
        "data_dropped3 = data_dropped2.replace(color_list2)"
      ],
      "execution_count": 82,
      "outputs": []
    },
    {
      "cell_type": "code",
      "metadata": {
        "colab": {
          "base_uri": "https://localhost:8080/",
          "height": 402
        },
        "id": "ygTRL-Z535Bn",
        "outputId": "c7cd68d7-2e24-4047-9d9f-72642819a848"
      },
      "source": [
        "data_dropped3 #จากข้อมูลคอลัมน์ brand จะเปลี่ยนเป็น 9 ตัวเลขตั้งแต่ 0-9 นั่นคือนำตัวเลขที่เรากำหนดจาก color_list2 มาแทนตัวอักษรในตาราง"
      ],
      "execution_count": 83,
      "outputs": [
        {
          "output_type": "execute_result",
          "data": {
            "text/html": [
              "<div>\n",
              "<style scoped>\n",
              "    .dataframe tbody tr th:only-of-type {\n",
              "        vertical-align: middle;\n",
              "    }\n",
              "\n",
              "    .dataframe tbody tr th {\n",
              "        vertical-align: top;\n",
              "    }\n",
              "\n",
              "    .dataframe thead th {\n",
              "        text-align: right;\n",
              "    }\n",
              "</style>\n",
              "<table border=\"1\" class=\"dataframe\">\n",
              "  <thead>\n",
              "    <tr style=\"text-align: right;\">\n",
              "      <th></th>\n",
              "      <th>brand</th>\n",
              "      <th>mois</th>\n",
              "      <th>prot</th>\n",
              "      <th>fat</th>\n",
              "      <th>ash</th>\n",
              "      <th>sodium</th>\n",
              "      <th>carb</th>\n",
              "      <th>cal</th>\n",
              "    </tr>\n",
              "  </thead>\n",
              "  <tbody>\n",
              "    <tr>\n",
              "      <th>0</th>\n",
              "      <td>0</td>\n",
              "      <td>27.82</td>\n",
              "      <td>21.43</td>\n",
              "      <td>44.87</td>\n",
              "      <td>5.11</td>\n",
              "      <td>1.77</td>\n",
              "      <td>0.77</td>\n",
              "      <td>4.93</td>\n",
              "    </tr>\n",
              "    <tr>\n",
              "      <th>1</th>\n",
              "      <td>0</td>\n",
              "      <td>28.49</td>\n",
              "      <td>21.26</td>\n",
              "      <td>43.89</td>\n",
              "      <td>5.34</td>\n",
              "      <td>1.79</td>\n",
              "      <td>1.02</td>\n",
              "      <td>4.84</td>\n",
              "    </tr>\n",
              "    <tr>\n",
              "      <th>2</th>\n",
              "      <td>0</td>\n",
              "      <td>28.35</td>\n",
              "      <td>19.99</td>\n",
              "      <td>45.78</td>\n",
              "      <td>5.08</td>\n",
              "      <td>1.63</td>\n",
              "      <td>0.80</td>\n",
              "      <td>4.95</td>\n",
              "    </tr>\n",
              "    <tr>\n",
              "      <th>3</th>\n",
              "      <td>0</td>\n",
              "      <td>30.55</td>\n",
              "      <td>20.15</td>\n",
              "      <td>43.13</td>\n",
              "      <td>4.79</td>\n",
              "      <td>1.61</td>\n",
              "      <td>1.38</td>\n",
              "      <td>4.74</td>\n",
              "    </tr>\n",
              "    <tr>\n",
              "      <th>4</th>\n",
              "      <td>0</td>\n",
              "      <td>30.49</td>\n",
              "      <td>21.28</td>\n",
              "      <td>41.65</td>\n",
              "      <td>4.82</td>\n",
              "      <td>1.64</td>\n",
              "      <td>1.76</td>\n",
              "      <td>4.67</td>\n",
              "    </tr>\n",
              "    <tr>\n",
              "      <th>...</th>\n",
              "      <td>...</td>\n",
              "      <td>...</td>\n",
              "      <td>...</td>\n",
              "      <td>...</td>\n",
              "      <td>...</td>\n",
              "      <td>...</td>\n",
              "      <td>...</td>\n",
              "      <td>...</td>\n",
              "    </tr>\n",
              "    <tr>\n",
              "      <th>295</th>\n",
              "      <td>9</td>\n",
              "      <td>44.91</td>\n",
              "      <td>11.07</td>\n",
              "      <td>17.00</td>\n",
              "      <td>2.49</td>\n",
              "      <td>0.66</td>\n",
              "      <td>25.36</td>\n",
              "      <td>2.91</td>\n",
              "    </tr>\n",
              "    <tr>\n",
              "      <th>296</th>\n",
              "      <td>9</td>\n",
              "      <td>43.15</td>\n",
              "      <td>11.79</td>\n",
              "      <td>18.46</td>\n",
              "      <td>2.43</td>\n",
              "      <td>0.67</td>\n",
              "      <td>24.17</td>\n",
              "      <td>3.10</td>\n",
              "    </tr>\n",
              "    <tr>\n",
              "      <th>297</th>\n",
              "      <td>9</td>\n",
              "      <td>44.55</td>\n",
              "      <td>11.01</td>\n",
              "      <td>16.03</td>\n",
              "      <td>2.43</td>\n",
              "      <td>0.64</td>\n",
              "      <td>25.98</td>\n",
              "      <td>2.92</td>\n",
              "    </tr>\n",
              "    <tr>\n",
              "      <th>298</th>\n",
              "      <td>9</td>\n",
              "      <td>47.60</td>\n",
              "      <td>10.43</td>\n",
              "      <td>15.18</td>\n",
              "      <td>2.32</td>\n",
              "      <td>0.56</td>\n",
              "      <td>24.47</td>\n",
              "      <td>2.76</td>\n",
              "    </tr>\n",
              "    <tr>\n",
              "      <th>299</th>\n",
              "      <td>9</td>\n",
              "      <td>46.84</td>\n",
              "      <td>9.91</td>\n",
              "      <td>15.50</td>\n",
              "      <td>2.27</td>\n",
              "      <td>0.57</td>\n",
              "      <td>25.48</td>\n",
              "      <td>2.81</td>\n",
              "    </tr>\n",
              "  </tbody>\n",
              "</table>\n",
              "<p>300 rows × 8 columns</p>\n",
              "</div>"
            ],
            "text/plain": [
              "     brand   mois   prot    fat   ash  sodium   carb   cal\n",
              "0        0  27.82  21.43  44.87  5.11    1.77   0.77  4.93\n",
              "1        0  28.49  21.26  43.89  5.34    1.79   1.02  4.84\n",
              "2        0  28.35  19.99  45.78  5.08    1.63   0.80  4.95\n",
              "3        0  30.55  20.15  43.13  4.79    1.61   1.38  4.74\n",
              "4        0  30.49  21.28  41.65  4.82    1.64   1.76  4.67\n",
              "..     ...    ...    ...    ...   ...     ...    ...   ...\n",
              "295      9  44.91  11.07  17.00  2.49    0.66  25.36  2.91\n",
              "296      9  43.15  11.79  18.46  2.43    0.67  24.17  3.10\n",
              "297      9  44.55  11.01  16.03  2.43    0.64  25.98  2.92\n",
              "298      9  47.60  10.43  15.18  2.32    0.56  24.47  2.76\n",
              "299      9  46.84   9.91  15.50  2.27    0.57  25.48  2.81\n",
              "\n",
              "[300 rows x 8 columns]"
            ]
          },
          "metadata": {
            "tags": []
          },
          "execution_count": 83
        }
      ]
    },
    {
      "cell_type": "code",
      "metadata": {
        "id": "NU1WMEYE373V"
      },
      "source": [
        "from matplotlib import pyplot as plt #เอาไว้เรียกใช้ plt"
      ],
      "execution_count": 84,
      "outputs": []
    },
    {
      "cell_type": "markdown",
      "metadata": {
        "id": "voSgGnKR4D7e"
      },
      "source": [
        "###Plot กราฟ Scatter"
      ]
    },
    {
      "cell_type": "code",
      "metadata": {
        "colab": {
          "base_uri": "https://localhost:8080/",
          "height": 282
        },
        "id": "yA5e_BT54Av7",
        "outputId": "73ff2780-3c8f-4713-d1ba-287a179925cb"
      },
      "source": [
        "plt.scatter(new_pca[:,0],new_pca[:,1],c = data_dropped3['brand']) #วาดแผนภาพแบบกระจาย"
      ],
      "execution_count": 85,
      "outputs": [
        {
          "output_type": "execute_result",
          "data": {
            "text/plain": [
              "<matplotlib.collections.PathCollection at 0x7efd2344c8d0>"
            ]
          },
          "metadata": {
            "tags": []
          },
          "execution_count": 85
        },
        {
          "output_type": "display_data",
          "data": {
            "image/png": "[encoded data removed]",
            "text/plain": [
              "<Figure size 432x288 with 1 Axes>"
            ]
          },
          "metadata": {
            "tags": [],
            "needs_background": "light"
          }
        }
      ]
    },
    {
      "cell_type": "code",
      "metadata": {
        "colab": {
          "base_uri": "https://localhost:8080/",
          "height": 282
        },
        "id": "K3Fp-UD24vB5",
        "outputId": "85a5623e-0bf8-4361-b9a4-c761c5e58402"
      },
      "source": [
        "plt.scatter(new_pca[:,0],new_pca[:,1],c = data_dropped3['brand'],alpha=0.5) #alpha คือความโปร่งใส"
      ],
      "execution_count": 86,
      "outputs": [
        {
          "output_type": "execute_result",
          "data": {
            "text/plain": [
              "<matplotlib.collections.PathCollection at 0x7efd233d25d0>"
            ]
          },
          "metadata": {
            "tags": []
          },
          "execution_count": 86
        },
        {
          "output_type": "display_data",
          "data": {
            "image/png": "[encoded data removed]",
            "text/plain": [
              "<Figure size 432x288 with 1 Axes>"
            ]
          },
          "metadata": {
            "tags": [],
            "needs_background": "light"
          }
        }
      ]
    },
    {
      "cell_type": "markdown",
      "metadata": {
        "id": "EV-BDkzL5Aun"
      },
      "source": [
        "###ทดลอง เปรียบเทียบค่าสารอาหารbrand B และ D"
      ]
    },
    {
      "cell_type": "code",
      "metadata": {
        "colab": {
          "base_uri": "https://localhost:8080/",
          "height": 402
        },
        "id": "d8zAUJOq40UR",
        "outputId": "09a5d379-eedc-48bb-eeab-72ce3856cd4d"
      },
      "source": [
        "bb = data_dropped3[(data_dropped3['brand']==1) | (data_dropped3['brand']==3)]  ## ใช้  | และ  &  แทน  or  และ  and  ใน pandas\n",
        "bb"
      ],
      "execution_count": 87,
      "outputs": [
        {
          "output_type": "execute_result",
          "data": {
            "text/html": [
              "<div>\n",
              "<style scoped>\n",
              "    .dataframe tbody tr th:only-of-type {\n",
              "        vertical-align: middle;\n",
              "    }\n",
              "\n",
              "    .dataframe tbody tr th {\n",
              "        vertical-align: top;\n",
              "    }\n",
              "\n",
              "    .dataframe thead th {\n",
              "        text-align: right;\n",
              "    }\n",
              "</style>\n",
              "<table border=\"1\" class=\"dataframe\">\n",
              "  <thead>\n",
              "    <tr style=\"text-align: right;\">\n",
              "      <th></th>\n",
              "      <th>brand</th>\n",
              "      <th>mois</th>\n",
              "      <th>prot</th>\n",
              "      <th>fat</th>\n",
              "      <th>ash</th>\n",
              "      <th>sodium</th>\n",
              "      <th>carb</th>\n",
              "      <th>cal</th>\n",
              "    </tr>\n",
              "  </thead>\n",
              "  <tbody>\n",
              "    <tr>\n",
              "      <th>29</th>\n",
              "      <td>1</td>\n",
              "      <td>49.57</td>\n",
              "      <td>13.70</td>\n",
              "      <td>29.07</td>\n",
              "      <td>3.62</td>\n",
              "      <td>1.10</td>\n",
              "      <td>4.04</td>\n",
              "      <td>3.33</td>\n",
              "    </tr>\n",
              "    <tr>\n",
              "      <th>30</th>\n",
              "      <td>1</td>\n",
              "      <td>52.68</td>\n",
              "      <td>14.38</td>\n",
              "      <td>25.72</td>\n",
              "      <td>3.26</td>\n",
              "      <td>0.93</td>\n",
              "      <td>3.96</td>\n",
              "      <td>3.05</td>\n",
              "    </tr>\n",
              "    <tr>\n",
              "      <th>31</th>\n",
              "      <td>1</td>\n",
              "      <td>48.53</td>\n",
              "      <td>13.14</td>\n",
              "      <td>30.38</td>\n",
              "      <td>3.55</td>\n",
              "      <td>0.99</td>\n",
              "      <td>4.40</td>\n",
              "      <td>3.44</td>\n",
              "    </tr>\n",
              "    <tr>\n",
              "      <th>32</th>\n",
              "      <td>1</td>\n",
              "      <td>50.19</td>\n",
              "      <td>13.78</td>\n",
              "      <td>28.39</td>\n",
              "      <td>3.56</td>\n",
              "      <td>1.00</td>\n",
              "      <td>4.08</td>\n",
              "      <td>3.27</td>\n",
              "    </tr>\n",
              "    <tr>\n",
              "      <th>33</th>\n",
              "      <td>1</td>\n",
              "      <td>50.67</td>\n",
              "      <td>13.21</td>\n",
              "      <td>27.66</td>\n",
              "      <td>3.64</td>\n",
              "      <td>1.00</td>\n",
              "      <td>4.82</td>\n",
              "      <td>3.21</td>\n",
              "    </tr>\n",
              "    <tr>\n",
              "      <th>...</th>\n",
              "      <td>...</td>\n",
              "      <td>...</td>\n",
              "      <td>...</td>\n",
              "      <td>...</td>\n",
              "      <td>...</td>\n",
              "      <td>...</td>\n",
              "      <td>...</td>\n",
              "      <td>...</td>\n",
              "    </tr>\n",
              "    <tr>\n",
              "      <th>114</th>\n",
              "      <td>3</td>\n",
              "      <td>46.28</td>\n",
              "      <td>21.51</td>\n",
              "      <td>25.44</td>\n",
              "      <td>4.58</td>\n",
              "      <td>0.60</td>\n",
              "      <td>2.19</td>\n",
              "      <td>3.24</td>\n",
              "    </tr>\n",
              "    <tr>\n",
              "      <th>115</th>\n",
              "      <td>3</td>\n",
              "      <td>46.29</td>\n",
              "      <td>21.43</td>\n",
              "      <td>26.00</td>\n",
              "      <td>4.71</td>\n",
              "      <td>0.69</td>\n",
              "      <td>1.57</td>\n",
              "      <td>3.26</td>\n",
              "    </tr>\n",
              "    <tr>\n",
              "      <th>116</th>\n",
              "      <td>3</td>\n",
              "      <td>47.03</td>\n",
              "      <td>20.84</td>\n",
              "      <td>25.68</td>\n",
              "      <td>4.52</td>\n",
              "      <td>0.69</td>\n",
              "      <td>1.93</td>\n",
              "      <td>3.22</td>\n",
              "    </tr>\n",
              "    <tr>\n",
              "      <th>117</th>\n",
              "      <td>3</td>\n",
              "      <td>46.80</td>\n",
              "      <td>20.70</td>\n",
              "      <td>25.10</td>\n",
              "      <td>4.55</td>\n",
              "      <td>0.70</td>\n",
              "      <td>2.85</td>\n",
              "      <td>3.20</td>\n",
              "    </tr>\n",
              "    <tr>\n",
              "      <th>118</th>\n",
              "      <td>3</td>\n",
              "      <td>52.19</td>\n",
              "      <td>26.00</td>\n",
              "      <td>16.64</td>\n",
              "      <td>4.17</td>\n",
              "      <td>0.61</td>\n",
              "      <td>1.00</td>\n",
              "      <td>2.58</td>\n",
              "    </tr>\n",
              "  </tbody>\n",
              "</table>\n",
              "<p>63 rows × 8 columns</p>\n",
              "</div>"
            ],
            "text/plain": [
              "     brand   mois   prot    fat   ash  sodium  carb   cal\n",
              "29       1  49.57  13.70  29.07  3.62    1.10  4.04  3.33\n",
              "30       1  52.68  14.38  25.72  3.26    0.93  3.96  3.05\n",
              "31       1  48.53  13.14  30.38  3.55    0.99  4.40  3.44\n",
              "32       1  50.19  13.78  28.39  3.56    1.00  4.08  3.27\n",
              "33       1  50.67  13.21  27.66  3.64    1.00  4.82  3.21\n",
              "..     ...    ...    ...    ...   ...     ...   ...   ...\n",
              "114      3  46.28  21.51  25.44  4.58    0.60  2.19  3.24\n",
              "115      3  46.29  21.43  26.00  4.71    0.69  1.57  3.26\n",
              "116      3  47.03  20.84  25.68  4.52    0.69  1.93  3.22\n",
              "117      3  46.80  20.70  25.10  4.55    0.70  2.85  3.20\n",
              "118      3  52.19  26.00  16.64  4.17    0.61  1.00  2.58\n",
              "\n",
              "[63 rows x 8 columns]"
            ]
          },
          "metadata": {
            "tags": []
          },
          "execution_count": 87
        }
      ]
    },
    {
      "cell_type": "code",
      "metadata": {
        "id": "9zyrbICJ5lNc"
      },
      "source": [
        "pca = PCA(n_components=2) #ต้องการเปรียบเทียบ brand แค่ 2 brand จึงใช้แค่ 2 dimansion\n",
        "new_pca2 = pca.fit_transform(bb.iloc[:,1:].to_numpy())"
      ],
      "execution_count": 88,
      "outputs": []
    },
    {
      "cell_type": "code",
      "metadata": {
        "colab": {
          "base_uri": "https://localhost:8080/",
          "height": 282
        },
        "id": "8HHG3E4L5sPE",
        "outputId": "7bac3852-d5a1-4cf2-d4ee-88195b994c1b"
      },
      "source": [
        "plt.scatter(new_pca2[:,0],new_pca2[:,1],c = bb['brand'],alpha=0.5)"
      ],
      "execution_count": 89,
      "outputs": [
        {
          "output_type": "execute_result",
          "data": {
            "text/plain": [
              "<matplotlib.collections.PathCollection at 0x7efd233bf1d0>"
            ]
          },
          "metadata": {
            "tags": []
          },
          "execution_count": 89
        },
        {
          "output_type": "display_data",
          "data": {
            "image/png": "[encoded data removed]",
            "text/plain": [
              "<Figure size 432x288 with 1 Axes>"
            ]
          },
          "metadata": {
            "tags": [],
            "needs_background": "light"
          }
        }
      ]
    },
    {
      "cell_type": "code",
      "metadata": {
        "id": "Z0xn4pSW545T"
      },
      "source": [
        "BrandB_pca = pca.transform(bb[bb['brand']==1].iloc[:,1:].to_numpy())\n",
        "BrandD_pca = pca.transform(bb[bb['brand']==3].iloc[:,1:].to_numpy())"
      ],
      "execution_count": 90,
      "outputs": []
    },
    {
      "cell_type": "code",
      "metadata": {
        "colab": {
          "base_uri": "https://localhost:8080/",
          "height": 282
        },
        "id": "H_5KAVSG6Rgu",
        "outputId": "1db00a7c-536f-4971-b755-637a042c312f"
      },
      "source": [
        "plt.plot(BrandB_pca[:,0],BrandB_pca[:,1],'*r',alpha=0.5,label='BD_B')\n",
        "plt.plot(BrandD_pca[:,0],BrandD_pca[:,1],'og',alpha=0.5,label='BD_D')\n",
        "plt.legend()"
      ],
      "execution_count": 91,
      "outputs": [
        {
          "output_type": "execute_result",
          "data": {
            "text/plain": [
              "<matplotlib.legend.Legend at 0x7efd25c50d10>"
            ]
          },
          "metadata": {
            "tags": []
          },
          "execution_count": 91
        },
        {
          "output_type": "display_data",
          "data": {
            "image/png": "[encoded data removed]",
            "text/plain": [
              "<Figure size 432x288 with 1 Axes>"
            ]
          },
          "metadata": {
            "tags": [],
            "needs_background": "light"
          }
        }
      ]
    },
    {
      "cell_type": "markdown",
      "metadata": {
        "id": "kXCKbsd_6lt-"
      },
      "source": [
        "###2 Principle components เป็นตัวแทนของข้อมูลได้ดีแค่ไหน"
      ]
    },
    {
      "cell_type": "code",
      "metadata": {
        "colab": {
          "base_uri": "https://localhost:8080/"
        },
        "id": "rLkaUzPE6d7B",
        "outputId": "c1a18562-3b36-46b2-c2d6-d8070c01d2ae"
      },
      "source": [
        "pca.explained_variance_ratio_"
      ],
      "execution_count": 92,
      "outputs": [
        {
          "output_type": "execute_result",
          "data": {
            "text/plain": [
              "array([0.81386221, 0.13352369])"
            ]
          },
          "metadata": {
            "tags": []
          },
          "execution_count": 92
        }
      ]
    },
    {
      "cell_type": "markdown",
      "metadata": {
        "id": "Ge6ELfmH6uDl"
      },
      "source": [
        "###การใส่ชื่อกราฟ และ แกน"
      ]
    },
    {
      "cell_type": "code",
      "metadata": {
        "colab": {
          "base_uri": "https://localhost:8080/",
          "height": 295
        },
        "id": "0sWPSmCb6qRn",
        "outputId": "d7052cba-c920-4167-8bfb-afe91590a5c2"
      },
      "source": [
        "plt.plot(BrandB_pca[:,0],BrandB_pca[:,1],'*r',alpha=0.5,label='BD_B')\n",
        "plt.plot(BrandD_pca[:,0],BrandD_pca[:,1],'og',alpha=0.5,label='BD_D')\n",
        "plt.legend()\n",
        "plt.title('comparison of nutritions between Brand D VS Brand F with PCA') #ตั้งชื่อกราฟ\n",
        "plt.xlabel('PC1 (81.39%)') #ชื่อแกน X\n",
        "plt.ylabel('PC2 (13.35%)'); #ชื่อแกน Y"
      ],
      "execution_count": 93,
      "outputs": [
        {
          "output_type": "display_data",
          "data": {
            "image/png": "[encoded data removed]",
            "text/plain": [
              "<Figure size 432x288 with 1 Axes>"
            ]
          },
          "metadata": {
            "tags": [],
            "needs_background": "light"
          }
        }
      ]
    },
    {
      "cell_type": "markdown",
      "metadata": {
        "id": "o67BJRWjDDfh"
      },
      "source": [
        "component ที่เหมาะสมที่ถูกเลือกมาใช้จะครอบคลุม variance ประมาณ 80-90% ซึ่งจากที่เปรียบเทียบสารอาหารระหว่าง Brand B กับ Brand D แล้ว PC1 + PC2 บวกกันได้ 94.74% ซึ่งสามารถอธิบายได้ครอบคลุม"
      ]
    },
    {
      "cell_type": "code",
      "metadata": {
        "id": "3OoaF1hcQ2F_"
      },
      "source": [
        ""
      ],
      "execution_count": null,
      "outputs": []
    }
  ]
}